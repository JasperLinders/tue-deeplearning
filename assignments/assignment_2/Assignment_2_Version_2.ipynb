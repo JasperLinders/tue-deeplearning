{
  "cells": [
    {
      "attachments": {},
      "cell_type": "markdown",
      "id": "d32f8d18",
      "metadata": {
        "id": "d32f8d18"
      },
      "source": [
        "# Group Details\n",
        "\n",
        "## Group Name: Group 08\n",
        "\n",
        "### Student 1: Jasper Linders\n",
        "\n",
        "### Student 2: Alexander Liu\n",
        "\n",
        "### Student 3: Sjoerd van Straten"
      ]
    },
    {
      "attachments": {},
      "cell_type": "markdown",
      "id": "faec2056",
      "metadata": {
        "id": "faec2056"
      },
      "source": [
        "# Loading Data and Preliminaries"
      ]
    },
    {
      "cell_type": "code",
      "execution_count": 1,
      "id": "7d0580a5",
      "metadata": {
        "id": "7d0580a5"
      },
      "outputs": [],
      "source": [
        "import matplotlib.pyplot as plt\n",
        "import matplotlib\n",
        "import numpy as np"
      ]
    },
    {
      "cell_type": "code",
      "execution_count": 2,
      "id": "mom5nRqivEiR",
      "metadata": {
        "id": "mom5nRqivEiR"
      },
      "outputs": [],
      "source": [
        "import torch\n",
        "import torch.nn as nn\n",
        "import torch.nn.functional as F"
      ]
    },
    {
      "cell_type": "code",
      "execution_count": 3,
      "id": "b0756591",
      "metadata": {
        "id": "b0756591"
      },
      "outputs": [],
      "source": [
        "def load_array(filename, task):\n",
        "    datapoint = np.load(filename)\n",
        "    if task == 'task 1':\n",
        "        initial_state = datapoint['initial_state']\n",
        "        terminal_state = datapoint['terminal_state']\n",
        "        return initial_state, terminal_state\n",
        "    elif task == 'task 2' or task == 'task 3':\n",
        "        whole_trajectory = datapoint['trajectory']\n",
        "        # change shape: (num_bodies, attributes, time) ->  num_bodies, time, attributes\n",
        "        whole_trajectory = np.swapaxes(whole_trajectory, 1, 2)\n",
        "        initial_state = whole_trajectory[:, 0]\n",
        "        target = whole_trajectory[:, 1:, 1:]  # drop the first timepoint (second dim) and mass (last dim) for the prediction task\n",
        "        return initial_state, target\n",
        "    else:\n",
        "        raise NotImplementedError(\"'task' argument should be 'task 1', 'task 2' or 'task 3'!\")\n"
      ]
    },
    {
      "cell_type": "code",
      "execution_count": 4,
      "id": "bb77a4be",
      "metadata": {
        "colab": {
          "base_uri": "https://localhost:8080/"
        },
        "id": "bb77a4be",
        "outputId": "87b55db3-1db0-4537-98c5-50132690a0da"
      },
      "outputs": [
        {
          "name": "stdout",
          "output_type": "stream",
          "text": [
            "shape of initial state (model input): (8, 5)\n",
            "shape of terminal state (to be predicted by model): (8, 2)\n",
            "The initial x-coordinate of the body with index 2 in this trajectory was -5.159721083543527\n"
          ]
        }
      ],
      "source": [
        "\"\"\"\n",
        "This cell gives an example of loading a datapoint with numpy for task 1.\n",
        "\n",
        "The arrays returned by the function are structures as follows:\n",
        "initial_state: shape (n_bodies, [mass, x, y, v_x, v_y])\n",
        "terminal_state: shape (n_bodies, [x, y])\n",
        "\n",
        "\"\"\"\n",
        "example = load_array('data/task 1/train/trajectory_0.npz', task='task 1')\n",
        "\n",
        "initial_state, terminal_state = example\n",
        "print(f'shape of initial state (model input): {initial_state.shape}')\n",
        "print(f'shape of terminal state (to be predicted by model): {terminal_state.shape}')\n",
        "\n",
        "body_idx = 2\n",
        "print(f'The initial x-coordinate of the body with index {body_idx} in this trajectory was {initial_state[body_idx, 1]}')"
      ]
    },
    {
      "cell_type": "code",
      "execution_count": 5,
      "id": "1c3ea4cb",
      "metadata": {
        "colab": {
          "base_uri": "https://localhost:8080/"
        },
        "id": "1c3ea4cb",
        "outputId": "45b5f08e-56ce-4868-eb93-ea22a551f360"
      },
      "outputs": [
        {
          "name": "stdout",
          "output_type": "stream",
          "text": [
            "shape of initial state (model input): (8, 5)\n",
            "shape of terminal state (to be predicted by model): (8, 49, 4)\n",
            "The y-coordinate of the body with index 2 at time with index 30 in remaining_trajectory was -0.3861544940435097\n",
            "the shape of the input of a test data example is (8, 5)\n",
            "the shape of the target of a test data example is (8, 49, 4)\n",
            "values of the test data example at time 30:\n",
            " [[-5.85725792 -5.394571           nan         nan]\n",
            " [-6.03781257 -5.72445953         nan         nan]\n",
            " [-0.90623054 -6.93416278         nan         nan]\n",
            " [ 2.83149339 -7.50100819         nan         nan]\n",
            " [-2.85586881  1.77667501         nan         nan]\n",
            " [ 4.04424526  4.00563603         nan         nan]\n",
            " [-5.24887713 -4.83081005         nan         nan]\n",
            " [-5.81391023 -5.1109838          nan         nan]]\n",
            "note: velocity values are unobserved (NaNs) in the test data!\n"
          ]
        }
      ],
      "source": [
        "\"\"\"\n",
        "This cell gives an example of loading a datapoint with numpy for task 2 / 3.\n",
        "\n",
        "The arrays returned by the function are structures as follows:\n",
        "initial_state: shape (n_bodies, [mass, x, y, v_x, v_y])\n",
        "remaining_trajectory: shape (n_bodies, time, [x, y, v_x, v_y])\n",
        "\n",
        "Note that for this task, you are asked to evaluate performance only with regard to the predictions of the positions (x and y).\n",
        "If you use the velocity of the remaining trajectory for training,\n",
        "this use should be purely auxiliary for the goal of predicting the positions [x,y] over time.\n",
        "While testing performance of your model on the test set, you do not have access to v_x and v_y of the remaining trajectory.\n",
        "\n",
        "\"\"\"\n",
        "\n",
        "example = load_array('data/task 2_3/train/trajectory_0.npz', task='task 2')\n",
        "\n",
        "initial_state, remaining_trajectory = example\n",
        "print(f'shape of initial state (model input): {initial_state.shape}')\n",
        "print(f'shape of terminal state (to be predicted by model): {remaining_trajectory.shape}')\n",
        "\n",
        "body_idx = 2\n",
        "time_idx = 30\n",
        "print(f'The y-coordinate of the body with index {body_idx} at time with index {time_idx} in remaining_trajectory was {remaining_trajectory[body_idx, time_idx, 1]}')\n",
        "\n",
        "test_example = load_array('data/task 2_3/test/trajectory_900.npz', task='task 3')\n",
        "test_initial_state, test_remaining_trajectory = test_example\n",
        "print(f'the shape of the input of a test data example is {test_initial_state.shape}')\n",
        "print(f'the shape of the target of a test data example is {test_remaining_trajectory.shape}')\n",
        "print(f'values of the test data example at time {time_idx}:\\n {test_remaining_trajectory[:, time_idx]}')\n",
        "print('note: velocity values are unobserved (NaNs) in the test data!')"
      ]
    },
    {
      "attachments": {},
      "cell_type": "markdown",
      "id": "059b633c",
      "metadata": {
        "id": "059b633c"
      },
      "source": [
        "# Data Handling and Preprocessing"
      ]
    },
    {
      "cell_type": "code",
      "execution_count": 63,
      "id": "usUER0gM6OOM",
      "metadata": {
        "colab": {
          "base_uri": "https://localhost:8080/"
        },
        "id": "usUER0gM6OOM",
        "outputId": "ff5b16b2-f9eb-498a-9a34-a5032063d39d"
      },
      "outputs": [
        {
          "name": "stdout",
          "output_type": "stream",
          "text": [
            "torch.Size([900, 9, 5])\n",
            "torch.Size([900, 9, 2])\n",
            "torch.Size([100, 9, 5])\n",
            "torch.Size([100, 9, 2])\n"
          ]
        }
      ],
      "source": [
        "import os\n",
        "from torch.utils.data import Dataset\n",
        "\n",
        "class ImportData(Dataset):\n",
        "    def __init__(self, folder_path):\n",
        "        self.folder_path = folder_path\n",
        "        self.file_list = sorted(os.listdir(folder_path))\n",
        "\n",
        "    def __len__(self):\n",
        "        return len(self.file_list)\n",
        "\n",
        "    def __getitem__(self, index):\n",
        "        file_name = self.file_list[index]\n",
        "        file_path = os.path.join(self.folder_path, file_name)\n",
        "        data, label = load_array(file_path, task='task 1')\n",
        "        return data, label\n",
        "\n",
        "# Create an instance of the custom dataset class with the folder path\n",
        "train_import = ImportData('data/task 1/train/')\n",
        "test_import = ImportData('data/task 1/test/')\n",
        "\n",
        "X_train_import = []\n",
        "y_train_import = []\n",
        "X_test_import = []\n",
        "y_test_import = []\n",
        "\n",
        "# Iterate through the train_dataset to extract data and labels\n",
        "for data, label in train_import:\n",
        "    X_train_import.append(data)\n",
        "    y_train_import.append(label)\n",
        "\n",
        "for data, label in test_import:\n",
        "    X_test_import.append(data)\n",
        "    y_test_import.append(label)\n",
        "\n",
        "max_length = 9\n",
        "\n",
        "# Pad the data samples with zeros to have the same shape\n",
        "X_train_padded = []\n",
        "for data in X_train_import:\n",
        "    pad_width = max_length - data.shape[0]\n",
        "    padded_data = np.pad(data, ((0, pad_width), (0, 0)), mode='constant')\n",
        "    X_train_padded.append(padded_data)\n",
        "\n",
        "y_train_padded = []\n",
        "for label in y_train_import:\n",
        "    pad_width = max_length - label.shape[0]\n",
        "    padded_label = np.pad(label, ((0, pad_width), (0, 0)), mode='constant')\n",
        "    y_train_padded.append(padded_label)\n",
        "\n",
        "X_test_padded = []\n",
        "for data in X_test_import:\n",
        "    pad_width = max_length - data.shape[0]\n",
        "    padded_data = np.pad(data, ((0, pad_width), (0, 0)), mode='constant')\n",
        "    X_test_padded.append(padded_data)\n",
        "\n",
        "y_test_padded = []\n",
        "for label in y_test_import:\n",
        "    pad_width = max_length - label.shape[0]\n",
        "    padded_label = np.pad(label, ((0, pad_width), (0, 0)), mode='constant')\n",
        "    y_test_padded.append(padded_label)\n",
        "\n",
        "# Convert the padded data and labels to tensors\n",
        "X_train = torch.tensor(np.array(X_train_padded))\n",
        "y_train = torch.tensor(np.array(y_train_padded))\n",
        "X_test = torch.tensor(np.array(X_test_padded))\n",
        "y_test = torch.tensor(np.array(y_test_padded))\n",
        "\n",
        "# Print the shape of X_train and the first label in y_train\n",
        "print(X_train.shape)\n",
        "print(y_train.shape)\n",
        "print(X_test.shape)\n",
        "print(y_test.shape)"
      ]
    },
    {
      "cell_type": "code",
      "execution_count": 7,
      "id": "WTW_fnFoefoU",
      "metadata": {
        "id": "WTW_fnFoefoU"
      },
      "outputs": [],
      "source": [
        "# import torch\n",
        "# from torch.utils.data import Dataset, DataLoader\n",
        "\n",
        "# # Function to process a single data point\n",
        "# def create_graph(data_point, label):\n",
        "\n",
        "#     #Create node features\n",
        "#     node_features = data_point  # Exclude the mass column\n",
        "\n",
        "#     # Compute edge indices\n",
        "#     edge_indices = []\n",
        "#     for i in range(9):\n",
        "#         for j in range(9):\n",
        "#             if i != j:\n",
        "#                 edge_indices.append([i, j])\n",
        "#     edge_indices = torch.tensor(edge_indices).t().contiguous()\n",
        "\n",
        "#     # Compute edge features\n",
        "#     edge_features = []\n",
        "#     for i in range(9):\n",
        "#         for j in range(9):\n",
        "#             if i != j:\n",
        "#                 pos = node_features[j] - node_features[i]\n",
        "#                 relative_position = torch.norm(pos)\n",
        "\n",
        "#                 relative_mass = node_features[j, 0] / node_features[i, 0]\n",
        "#                 if relative_mass == np.inf or relative_mass == 0:\n",
        "#                     relative_position = 0\n",
        "#                     relative_mass = 0\n",
        "\n",
        "#                 edge_features.append([relative_position])     #, relative_mass])\n",
        "#     edge_features = torch.FloatTensor(edge_features)\n",
        "\n",
        "#     data = Data(x=node_features, edge_index=edge_indices, edge_attr=edge_features, y=label)\n",
        "\n",
        "#     return data"
      ]
    },
    {
      "attachments": {},
      "cell_type": "markdown",
      "id": "8eebcb78",
      "metadata": {},
      "source": [
        "$$ F_g = G*\\frac{(m_1*m_2)}{r^2} $$"
      ]
    },
    {
      "cell_type": "code",
      "execution_count": 57,
      "id": "d743d145",
      "metadata": {},
      "outputs": [],
      "source": [
        "import torch\n",
        "from torch_geometric.data import Data\n",
        "\n",
        "# Function to process a single data point\n",
        "def create_graph_Fg(data_points, labels):\n",
        "\n",
        "    # Select the desired columns using the mask\n",
        "    mask = np.ones(data_points.shape[1], dtype=bool)\n",
        "    mask[[1,2]] = False\n",
        "    #Create node features\n",
        "    node_features = data_points\n",
        "    # Create node positions\n",
        "    node_positions = data_points[:,1:3]\n",
        "\n",
        "    # print(node_features)\n",
        "    # print(node_positions)\n",
        "\n",
        "    edge_indices = []\n",
        "    edge_features = []\n",
        "\n",
        "    for i in range(9):\n",
        "        for j in range(9):\n",
        "            if i != j:\n",
        "                # print(nodes[i])\n",
        "                # print(nodes[j])\n",
        "                pos = node_positions[j] - node_positions[i]\n",
        "                r_sq = torch.square(torch.norm(pos))        # Euclidian Distance\n",
        "                m_sq = node_features[i][0] * node_features[j][0]            # Masses multiplied\n",
        "                F_g = m_sq / r_sq                           # Gravitational Force\n",
        "                # print(F_g)\n",
        "\n",
        "                if F_g > 0:                               # Define when an edge can be created\n",
        "                    edge_indices.append([i, j])\n",
        "                    edge_features.append([m_sq, r_sq])\n",
        "                # edge_features.append([r_sq])\n",
        "\n",
        "    edge_indices = torch.tensor(edge_indices).t().contiguous()\n",
        "    edge_features = torch.FloatTensor(edge_features)\n",
        "\n",
        "    data = Data(x=node_features, pos=node_positions, edge_index=edge_indices, edge_attr=edge_features, y=labels)\n",
        "\n",
        "    return data"
      ]
    },
    {
      "cell_type": "code",
      "execution_count": 58,
      "id": "f282ee02",
      "metadata": {},
      "outputs": [
        {
          "data": {
            "text/plain": [
              "tensor([[0, 0, 0, 0, 1, 1, 1, 1, 2, 2, 2, 2, 3, 3, 3, 3, 4, 4, 4, 4],\n",
              "        [1, 2, 3, 4, 0, 2, 3, 4, 0, 1, 3, 4, 0, 1, 2, 4, 0, 1, 2, 3]])"
            ]
          },
          "execution_count": 58,
          "metadata": {},
          "output_type": "execute_result"
        }
      ],
      "source": [
        "import random\n",
        "idx = random.randint(0, len(X_train)-1)\n",
        "ok = create_graph_Fg(X_train[idx], y_train[idx])\n",
        "# print(X_train[idx])\n",
        "ok.edge_index"
      ]
    },
    {
      "cell_type": "code",
      "execution_count": 59,
      "id": "089f94f1",
      "metadata": {},
      "outputs": [
        {
          "data": {
            "image/png": "[encoded data removed]",
            "text/plain": [
              "<Figure size 640x480 with 1 Axes>"
            ]
          },
          "metadata": {},
          "output_type": "display_data"
        }
      ],
      "source": [
        "import networkx as nx\n",
        "import torch_geometric\n",
        "\n",
        "edge_index = ok.edge_index\n",
        "edge_attr = ok.edge_attr\n",
        "# print(edge_attr)\n",
        "x = ok.x\n",
        "\n",
        "data = ok\n",
        "g = torch_geometric.utils.to_networkx(data, to_undirected=True)\n",
        "nx.draw(g)"
      ]
    },
    {
      "cell_type": "code",
      "execution_count": 60,
      "id": "f47f92fb",
      "metadata": {},
      "outputs": [],
      "source": [
        "from torch_geometric.loader import DataLoader\n",
        "\n",
        "# Load train data into a list of Data objects\n",
        "train_graphs_lst = []\n",
        "for i in range(len(X_train)):\n",
        "    train_graphs_lst.append(create_graph_Fg(X_train[i], y_train[i]))\n",
        "\n",
        "# Create train DataLoader\n",
        "train_dataloader = DataLoader(train_graphs_lst, batch_size=1, shuffle=True)\n",
        "\n",
        "# Load test data into a list of Data objects\n",
        "test_graphs_lst = []\n",
        "for i in range(len(X_test)):\n",
        "    test_graphs_lst.append(create_graph_Fg(X_test[i], y_test[i]))\n",
        "\n",
        "# Create test DataLoader\n",
        "test_dataloader = DataLoader(test_graphs_lst, batch_size=1, shuffle=False)"
      ]
    },
    {
      "cell_type": "code",
      "execution_count": 61,
      "id": "e9b9a698",
      "metadata": {},
      "outputs": [
        {
          "name": "stdout",
          "output_type": "stream",
          "text": [
            "FIRST 3 BATCHES IN TRAIN LOADER:\n",
            "________________________________\n",
            "\n",
            "DataBatch(x=[9, 5], edge_index=[2, 30], edge_attr=[30, 2], y=[9, 2], pos=[9, 2], batch=[9], ptr=[2])\n",
            "Num graphs: 1 \n",
            "\n",
            "DataBatch(x=[9, 5], edge_index=[2, 42], edge_attr=[42, 2], y=[9, 2], pos=[9, 2], batch=[9], ptr=[2])\n",
            "Num graphs: 1 \n",
            "\n",
            "DataBatch(x=[9, 5], edge_index=[2, 30], edge_attr=[30, 2], y=[9, 2], pos=[9, 2], batch=[9], ptr=[2])\n",
            "Num graphs: 1 \n",
            "\n",
            ".....\n"
          ]
        }
      ],
      "source": [
        "print('FIRST 3 BATCHES IN TRAIN LOADER:\\n________________________________\\n')\n",
        "\n",
        "cnt = 0\n",
        "for batch in train_dataloader:\n",
        "    if cnt < 3:\n",
        "        print(batch)\n",
        "        print('Num graphs:', batch.num_graphs, '\\n')\n",
        "    cnt += 1\n",
        "    batch1 = batch\n",
        "\n",
        "print('.....')"
      ]
    },
    {
      "attachments": {},
      "cell_type": "markdown",
      "id": "18b2874d",
      "metadata": {
        "id": "18b2874d"
      },
      "source": [
        "# Model Implementation"
      ]
    },
    {
      "cell_type": "code",
      "execution_count": 33,
      "id": "7bfdeea9",
      "metadata": {},
      "outputs": [],
      "source": [
        "class MLP(nn.Module):\n",
        "    def __init__(self, input_dim, hid_dims, out_dim):\n",
        "        super(MLP, self).__init__()\n",
        "\n",
        "        self.mlp = nn.Sequential()\n",
        "        dims = [input_dim] + hid_dims + [out_dim]\n",
        "        for i in range(len(dims)-1):\n",
        "            self.mlp.add_module('layer_{}'.format(i),nn.Linear(in_features=dims[i], out_features=dims[i+1]))\n",
        "            if i+2 < len(dims):\n",
        "                self.mlp.add_module('activation_{}'.format(i), nn.ReLU())\n",
        "\n",
        "    def reset_parameters(self):\n",
        "        for i, l in enumerate(self.mlp):\n",
        "            if type(l) == nn.Linear:\n",
        "                nn.init.xavier_normal_(l.weight)\n",
        "\n",
        "    def forward(self, x):\n",
        "        return self.mlp(x)"
      ]
    },
    {
      "cell_type": "code",
      "execution_count": 42,
      "id": "f8a4c557",
      "metadata": {},
      "outputs": [],
      "source": [
        "from torch_geometric.nn.conv import GatedGraphConv\n",
        "from torch_geometric.nn import aggr\n",
        "\n",
        "class GGNN(torch.nn.Module):\n",
        "    def __init__(self):\n",
        "        super(GGNN, self).__init__()\n",
        "        \n",
        "        self.conv = GatedGraphConv(out_channels=128, num_layers=5, aggr=aggr.SoftmaxAggregation(learn=True))\n",
        "        self.mlp = MLP(128, [32, 32, 32], 2)\n",
        "        self.dropout = nn.Dropout(0.4)\n",
        "        self.norm = nn.BatchNorm1d(3)\n",
        "        \n",
        "    def forward(self, graph):\n",
        "        x = self.norm(graph.x)\n",
        "        x = self.conv(x, graph.edge_index)\n",
        "        x = self.mlp(x)\n",
        "        x = self.dropout(x)\n",
        "        return x"
      ]
    },
    {
      "cell_type": "code",
      "execution_count": 50,
      "id": "c1641227",
      "metadata": {},
      "outputs": [],
      "source": [
        "from torch_geometric.nn.conv import GATConv\n",
        "from torch_geometric.nn import aggr\n",
        "\n",
        "class GATN(torch.nn.Module):\n",
        "    def __init__(self):\n",
        "        super(GATN, self).__init__()\n",
        "        \n",
        "        self.conv = GATConv(in_channels=-1, out_channels=32, aggr=aggr.SumAggregation(), edge_dim=1)\n",
        "        self.mlp = MLP(self.conv.out_channels, [32, 32, 32], 2)\n",
        "        self.dropout = nn.Dropout(0.4)\n",
        "        self.norm = nn.BatchNorm1d(5)\n",
        "        \n",
        "    def forward(self, graph):\n",
        "        x = self.norm(graph.x)\n",
        "        x = self.conv(x, graph.edge_index)\n",
        "        x = self.mlp(x)\n",
        "        x = self.dropout(x)\n",
        "        return x"
      ]
    },
    {
      "cell_type": "code",
      "execution_count": 115,
      "id": "8a216141",
      "metadata": {},
      "outputs": [],
      "source": [
        "from torch_geometric.nn.conv import ResGatedGraphConv\n",
        "from torch_geometric.nn import aggr\n",
        "\n",
        "class GATRN(torch.nn.Module):\n",
        "    def __init__(self):\n",
        "        super(GATRN, self).__init__()\n",
        "        \n",
        "        self.conv = ResGatedGraphConv(in_channels=-1, out_channels=32, aggr='mean', edge_dim=1)\n",
        "        self.mlp = MLP(self.conv.out_channels, [32, 32, 32], 2)\n",
        "        self.dropout = nn.Dropout(0.4)\n",
        "        self.norm = nn.BatchNorm1d(5)\n",
        "        \n",
        "    def forward(self, graph):\n",
        "        x = self.norm(graph.x)\n",
        "        x = self.conv(x, graph.edge_index)\n",
        "        x = self.mlp(x)\n",
        "        x = self.dropout(x)\n",
        "        return x"
      ]
    },
    {
      "cell_type": "code",
      "execution_count": 116,
      "id": "43f32cf5",
      "metadata": {},
      "outputs": [],
      "source": [
        "from collections import namedtuple\n",
        "\n",
        "device = torch.device('cuda')\n",
        "\n",
        "model = GATRN().double().to(device)\n",
        "optimizer = torch.optim.Adam(model.parameters(), lr=1e-3)\n",
        "loss_fn = nn.MSELoss()\n",
        "\n",
        "def train(train_graph):\n",
        "    model.train()\n",
        "    optimizer.zero_grad()\n",
        "    train_pred = model(train_graph)\n",
        "    train_loss = loss_fn(train_pred, train_graph.y)\n",
        "    train_loss.backward()\n",
        "    optimizer.step()\n",
        "    return train_pred, train_loss\n",
        "\n",
        "def test(test_graph):\n",
        "    model.eval()\n",
        "    test_pred = model(test_graph)\n",
        "    test_loss = loss_fn(test_pred, test_graph.y)\n",
        "    return test_pred, test_loss"
      ]
    },
    {
      "cell_type": "code",
      "execution_count": 127,
      "id": "9f4f3318",
      "metadata": {},
      "outputs": [
        {
          "name": "stdout",
          "output_type": "stream",
          "text": [
            "Epoch: 0, Train Loss: 8.549543048994629, Test Loss: 11.210747743849948\n",
            "Epoch: 1, Train Loss: 10.408939658658866, Test Loss: 12.97105683952424\n",
            "Epoch: 2, Train Loss: 8.343722783228277, Test Loss: 12.580617148930745\n",
            "Epoch: 3, Train Loss: 10.570611260598769, Test Loss: 11.416544300187073\n",
            "Epoch: 4, Train Loss: 11.571624556731551, Test Loss: 11.346667467524615\n",
            "Epoch: 5, Train Loss: 9.865191989556328, Test Loss: 11.257426173227218\n",
            "Epoch: 6, Train Loss: 9.531448232283996, Test Loss: 11.985636175343307\n",
            "Epoch: 7, Train Loss: 7.0936446730635225, Test Loss: 11.900037072422746\n",
            "Epoch: 8, Train Loss: 11.283912381573153, Test Loss: 11.796236519021477\n",
            "Epoch: 9, Train Loss: 10.051698227777678, Test Loss: 11.140027816438206\n",
            "Epoch: 10, Train Loss: 10.471765076990211, Test Loss: 11.578872650393242\n",
            "Epoch: 11, Train Loss: 9.141137248875797, Test Loss: 12.133943033462925\n",
            "Epoch: 12, Train Loss: 9.517264894261261, Test Loss: 11.556390115085545\n",
            "Epoch: 13, Train Loss: 9.56269196654522, Test Loss: 11.725050796777714\n",
            "Epoch: 14, Train Loss: 9.567618329031696, Test Loss: 11.238457766031523\n",
            "Epoch: 15, Train Loss: 9.283184664784876, Test Loss: 10.152835576371388\n",
            "Epoch: 16, Train Loss: 9.272436544587597, Test Loss: 11.07382540302832\n",
            "Epoch: 17, Train Loss: 9.163466266297648, Test Loss: 10.749950654009892\n",
            "Epoch: 18, Train Loss: 8.611265497309807, Test Loss: 11.526801191913869\n",
            "Epoch: 19, Train Loss: 9.694774592991575, Test Loss: 11.48796576253262\n",
            "Epoch: 20, Train Loss: 11.656592672622372, Test Loss: 11.0667321348132\n",
            "Epoch: 21, Train Loss: 9.962616631489526, Test Loss: 10.659758829678418\n",
            "Epoch: 22, Train Loss: 8.676892735653812, Test Loss: 11.119405806410445\n",
            "Epoch: 23, Train Loss: 9.187875244622417, Test Loss: 11.07373108799839\n",
            "Epoch: 24, Train Loss: 8.266936366351453, Test Loss: 10.472864129170908\n",
            "Epoch: 25, Train Loss: 9.74769825080821, Test Loss: 11.934349414410194\n",
            "Epoch: 26, Train Loss: 9.050958782870692, Test Loss: 11.300221000818505\n",
            "Epoch: 27, Train Loss: 8.133961679835952, Test Loss: 10.32306233044405\n",
            "Epoch: 28, Train Loss: 9.915780600179094, Test Loss: 9.932467173815818\n",
            "Epoch: 29, Train Loss: 9.481510174737979, Test Loss: 9.985811577051221\n",
            "Epoch: 30, Train Loss: 8.530232481667321, Test Loss: 11.16640575555605\n",
            "Epoch: 31, Train Loss: 9.567440445508867, Test Loss: 9.898298993200196\n",
            "Epoch: 32, Train Loss: 9.362046848315305, Test Loss: 10.106662242074457\n",
            "Epoch: 33, Train Loss: 10.30015614786685, Test Loss: 11.297300877739705\n",
            "Epoch: 34, Train Loss: 10.427735743995676, Test Loss: 11.571160638842361\n",
            "Epoch: 35, Train Loss: 10.36340715496215, Test Loss: 11.672904884396866\n",
            "Epoch: 36, Train Loss: 9.245781486032289, Test Loss: 12.160673731871599\n",
            "Epoch: 37, Train Loss: 10.378380403167558, Test Loss: 12.100423365653832\n",
            "Epoch: 38, Train Loss: 9.611723211992109, Test Loss: 11.188490683757779\n",
            "Epoch: 39, Train Loss: 10.690879825401517, Test Loss: 10.55325714384667\n",
            "Epoch: 40, Train Loss: 9.774042039541477, Test Loss: 10.955579678113459\n",
            "Epoch: 41, Train Loss: 9.795068841338107, Test Loss: 12.163796369036188\n",
            "Epoch: 42, Train Loss: 8.66295999516561, Test Loss: 11.57925186690845\n",
            "Epoch: 43, Train Loss: 10.396200874089375, Test Loss: 11.34573005455839\n",
            "Epoch: 44, Train Loss: 9.560452406103797, Test Loss: 11.220057262840353\n",
            "Epoch: 45, Train Loss: 8.823329608767876, Test Loss: 11.974386840901344\n",
            "Epoch: 46, Train Loss: 22.969244910934652, Test Loss: 11.128657704466187\n",
            "Epoch: 47, Train Loss: 11.126465825352582, Test Loss: 12.385161203400394\n",
            "Epoch: 48, Train Loss: 20.76992951380999, Test Loss: 11.789509897126724\n",
            "Epoch: 49, Train Loss: 9.286187683203837, Test Loss: 12.130603219246531\n",
            "Epoch: 50, Train Loss: 9.654014549788554, Test Loss: 11.473905560822214\n",
            "Epoch: 51, Train Loss: 8.703175385148787, Test Loss: 12.035452363192915\n",
            "Epoch: 52, Train Loss: 10.008856584667283, Test Loss: 10.990611756441465\n",
            "Epoch: 53, Train Loss: 9.015889411555897, Test Loss: 10.565500084783235\n",
            "Epoch: 54, Train Loss: 10.230385115367797, Test Loss: 11.838029053439415\n",
            "Epoch: 55, Train Loss: 9.12050846919688, Test Loss: 12.429080181196353\n",
            "Epoch: 56, Train Loss: 10.585475942012051, Test Loss: 11.588430918856488\n",
            "Epoch: 57, Train Loss: 9.88441702828515, Test Loss: 11.524887402924032\n",
            "Epoch: 58, Train Loss: 9.065993952557578, Test Loss: 11.060276723577156\n",
            "Epoch: 59, Train Loss: 10.569537609175566, Test Loss: 10.248390407182669\n",
            "Epoch: 60, Train Loss: 10.63054472421471, Test Loss: 10.754926749220795\n",
            "Epoch: 61, Train Loss: 10.709113551806272, Test Loss: 10.814206558171179\n",
            "Epoch: 62, Train Loss: 21.358241955661143, Test Loss: 11.730239027606867\n",
            "Epoch: 63, Train Loss: 9.323920590790735, Test Loss: 11.966759508293048\n",
            "Epoch: 64, Train Loss: 8.992488238600913, Test Loss: 10.981274184372719\n",
            "Epoch: 65, Train Loss: 10.834422545850538, Test Loss: 11.433452761803652\n",
            "Epoch: 66, Train Loss: 10.554138324677968, Test Loss: 11.4811429748536\n",
            "Epoch: 67, Train Loss: 9.208876282026434, Test Loss: 11.214305850999668\n",
            "Epoch: 68, Train Loss: 9.784364639450663, Test Loss: 10.8990447250469\n",
            "Epoch: 69, Train Loss: 9.886299438917055, Test Loss: 10.965769469933237\n",
            "Epoch: 70, Train Loss: 9.929035919605873, Test Loss: 10.465177380829138\n",
            "Epoch: 71, Train Loss: 9.723450410325833, Test Loss: 10.92608736175454\n",
            "Epoch: 72, Train Loss: 11.10244755389171, Test Loss: 10.6643206388996\n",
            "Epoch: 73, Train Loss: 9.816361838633899, Test Loss: 11.787740153263869\n",
            "Epoch: 74, Train Loss: 9.164912253449613, Test Loss: 11.517676768179568\n",
            "Epoch: 75, Train Loss: 10.75152993752814, Test Loss: 11.493521961928643\n",
            "Epoch: 76, Train Loss: 9.533551898375814, Test Loss: 11.481535617909156\n",
            "Epoch: 77, Train Loss: 9.890132176452216, Test Loss: 10.169103269017496\n",
            "Epoch: 78, Train Loss: 8.554004616621407, Test Loss: 10.514637348882733\n",
            "Epoch: 79, Train Loss: 8.52638107573544, Test Loss: 12.345820067844057\n",
            "Epoch: 80, Train Loss: 8.344402991886342, Test Loss: 12.211439024047507\n",
            "Epoch: 81, Train Loss: 9.406598635598398, Test Loss: 11.554348630523046\n",
            "Epoch: 82, Train Loss: 8.92162122243454, Test Loss: 11.897486409494634\n",
            "Epoch: 83, Train Loss: 9.973542543351474, Test Loss: 11.65229401014697\n",
            "Epoch: 84, Train Loss: 9.463438209247666, Test Loss: 11.884734245597787\n",
            "Epoch: 85, Train Loss: 9.205623196674015, Test Loss: 12.279329113759765\n",
            "Epoch: 86, Train Loss: 9.687391223356636, Test Loss: 11.301481864968645\n",
            "Epoch: 87, Train Loss: 7.576470685361963, Test Loss: 11.922528597534837\n",
            "Epoch: 88, Train Loss: 10.294575353978606, Test Loss: 12.554221220575576\n",
            "Epoch: 89, Train Loss: 21.555204424224044, Test Loss: 11.94486677927012\n",
            "Epoch: 90, Train Loss: 9.473251481011895, Test Loss: 11.439438842625176\n",
            "Epoch: 91, Train Loss: 9.600031770810501, Test Loss: 11.73810901194603\n",
            "Epoch: 92, Train Loss: 8.7411584811638, Test Loss: 11.8258504971752\n",
            "Epoch: 93, Train Loss: 9.678785130068777, Test Loss: 11.521012307611521\n",
            "Epoch: 94, Train Loss: 9.834764845541793, Test Loss: 11.183756101858629\n",
            "Epoch: 95, Train Loss: 10.088663131269714, Test Loss: 12.52623011903452\n",
            "Epoch: 96, Train Loss: 9.309674457488121, Test Loss: 11.780239231930775\n",
            "Epoch: 97, Train Loss: 10.061050464607579, Test Loss: 11.674299553815368\n",
            "Epoch: 98, Train Loss: 10.197161136879643, Test Loss: 11.42111545765316\n",
            "Epoch: 99, Train Loss: 9.820729388025581, Test Loss: 11.402623433580956\n"
          ]
        }
      ],
      "source": [
        "GraphPred = namedtuple('GraphPred', ['graph', 'pred'])\n",
        "train_graph_preds = []\n",
        "test_graph_preds = []\n",
        "train_losses_lst = []\n",
        "test_losses_lst = []\n",
        "BATCH_SIZE = 32\n",
        "\n",
        "for epoch in range(100):\n",
        "    train_losses = 0\n",
        "    test_losses = 0\n",
        "\n",
        "    for batch in range(BATCH_SIZE):\n",
        "        train_graph = next(iter(train_dataloader)).to(device)\n",
        "        test_graph = next(iter(test_dataloader)).to(device)\n",
        "        train_pred, train_loss = train(train_graph)\n",
        "        test_pred, test_loss = test(test_graph)\n",
        "        train_losses += train_loss\n",
        "        test_losses += test_loss\n",
        "        train_graph_preds.append(GraphPred(train_graph, train_pred))\n",
        "        test_graph_preds.append(GraphPred(test_graph, test_pred))\n",
        "\n",
        "    avg_train_loss = train_losses/BATCH_SIZE\n",
        "    avg_test_loss = test_losses/BATCH_SIZE\n",
        "    train_losses_lst.append(avg_train_loss.cpu().detach().numpy())\n",
        "    test_losses_lst.append(avg_test_loss.cpu().detach().numpy())\n",
        "\n",
        "    print(f'Epoch: {epoch}, Train Loss: {avg_train_loss}, Test Loss: {avg_test_loss}')"
      ]
    },
    {
      "cell_type": "code",
      "execution_count": 129,
      "id": "2ce5190f",
      "metadata": {},
      "outputs": [
        {
          "data": {
            "image/png": "[encoded data removed]",
            "text/plain": [
              "<Figure size 640x480 with 1 Axes>"
            ]
          },
          "metadata": {},
          "output_type": "display_data"
        }
      ],
      "source": [
        "# write code to plot train and test losses\n",
        "plt.plot(train_losses_lst, label='train')\n",
        "plt.plot(test_losses_lst, label='test')\n",
        "plt.legend()\n",
        "plt.show()\n"
      ]
    },
    {
      "cell_type": "code",
      "execution_count": 130,
      "id": "487627f8",
      "metadata": {},
      "outputs": [],
      "source": [
        "# Point Prediction Visualization Function (created with help of GPT)\n",
        "\n",
        "import matplotlib.pyplot as plt\n",
        "from matplotlib.lines import Line2D\n",
        "\n",
        "def visualize_particles(particle_data):\n",
        "    num_particles = particle_data.shape[0]\n",
        "\n",
        "    # Prepare plot\n",
        "    fig, ax = plt.subplots()\n",
        "\n",
        "    # Plot particles\n",
        "    for i in range(num_particles):\n",
        "        mass = particle_data[i, 0]\n",
        "        initial_x = particle_data[i, 3]\n",
        "        initial_y = particle_data[i, 4]\n",
        "        final_x = particle_data[i, 5]\n",
        "        final_y = particle_data[i, 6]\n",
        "        predicted_final_x = particle_data[i, 7]\n",
        "        predicted_final_y = particle_data[i, 8]\n",
        "        initial_vx = particle_data[i, 1]\n",
        "        initial_vy = particle_data[i, 2]\n",
        "\n",
        "        # Plot initial position with particle number\n",
        "        ax.scatter(initial_x, initial_y, color=f'C{i}', s=mass*50, label=f'Particle {i+1}')\n",
        "        ax.text(initial_x, initial_y, str(i+1), color='white', ha='center', va='center')\n",
        "\n",
        "        # Plot final position with particle number and 'x'\n",
        "        ax.scatter(final_x, final_y, color=f'C{i}', marker='x')\n",
        "        ax.text(final_x, final_y, f'{i+1}', color='grey', ha='center', va='bottom')\n",
        "\n",
        "        # Plot predicted final position with 'x'\n",
        "        ax.scatter(predicted_final_x, predicted_final_y, color=f'C{i}', marker='x', alpha=0.3)\n",
        "\n",
        "        # Plot line connecting real and predicted final positions\n",
        "        ax.plot([final_x, predicted_final_x], [final_y, predicted_final_y], color=f'C{i}', linestyle='dotted', alpha=0.5)\n",
        "\n",
        "        # # Calculate position for particle number text\n",
        "        # text_x = (final_x + predicted_final_x) / 2\n",
        "        # text_y = (final_y + predicted_final_y) / 2 + 0.2\n",
        "\n",
        "        # # # Annotate particle number above the line\n",
        "        # # ax.annotate(f'{i+1}', (text_x, text_y), color=f'C{i}', ha='center', va='bottom')\n",
        "\n",
        "        # Plot velocity vector\n",
        "        ax.arrow(initial_x, initial_y, initial_vx, initial_vy, color=f'C{i}', head_width=0.2)\n",
        "\n",
        "    # Set labels and title\n",
        "    ax.set_xlabel('X-coordinate')\n",
        "    ax.set_ylabel('Y-coordinate')\n",
        "    ax.set_title('Point Prediction Visualization')\n",
        "\n",
        "    # Create custom legend handles and labels\n",
        "    legend_elements = [\n",
        "        Line2D([0], [0], marker='x', linestyle='None', color='k', label='Final Position'),\n",
        "        Line2D([0], [0], marker='x', linestyle='None', color='k', alpha=0.3, label='Predicted Final Position'),\n",
        "        Line2D([0], [0], marker='>', linestyle='None', color='k', label='Velocity Vector'),\n",
        "        Line2D([0], [0], marker='o', linestyle='None', color='k', label='Particle Number (Size ~ Mass)'),\n",
        "        Line2D([0], [0], color='k', linestyle='dotted', label='Difference Between Real and Pred')\n",
        "    ]\n",
        "    ax.legend(handles=legend_elements, bbox_to_anchor=(1, 1), loc='upper left')\n",
        "\n",
        "    # Show the plot\n",
        "    plt.show()"
      ]
    },
    {
      "cell_type": "code",
      "execution_count": 131,
      "id": "f887d530",
      "metadata": {},
      "outputs": [],
      "source": [
        "import random\n",
        "# randomly select a graph from the test set\n",
        "train_ex = random.choice(train_graph_preds)\n",
        "\n",
        "ex_attr, ex_pos, ex_pred, ex_y = train_ex.graph.x.cpu().numpy(), train_ex.graph.pos.cpu().numpy(), train_ex.pred.cpu().detach().numpy(), train_ex.graph.y.cpu().numpy()\n",
        "# mass = ex_x[:,0]\n",
        "# x1,y1 = ex_x[:,1], ex_x[:,2]\n",
        "# vx1,vy1 = ex_x[:,3], ex_x[:,4]\n",
        "x2,y2 = ex_y[:,0], ex_y[:,1]\n",
        "x2_pred,y2_pred = ex_pred[:,0], ex_pred[:,1]"
      ]
    },
    {
      "cell_type": "code",
      "execution_count": 132,
      "id": "b754958c",
      "metadata": {},
      "outputs": [],
      "source": [
        "# The arrays returned by the function are structures as follows:\n",
        "# initial_state: shape (n_bodies, [mass, x, y, v_x, v_y])\n",
        "# terminal_state: shape (n_bodies, [x, y])\n",
        "\n",
        "particle_data = np.c_[ex_attr, ex_pos, x2, y2, x2_pred, y2_pred]"
      ]
    },
    {
      "cell_type": "code",
      "execution_count": 133,
      "id": "07270d23",
      "metadata": {},
      "outputs": [
        {
          "data": {
            "image/png": "[encoded data removed]",
            "text/plain": [
              "<Figure size 640x480 with 1 Axes>"
            ]
          },
          "metadata": {},
          "output_type": "display_data"
        }
      ],
      "source": [
        "visualize_particles(particle_data)"
      ]
    }
  ],
  "metadata": {
    "colab": {
      "provenance": []
    },
    "kernelspec": {
      "display_name": "Python 3 (ipykernel)",
      "language": "python",
      "name": "python3"
    },
    "language_info": {
      "codemirror_mode": {
        "name": "ipython",
        "version": 3
      },
      "file_extension": ".py",
      "mimetype": "text/x-python",
      "name": "python",
      "nbconvert_exporter": "python",
      "pygments_lexer": "ipython3",
      "version": "3.10.10"
    }
  },
  "nbformat": 4,
  "nbformat_minor": 5
}
