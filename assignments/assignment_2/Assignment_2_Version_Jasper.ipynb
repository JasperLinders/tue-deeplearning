{
  "cells": [
    {
      "attachments": {},
      "cell_type": "markdown",
      "id": "d32f8d18",
      "metadata": {
        "id": "d32f8d18"
      },
      "source": [
        "# Group Details\n",
        "\n",
        "## Group Name: Group 08\n",
        "\n",
        "### Student 1: Jasper Linders\n",
        "\n",
        "### Student 2: Alexander Liu\n",
        "\n",
        "### Student 3: Sjoerd van Straten"
      ]
    },
    {
      "attachments": {},
      "cell_type": "markdown",
      "id": "faec2056",
      "metadata": {
        "id": "faec2056"
      },
      "source": [
        "# Loading Data and Preliminaries"
      ]
    },
    {
      "cell_type": "code",
      "execution_count": 60,
      "id": "udTLsaQ9H5Nw",
      "metadata": {
        "colab": {
          "base_uri": "https://localhost:8080/"
        },
        "id": "udTLsaQ9H5Nw",
        "outputId": "cf958c62-2000-45af-c592-6954044a5e46"
      },
      "outputs": [],
      "source": [
        "# from google.colab import drive\n",
        "# drive.mount('/content/drive')"
      ]
    },
    {
      "cell_type": "code",
      "execution_count": 61,
      "id": "7d0580a5",
      "metadata": {
        "id": "7d0580a5"
      },
      "outputs": [],
      "source": [
        "import matplotlib.pyplot as plt\n",
        "import matplotlib\n",
        "import numpy as np"
      ]
    },
    {
      "cell_type": "code",
      "execution_count": 62,
      "id": "mom5nRqivEiR",
      "metadata": {
        "id": "mom5nRqivEiR"
      },
      "outputs": [],
      "source": [
        "import torch\n",
        "import torch.nn as nn\n",
        "import torch.nn.functional as F"
      ]
    },
    {
      "cell_type": "code",
      "execution_count": 63,
      "id": "b0756591",
      "metadata": {
        "id": "b0756591"
      },
      "outputs": [],
      "source": [
        "def load_array(filename, task):\n",
        "    datapoint = np.load(filename)\n",
        "    if task == 'task 1':\n",
        "        initial_state = datapoint['initial_state']\n",
        "        terminal_state = datapoint['terminal_state']\n",
        "        return initial_state, terminal_state\n",
        "    elif task == 'task 2' or task == 'task 3':\n",
        "        whole_trajectory = datapoint['trajectory']\n",
        "        # change shape: (num_bodies, attributes, time) ->  num_bodies, time, attributes\n",
        "        whole_trajectory = np.swapaxes(whole_trajectory, 1, 2)\n",
        "        initial_state = whole_trajectory[:, 0]\n",
        "        target = whole_trajectory[:, 1:, 1:]  # drop the first timepoint (second dim) and mass (last dim) for the prediction task\n",
        "        return initial_state, target\n",
        "    else:\n",
        "        raise NotImplementedError(\"'task' argument should be 'task 1', 'task 2' or 'task 3'!\")"
      ]
    },
    {
      "cell_type": "code",
      "execution_count": 64,
      "id": "bb77a4be",
      "metadata": {
        "colab": {
          "base_uri": "https://localhost:8080/"
        },
        "id": "bb77a4be",
        "outputId": "8e8ed072-43b3-4d03-a192-1abcd6a581e7"
      },
      "outputs": [
        {
          "name": "stdout",
          "output_type": "stream",
          "text": [
            "shape of initial state (model input): (8, 5)\n",
            "shape of terminal state (to be predicted by model): (8, 2)\n",
            "The initial x-coordinate of the body with index 2 in this trajectory was -5.159721083543527\n"
          ]
        }
      ],
      "source": [
        "\"\"\"\n",
        "This cell gives an example of loading a datapoint with numpy for task 1.\n",
        "\n",
        "The arrays returned by the function are structures as follows:\n",
        "initial_state: shape (n_bodies, [mass, x, y, v_x, v_y])\n",
        "terminal_state: shape (n_bodies, [x, y])\n",
        "\n",
        "\"\"\"\n",
        "example = load_array('data/task 1/train/trajectory_0.npz', task='task 1')\n",
        "\n",
        "initial_state, terminal_state = example\n",
        "print(f'shape of initial state (model input): {initial_state.shape}')\n",
        "print(f'shape of terminal state (to be predicted by model): {terminal_state.shape}')\n",
        "\n",
        "body_idx = 2\n",
        "print(f'The initial x-coordinate of the body with index {body_idx} in this trajectory was {initial_state[body_idx, 1]}')"
      ]
    },
    {
      "cell_type": "code",
      "execution_count": 65,
      "id": "1c3ea4cb",
      "metadata": {
        "colab": {
          "base_uri": "https://localhost:8080/"
        },
        "id": "1c3ea4cb",
        "outputId": "311aff9d-a944-4c61-8157-7d51de265d6c"
      },
      "outputs": [
        {
          "name": "stdout",
          "output_type": "stream",
          "text": [
            "shape of initial state (model input): (8, 5)\n",
            "shape of terminal state (to be predicted by model): (8, 49, 4)\n",
            "The y-coordinate of the body with index 2 at time with index 30 in remaining_trajectory was -0.3861544940435097\n",
            "the shape of the input of a test data example is (8, 5)\n",
            "the shape of the target of a test data example is (8, 49, 4)\n",
            "values of the test data example at time 30:\n",
            " [[-5.85725792 -5.394571           nan         nan]\n",
            " [-6.03781257 -5.72445953         nan         nan]\n",
            " [-0.90623054 -6.93416278         nan         nan]\n",
            " [ 2.83149339 -7.50100819         nan         nan]\n",
            " [-2.85586881  1.77667501         nan         nan]\n",
            " [ 4.04424526  4.00563603         nan         nan]\n",
            " [-5.24887713 -4.83081005         nan         nan]\n",
            " [-5.81391023 -5.1109838          nan         nan]]\n",
            "note: velocity values are unobserved (NaNs) in the test data!\n"
          ]
        }
      ],
      "source": [
        "\"\"\"\n",
        "This cell gives an example of loading a datapoint with numpy for task 2 / 3.\n",
        "\n",
        "The arrays returned by the function are structures as follows:\n",
        "initial_state: shape (n_bodies, [mass, x, y, v_x, v_y])\n",
        "remaining_trajectory: shape (n_bodies, time, [x, y, v_x, v_y])\n",
        "\n",
        "Note that for this task, you are asked to evaluate performance only with regard to the predictions of the positions (x and y).\n",
        "If you use the velocity of the remaining trajectory for training,\n",
        "this use should be purely auxiliary for the goal of predicting the positions [x,y] over time.\n",
        "While testing performance of your model on the test set, you do not have access to v_x and v_y of the remaining trajectory.\n",
        "\"\"\"\n",
        "\n",
        "example = load_array('data/task 2_3/train/trajectory_0.npz', task='task 2')\n",
        "\n",
        "initial_state, remaining_trajectory = example\n",
        "print(f'shape of initial state (model input): {initial_state.shape}')\n",
        "print(f'shape of terminal state (to be predicted by model): {remaining_trajectory.shape}')\n",
        "\n",
        "body_idx = 2\n",
        "time_idx = 30\n",
        "print(f'The y-coordinate of the body with index {body_idx} at time with index {time_idx} in remaining_trajectory was {remaining_trajectory[body_idx, time_idx, 1]}')\n",
        "\n",
        "test_example = load_array('data/task 2_3/test/trajectory_900.npz', task='task 3')\n",
        "test_initial_state, test_remaining_trajectory = test_example\n",
        "print(f'the shape of the input of a test data example is {test_initial_state.shape}')\n",
        "print(f'the shape of the target of a test data example is {test_remaining_trajectory.shape}')\n",
        "print(f'values of the test data example at time {time_idx}:\\n {test_remaining_trajectory[:, time_idx]}')\n",
        "print('note: velocity values are unobserved (NaNs) in the test data!')"
      ]
    },
    {
      "attachments": {},
      "cell_type": "markdown",
      "id": "059b633c",
      "metadata": {
        "id": "059b633c"
      },
      "source": [
        "# Data Handling and Preprocessing"
      ]
    },
    {
      "attachments": {},
      "cell_type": "markdown",
      "id": "La_2PbAqfEXj",
      "metadata": {
        "id": "La_2PbAqfEXj"
      },
      "source": [
        "First, let's import the data and make variables for the train and test data."
      ]
    },
    {
      "cell_type": "code",
      "execution_count": 66,
      "id": "0576f430",
      "metadata": {},
      "outputs": [
        {
          "name": "stdout",
          "output_type": "stream",
          "text": [
            "X_train shape:  torch.Size([900, 9, 5])\n",
            "y_train shape:  torch.Size([900, 9, 49, 4])\n",
            "X_test shape:  torch.Size([100, 9, 5])\n",
            "y_test shape:  torch.Size([100, 9, 49, 4])\n"
          ]
        }
      ],
      "source": [
        "import os\n",
        "from torch.utils.data import Dataset, DataLoader, TensorDataset\n",
        "\n",
        "class ImportData(Dataset):\n",
        "    def __init__(self, folder_path):\n",
        "        self.folder_path = folder_path\n",
        "        self.file_list = sorted(os.listdir(folder_path))\n",
        "\n",
        "    def __len__(self):\n",
        "        return len(self.file_list)\n",
        "\n",
        "    def __getitem__(self, index):\n",
        "        file_name = self.file_list[index]\n",
        "        file_path = os.path.join(self.folder_path, file_name)\n",
        "        data, label = load_array(file_path, task='task 2')\n",
        "        return data, label\n",
        "\n",
        "# Create an instance of the custom dataset class with the folder path\n",
        "train_import = ImportData('data/task 2_3/train/')\n",
        "test_import = ImportData('data/task 2_3/test/')\n",
        "\n",
        "X_train_import = []\n",
        "y_train_import = []\n",
        "X_test_import = []\n",
        "y_test_import = []\n",
        "\n",
        "# Iterate through the train_dataset to extract data and labels\n",
        "for data, label in train_import:\n",
        "    X_train_import.append(data)\n",
        "    y_train_import.append(label)\n",
        "\n",
        "for data, label in test_import:\n",
        "    X_test_import.append(data)\n",
        "    y_test_import.append(label)\n",
        "\n",
        "max_length = 9\n",
        "max_seq = 49\n",
        "\n",
        "# Pad the data samples with zeros to have the same shape\n",
        "X_train_padded = []\n",
        "for data in X_train_import:\n",
        "    pad_width = max_length - data.shape[0]\n",
        "    padded_data = np.pad(data, ((0, pad_width), (0, 0)), mode='constant')\n",
        "    X_train_padded.append(padded_data)\n",
        "\n",
        "y_train_padded = []\n",
        "for label in y_train_import:\n",
        "    pad_width = max_length - label.shape[0]\n",
        "    pad_length = max_seq - label.shape[1]\n",
        "    padded_label = np.pad(label, ((0, pad_width), (0, pad_length), (0,0)), mode='constant')\n",
        "    y_train_padded.append(padded_label)\n",
        "\n",
        "X_test_padded = []\n",
        "for data in X_test_import:\n",
        "    pad_width = max_length - data.shape[0]\n",
        "    padded_data = np.pad(data, ((0, pad_width), (0, 0)), mode='constant')\n",
        "    X_test_padded.append(padded_data)\n",
        "\n",
        "y_test_padded = []\n",
        "for label in y_test_import:\n",
        "    pad_width = max_length - label.shape[0]\n",
        "    pad_length = max_seq - label.shape[1]\n",
        "    padded_label = np.pad(label, ((0, pad_width), (0, pad_length), (0,0)), mode='constant')\n",
        "    y_test_padded.append(padded_label)\n",
        "\n",
        "# Convert the padded data and labels to tensors\n",
        "X_train = torch.tensor(np.array(X_train_padded))\n",
        "y_train = torch.tensor(np.array(y_train_padded))\n",
        "X_test = torch.tensor(np.array(X_test_padded))\n",
        "y_test = torch.tensor(np.array(y_test_padded))\n",
        "\n",
        "# Print the shape of X_train and the first label in y_train\n",
        "print(\"X_train shape: \", X_train.shape)\n",
        "print(\"y_train shape: \", y_train.shape)\n",
        "print(\"X_test shape: \", X_test.shape)\n",
        "print(\"y_test shape: \", y_test.shape)"
      ]
    },
    {
      "attachments": {},
      "cell_type": "markdown",
      "id": "18b2874d",
      "metadata": {
        "id": "18b2874d"
      },
      "source": [
        "# Model Implementation"
      ]
    },
    {
      "cell_type": "code",
      "execution_count": 99,
      "id": "9b3d1c34",
      "metadata": {},
      "outputs": [
        {
          "name": "stdout",
          "output_type": "stream",
          "text": [
            "Training on Quadro M1200\n"
          ]
        }
      ],
      "source": [
        "device = torch.device(\"cuda:0\" if torch.cuda.is_available() else \"cpu\")\n",
        "print(f'Training on {torch.cuda.get_device_name(0)}' if torch.cuda.is_available() else 'Training on CPU')"
      ]
    },
    {
      "cell_type": "code",
      "execution_count": 67,
      "id": "29b2cec2",
      "metadata": {},
      "outputs": [],
      "source": [
        "class LSTM(nn.Module):\n",
        "    def __init__(self):\n",
        "        super().__init__()\n",
        "        self.lstm = nn.LSTM(input_size=9*5, hidden_size=128, num_layers=49, proj_size=36, batch_first=True)\n",
        "        # self.linear = nn.Linear(128, 45)\n",
        "\n",
        "    def forward(self, x):\n",
        "        output, (h_n, c_n) = self.lstm(x)\n",
        "        # output, (h_n, c_n) = self.linear(output), self.linear(h_n), self.linear(c_n)\n",
        "        return output, (h_n, c_n)"
      ]
    },
    {
      "cell_type": "code",
      "execution_count": 68,
      "id": "44e2304f",
      "metadata": {},
      "outputs": [
        {
          "data": {
            "text/plain": [
              "torch.Size([1, 45])"
            ]
          },
          "execution_count": 68,
          "metadata": {},
          "output_type": "execute_result"
        }
      ],
      "source": [
        "X_train[0].flatten().unsqueeze(0).float().shape"
      ]
    },
    {
      "cell_type": "code",
      "execution_count": 69,
      "id": "212ed118",
      "metadata": {},
      "outputs": [
        {
          "data": {
            "text/plain": [
              "torch.Size([9, 49, 4])"
            ]
          },
          "execution_count": 69,
          "metadata": {},
          "output_type": "execute_result"
        }
      ],
      "source": [
        "y_train[0].shape"
      ]
    },
    {
      "cell_type": "code",
      "execution_count": 70,
      "id": "53799a45",
      "metadata": {},
      "outputs": [
        {
          "data": {
            "text/plain": [
              "tensor([[[-5.3508,  4.7698, -0.6015, -2.7740],\n",
              "         [-5.3998,  4.5065, -0.3956, -2.5268],\n",
              "         [-5.4322,  4.2605, -0.2609, -2.4050],\n",
              "         ...,\n",
              "         [-0.5797, -4.2417,  1.7654, -4.3593],\n",
              "         [-0.3841, -4.6990,  2.1710, -4.7872],\n",
              "         [-0.1408, -5.1981,  2.7102, -5.1801]],\n",
              "\n",
              "        [[ 4.2678, -0.3754, -0.6071, -2.9297],\n",
              "         [ 4.2057, -0.6669, -0.6349, -2.8997],\n",
              "         [ 4.1408, -0.9554, -0.6621, -2.8695],\n",
              "         ...,\n",
              "         [-0.6855, -9.6195, -1.2635, -0.4569],\n",
              "         [-0.8106, -9.6572, -1.2388, -0.2947],\n",
              "         [-0.9331, -9.6777, -1.2110, -0.1126]],\n",
              "\n",
              "        [[-4.9651,  5.3952,  1.6454, -0.1498],\n",
              "         [-4.8168,  5.3516,  1.3514, -0.6671],\n",
              "         [-4.6911,  5.2681,  1.1729, -0.9826],\n",
              "         ...,\n",
              "         [-0.7739, -6.5166,  0.6282, -2.4154],\n",
              "         [-0.6906, -6.7618,  1.0373, -2.5269],\n",
              "         [-0.5715, -7.0326,  1.2732, -2.9555]],\n",
              "\n",
              "        ...,\n",
              "\n",
              "        [[-0.6005, 16.5437, -0.9493, 14.9669],\n",
              "         [-0.6955, 18.0398, -0.9503, 14.9556],\n",
              "         [-0.7905, 19.5349, -0.9510, 14.9464],\n",
              "         ...,\n",
              "         [-4.9798, 85.0697, -0.9518, 14.8774],\n",
              "         [-5.0750, 86.5574, -0.9518, 14.8771],\n",
              "         [-5.1702, 88.0451, -0.9518, 14.8769]],\n",
              "\n",
              "        [[ 1.7366,  3.6222, -0.8418, -2.1747],\n",
              "         [ 1.6440,  3.4101, -1.0172, -2.0596],\n",
              "         [ 1.5314,  3.2128, -1.2462, -1.8672],\n",
              "         ...,\n",
              "         [-0.1566, -7.3825, -2.5650, -1.7376],\n",
              "         [-0.4198, -7.5382, -2.6953, -1.3472],\n",
              "         [-0.6917, -7.6438, -2.6952, -0.7142]],\n",
              "\n",
              "        [[ 0.0000,  0.0000,  0.0000,  0.0000],\n",
              "         [ 0.0000,  0.0000,  0.0000,  0.0000],\n",
              "         [ 0.0000,  0.0000,  0.0000,  0.0000],\n",
              "         ...,\n",
              "         [ 0.0000,  0.0000,  0.0000,  0.0000],\n",
              "         [ 0.0000,  0.0000,  0.0000,  0.0000],\n",
              "         [ 0.0000,  0.0000,  0.0000,  0.0000]]], dtype=torch.float64)"
            ]
          },
          "execution_count": 70,
          "metadata": {},
          "output_type": "execute_result"
        }
      ],
      "source": [
        "y_train[0]"
      ]
    },
    {
      "cell_type": "code",
      "execution_count": 71,
      "id": "6fc000da",
      "metadata": {},
      "outputs": [
        {
          "data": {
            "text/plain": [
              "tensor([[-5.3508,  4.7698, -0.6015,  ...,  0.0000,  0.0000,  0.0000],\n",
              "        [-5.3998,  4.5065, -0.3956,  ...,  0.0000,  0.0000,  0.0000],\n",
              "        [-5.4322,  4.2605, -0.2609,  ...,  0.0000,  0.0000,  0.0000],\n",
              "        ...,\n",
              "        [-0.5797, -4.2417,  1.7654,  ...,  0.0000,  0.0000,  0.0000],\n",
              "        [-0.3841, -4.6990,  2.1710,  ...,  0.0000,  0.0000,  0.0000],\n",
              "        [-0.1408, -5.1981,  2.7102,  ...,  0.0000,  0.0000,  0.0000]],\n",
              "       dtype=torch.float64)"
            ]
          },
          "execution_count": 71,
          "metadata": {},
          "output_type": "execute_result"
        }
      ],
      "source": [
        "test = y_train[0].permute(1, 0, 2).contiguous().view(49, -1)\n",
        "test"
      ]
    },
    {
      "cell_type": "code",
      "execution_count": 72,
      "id": "f1e0bec8",
      "metadata": {},
      "outputs": [
        {
          "data": {
            "text/plain": [
              "torch.Size([49, 36])"
            ]
          },
          "execution_count": 72,
          "metadata": {},
          "output_type": "execute_result"
        }
      ],
      "source": [
        "y_train[0].permute(1, 0, 2).contiguous().view(49, -1).shape"
      ]
    },
    {
      "cell_type": "code",
      "execution_count": 73,
      "id": "5b66c726",
      "metadata": {},
      "outputs": [
        {
          "data": {
            "text/plain": [
              "(torch.Size([1, 36]), torch.Size([49, 128]), torch.Size([49, 36]))"
            ]
          },
          "execution_count": 73,
          "metadata": {},
          "output_type": "execute_result"
        }
      ],
      "source": [
        "model = LSTM()\n",
        "output, (h_n, c_n) = model(X_train[0].flatten().unsqueeze(0).float())\n",
        "output.shape, c_n.shape, h_n.shape"
      ]
    },
    {
      "attachments": {},
      "cell_type": "markdown",
      "id": "dea70d73",
      "metadata": {
        "id": "dea70d73"
      },
      "source": [
        "# Model Training"
      ]
    },
    {
      "cell_type": "code",
      "execution_count": 122,
      "id": "35e87754",
      "metadata": {},
      "outputs": [
        {
          "name": "stdout",
          "output_type": "stream",
          "text": [
            "Epoch 1/10, Training Loss: 1.1881932020187378\n",
            "Epoch 2/10, Training Loss: 1.1564948558807373\n",
            "Epoch 3/10, Training Loss: 1.1183125972747803\n",
            "Epoch 4/10, Training Loss: 1.1372084617614746\n",
            "Epoch 5/10, Training Loss: 1.1003795862197876\n",
            "Epoch 6/10, Training Loss: 1.075750470161438\n",
            "Epoch 7/10, Training Loss: 1.0650378465652466\n",
            "Epoch 8/10, Training Loss: 1.1167699098587036\n",
            "Epoch 9/10, Training Loss: 1.0648481845855713\n",
            "Epoch 10/10, Training Loss: 1.0733636617660522\n"
          ]
        }
      ],
      "source": [
        "model = LSTM()\n",
        "criterion = nn.L1Loss()\n",
        "optimizer = torch.optim.Adam(model.parameters(), lr=0.001)\n",
        "\n",
        "# Set the number of epochs\n",
        "num_epochs = 10\n",
        "\n",
        "# Training loop\n",
        "for epoch in range(num_epochs):\n",
        "    # Set the model to training mode\n",
        "    model.train()\n",
        "\n",
        "    # Iterate over the instances of the training dataset\n",
        "    for input, label in zip(X_train, y_train):\n",
        "        # print(input.shape, label.shape)\n",
        "        input = input.flatten().unsqueeze(0).float()\n",
        "        label = label.permute(1, 0, 2).contiguous().view(49, -1).float()\n",
        "        input.to(device), label.to(device)\n",
        "        # print(input.shape, label.shape)\n",
        "        optimizer.zero_grad()\n",
        "        output, (h_n, c_n) = model(input)\n",
        "        # print(output.shape, c_n.shape, h_n.shape)\n",
        "        loss = criterion(h_n, label)\n",
        "        # loss = loss.float()\n",
        "        # print(loss)\n",
        "        loss.backward()\n",
        "        optimizer.step()\n",
        "\n",
        "    # Print the training loss for each epoch\n",
        "    print(f\"Epoch {epoch + 1}/{num_epochs}, Training Loss: {loss.item()}\")"
      ]
    },
    {
      "cell_type": "code",
      "execution_count": 121,
      "id": "90823194",
      "metadata": {},
      "outputs": [
        {
          "data": {
            "text/plain": [
              "tensor(2.8600, grad_fn=<MeanBackward0>)"
            ]
          },
          "execution_count": 121,
          "metadata": {},
          "output_type": "execute_result"
        }
      ],
      "source": [
        "idx = 500\n",
        "\n",
        "input = X_train[idx].flatten().unsqueeze(0).float()\n",
        "label = y_train[idx].permute(1, 0, 2).contiguous().view(49, -1).float()\n",
        "output, (h_n, c_n) = model(input)\n",
        "loss = criterion(h_n, label)\n",
        "loss"
      ]
    },
    {
      "cell_type": "code",
      "execution_count": 117,
      "id": "0f501e49",
      "metadata": {},
      "outputs": [
        {
          "data": {
            "text/plain": [
              "tensor(nan, grad_fn=<MeanBackward0>)"
            ]
          },
          "execution_count": 117,
          "metadata": {},
          "output_type": "execute_result"
        }
      ],
      "source": [
        "idx = 1\n",
        "\n",
        "input = X_test[idx].flatten().unsqueeze(0).float()\n",
        "label = y_test[idx].permute(1, 0, 2).contiguous().view(49, -1).float()\n",
        "output, (h_n, c_n) = model(input)\n",
        "loss = criterion(h_n, label)\n",
        "loss"
      ]
    }
  ],
  "metadata": {
    "colab": {
      "provenance": []
    },
    "kernelspec": {
      "display_name": "Python 3 (ipykernel)",
      "language": "python",
      "name": "python3"
    },
    "language_info": {
      "codemirror_mode": {
        "name": "ipython",
        "version": 3
      },
      "file_extension": ".py",
      "mimetype": "text/x-python",
      "name": "python",
      "nbconvert_exporter": "python",
      "pygments_lexer": "ipython3",
      "version": "3.10.10"
    }
  },
  "nbformat": 4,
  "nbformat_minor": 5
}
