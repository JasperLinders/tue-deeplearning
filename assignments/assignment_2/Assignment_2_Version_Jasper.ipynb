{
  "cells": [
    {
      "attachments": {},
      "cell_type": "markdown",
      "id": "d32f8d18",
      "metadata": {
        "id": "d32f8d18"
      },
      "source": [
        "# Group Details\n",
        "\n",
        "## Group Name: Group 08\n",
        "\n",
        "### Student 1: Jasper Linders\n",
        "\n",
        "### Student 2: Alexander Liu\n",
        "\n",
        "### Student 3: Sjoerd van Straten"
      ]
    },
    {
      "attachments": {},
      "cell_type": "markdown",
      "id": "faec2056",
      "metadata": {
        "id": "faec2056"
      },
      "source": [
        "# Loading Data and Preliminaries"
      ]
    },
    {
      "cell_type": "code",
      "execution_count": 1,
      "id": "7d0580a5",
      "metadata": {
        "id": "7d0580a5"
      },
      "outputs": [],
      "source": [
        "import matplotlib.pyplot as plt\n",
        "import matplotlib\n",
        "import numpy as np"
      ]
    },
    {
      "cell_type": "code",
      "execution_count": 2,
      "id": "mom5nRqivEiR",
      "metadata": {
        "id": "mom5nRqivEiR"
      },
      "outputs": [],
      "source": [
        "import torch\n",
        "import torch.nn as nn\n",
        "import torch.nn.functional as F"
      ]
    },
    {
      "cell_type": "code",
      "execution_count": 3,
      "id": "b0756591",
      "metadata": {
        "id": "b0756591"
      },
      "outputs": [],
      "source": [
        "def load_array(filename, task):\n",
        "    datapoint = np.load(filename)\n",
        "    if task == 'task 1':\n",
        "        initial_state = datapoint['initial_state']\n",
        "        terminal_state = datapoint['terminal_state']\n",
        "        return initial_state, terminal_state\n",
        "    elif task == 'task 2' or task == 'task 3':\n",
        "        whole_trajectory = datapoint['trajectory']\n",
        "        # change shape: (num_bodies, attributes, time) ->  num_bodies, time, attributes\n",
        "        whole_trajectory = np.swapaxes(whole_trajectory, 1, 2)\n",
        "        initial_state = whole_trajectory[:, 0]\n",
        "        target = whole_trajectory[:, 1:, 1:]  # drop the first timepoint (second dim) and mass (last dim) for the prediction task\n",
        "        return initial_state, target\n",
        "    else:\n",
        "        raise NotImplementedError(\"'task' argument should be 'task 1', 'task 2' or 'task 3'!\")\n"
      ]
    },
    {
      "cell_type": "code",
      "execution_count": 4,
      "id": "bb77a4be",
      "metadata": {
        "colab": {
          "base_uri": "https://localhost:8080/"
        },
        "id": "bb77a4be",
        "outputId": "87b55db3-1db0-4537-98c5-50132690a0da"
      },
      "outputs": [
        {
          "name": "stdout",
          "output_type": "stream",
          "text": [
            "shape of initial state (model input): (8, 5)\n",
            "shape of terminal state (to be predicted by model): (8, 2)\n",
            "The initial x-coordinate of the body with index 2 in this trajectory was -5.159721083543527\n"
          ]
        }
      ],
      "source": [
        "\"\"\"\n",
        "This cell gives an example of loading a datapoint with numpy for task 1.\n",
        "\n",
        "The arrays returned by the function are structures as follows:\n",
        "initial_state: shape (n_bodies, [mass, x, y, v_x, v_y])\n",
        "terminal_state: shape (n_bodies, [x, y])\n",
        "\n",
        "\"\"\"\n",
        "example = load_array('data/task 1/train/trajectory_0.npz', task='task 1')\n",
        "\n",
        "initial_state, terminal_state = example\n",
        "print(f'shape of initial state (model input): {initial_state.shape}')\n",
        "print(f'shape of terminal state (to be predicted by model): {terminal_state.shape}')\n",
        "\n",
        "body_idx = 2\n",
        "print(f'The initial x-coordinate of the body with index {body_idx} in this trajectory was {initial_state[body_idx, 1]}')"
      ]
    },
    {
      "cell_type": "code",
      "execution_count": 5,
      "id": "1c3ea4cb",
      "metadata": {
        "colab": {
          "base_uri": "https://localhost:8080/"
        },
        "id": "1c3ea4cb",
        "outputId": "45b5f08e-56ce-4868-eb93-ea22a551f360"
      },
      "outputs": [
        {
          "name": "stdout",
          "output_type": "stream",
          "text": [
            "shape of initial state (model input): (8, 5)\n",
            "shape of terminal state (to be predicted by model): (8, 49, 4)\n",
            "The y-coordinate of the body with index 2 at time with index 30 in remaining_trajectory was -0.3861544940435097\n",
            "the shape of the input of a test data example is (8, 5)\n",
            "the shape of the target of a test data example is (8, 49, 4)\n",
            "values of the test data example at time 30:\n",
            " [[-5.85725792 -5.394571           nan         nan]\n",
            " [-6.03781257 -5.72445953         nan         nan]\n",
            " [-0.90623054 -6.93416278         nan         nan]\n",
            " [ 2.83149339 -7.50100819         nan         nan]\n",
            " [-2.85586881  1.77667501         nan         nan]\n",
            " [ 4.04424526  4.00563603         nan         nan]\n",
            " [-5.24887713 -4.83081005         nan         nan]\n",
            " [-5.81391023 -5.1109838          nan         nan]]\n",
            "note: velocity values are unobserved (NaNs) in the test data!\n"
          ]
        }
      ],
      "source": [
        "\"\"\"\n",
        "This cell gives an example of loading a datapoint with numpy for task 2 / 3.\n",
        "\n",
        "The arrays returned by the function are structures as follows:\n",
        "initial_state: shape (n_bodies, [mass, x, y, v_x, v_y])\n",
        "remaining_trajectory: shape (n_bodies, time, [x, y, v_x, v_y])\n",
        "\n",
        "Note that for this task, you are asked to evaluate performance only with regard to the predictions of the positions (x and y).\n",
        "If you use the velocity of the remaining trajectory for training,\n",
        "this use should be purely auxiliary for the goal of predicting the positions [x,y] over time.\n",
        "While testing performance of your model on the test set, you do not have access to v_x and v_y of the remaining trajectory.\n",
        "\n",
        "\"\"\"\n",
        "\n",
        "example = load_array('data/task 2_3/train/trajectory_0.npz', task='task 2')\n",
        "\n",
        "initial_state, remaining_trajectory = example\n",
        "print(f'shape of initial state (model input): {initial_state.shape}')\n",
        "print(f'shape of terminal state (to be predicted by model): {remaining_trajectory.shape}')\n",
        "\n",
        "body_idx = 2\n",
        "time_idx = 30\n",
        "print(f'The y-coordinate of the body with index {body_idx} at time with index {time_idx} in remaining_trajectory was {remaining_trajectory[body_idx, time_idx, 1]}')\n",
        "\n",
        "test_example = load_array('data/task 2_3/test/trajectory_900.npz', task='task 3')\n",
        "test_initial_state, test_remaining_trajectory = test_example\n",
        "print(f'the shape of the input of a test data example is {test_initial_state.shape}')\n",
        "print(f'the shape of the target of a test data example is {test_remaining_trajectory.shape}')\n",
        "print(f'values of the test data example at time {time_idx}:\\n {test_remaining_trajectory[:, time_idx]}')\n",
        "print('note: velocity values are unobserved (NaNs) in the test data!')"
      ]
    },
    {
      "attachments": {},
      "cell_type": "markdown",
      "id": "059b633c",
      "metadata": {
        "id": "059b633c"
      },
      "source": [
        "# Data Handling and Preprocessing"
      ]
    },
    {
      "cell_type": "code",
      "execution_count": 6,
      "id": "usUER0gM6OOM",
      "metadata": {
        "colab": {
          "base_uri": "https://localhost:8080/"
        },
        "id": "usUER0gM6OOM",
        "outputId": "ff5b16b2-f9eb-498a-9a34-a5032063d39d"
      },
      "outputs": [
        {
          "name": "stdout",
          "output_type": "stream",
          "text": [
            "torch.Size([900, 9, 5])\n",
            "torch.Size([900, 9, 2])\n",
            "torch.Size([100, 9, 5])\n",
            "torch.Size([100, 9, 2])\n"
          ]
        }
      ],
      "source": [
        "import os\n",
        "from torch.utils.data import Dataset\n",
        "\n",
        "class ImportData(Dataset):\n",
        "    def __init__(self, folder_path):\n",
        "        self.folder_path = folder_path\n",
        "        self.file_list = sorted(os.listdir(folder_path))\n",
        "\n",
        "    def __len__(self):\n",
        "        return len(self.file_list)\n",
        "\n",
        "    def __getitem__(self, index):\n",
        "        file_name = self.file_list[index]\n",
        "        file_path = os.path.join(self.folder_path, file_name)\n",
        "        data, label = load_array(file_path, task='task 1')\n",
        "        return data, label\n",
        "\n",
        "# Create an instance of the custom dataset class with the folder path\n",
        "train_import = ImportData('data/task 1/train/')\n",
        "test_import = ImportData('data/task 1/test/')\n",
        "\n",
        "X_train_import = []\n",
        "y_train_import = []\n",
        "X_test_import = []\n",
        "y_test_import = []\n",
        "\n",
        "# Iterate through the train_dataset to extract data and labels\n",
        "for data, label in train_import:\n",
        "    X_train_import.append(data)\n",
        "    y_train_import.append(label)\n",
        "\n",
        "for data, label in test_import:\n",
        "    X_test_import.append(data)\n",
        "    y_test_import.append(label)\n",
        "\n",
        "max_length = 9\n",
        "\n",
        "# Pad the data samples with zeros to have the same shape\n",
        "X_train_padded = []\n",
        "for data in X_train_import:\n",
        "    pad_width = max_length - data.shape[0]\n",
        "    padded_data = np.pad(data, ((0, pad_width), (0, 0)), mode='constant')\n",
        "    X_train_padded.append(padded_data)\n",
        "\n",
        "y_train_padded = []\n",
        "for label in y_train_import:\n",
        "    pad_width = max_length - label.shape[0]\n",
        "    padded_label = np.pad(label, ((0, pad_width), (0, 0)), mode='constant')\n",
        "    y_train_padded.append(padded_label)\n",
        "\n",
        "X_test_padded = []\n",
        "for data in X_test_import:\n",
        "    pad_width = max_length - data.shape[0]\n",
        "    padded_data = np.pad(data, ((0, pad_width), (0, 0)), mode='constant')\n",
        "    X_test_padded.append(padded_data)\n",
        "\n",
        "y_test_padded = []\n",
        "for label in y_test_import:\n",
        "    pad_width = max_length - label.shape[0]\n",
        "    padded_label = np.pad(label, ((0, pad_width), (0, 0)), mode='constant')\n",
        "    y_test_padded.append(padded_label)\n",
        "\n",
        "# Convert the padded data and labels to tensors\n",
        "X_train = torch.tensor(np.array(X_train_padded))\n",
        "y_train = torch.tensor(np.array(y_train_padded))\n",
        "X_test = torch.tensor(np.array(X_test_padded))\n",
        "y_test = torch.tensor(np.array(y_test_padded))\n",
        "\n",
        "# Print the shape of X_train and the first label in y_train\n",
        "print(X_train.shape)\n",
        "print(y_train.shape)\n",
        "print(X_test.shape)\n",
        "print(y_test.shape)"
      ]
    },
    {
      "cell_type": "code",
      "execution_count": 7,
      "id": "WTW_fnFoefoU",
      "metadata": {
        "id": "WTW_fnFoefoU"
      },
      "outputs": [],
      "source": [
        "# import torch\n",
        "# from torch.utils.data import Dataset, DataLoader\n",
        "\n",
        "# # Function to process a single data point\n",
        "# def create_graph(data_point, label):\n",
        "\n",
        "#     #Create node features\n",
        "#     node_features = data_point  # Exclude the mass column\n",
        "\n",
        "#     # Compute edge indices\n",
        "#     edge_indices = []\n",
        "#     for i in range(9):\n",
        "#         for j in range(9):\n",
        "#             if i != j:\n",
        "#                 edge_indices.append([i, j])\n",
        "#     edge_indices = torch.tensor(edge_indices).t().contiguous()\n",
        "\n",
        "#     # Compute edge features\n",
        "#     edge_features = []\n",
        "#     for i in range(9):\n",
        "#         for j in range(9):\n",
        "#             if i != j:\n",
        "#                 pos = node_features[j] - node_features[i]\n",
        "#                 relative_position = torch.norm(pos)\n",
        "\n",
        "#                 relative_mass = node_features[j, 0] / node_features[i, 0]\n",
        "#                 if relative_mass == np.inf or relative_mass == 0:\n",
        "#                     relative_position = 0\n",
        "#                     relative_mass = 0\n",
        "\n",
        "#                 edge_features.append([relative_position])     #, relative_mass])\n",
        "#     edge_features = torch.FloatTensor(edge_features)\n",
        "\n",
        "#     data = Data(x=node_features, edge_index=edge_indices, edge_attr=edge_features, y=label)\n",
        "\n",
        "#     return data"
      ]
    },
    {
      "attachments": {},
      "cell_type": "markdown",
      "id": "8eebcb78",
      "metadata": {},
      "source": [
        "$$ F_g = G*\\frac{(m_1*m_2)}{r^2} $$"
      ]
    },
    {
      "cell_type": "code",
      "execution_count": 58,
      "id": "d743d145",
      "metadata": {},
      "outputs": [],
      "source": [
        "import torch\n",
        "from torch_geometric.data import Data\n",
        "\n",
        "# Function to process a single data point\n",
        "def create_graph_Fg(data_points, labels):\n",
        "\n",
        "    #Create node features\n",
        "    nodes = data_points\n",
        "\n",
        "    edge_indices = []\n",
        "    edge_features = []\n",
        "\n",
        "    for i in range(9):\n",
        "        for j in range(9):\n",
        "            if i != j:\n",
        "                # print(nodes[i])\n",
        "                # print(nodes[j])\n",
        "                pos = nodes[j][1:3] - nodes[i][1:3]\n",
        "                r_sq = torch.square(torch.norm(pos))        # Euclidian Distance\n",
        "                m_sq = nodes[i][0] * nodes[j][0]            # Masses multiplied\n",
        "                F_g = m_sq / r_sq                           # Gravitational Force\n",
        "\n",
        "                if F_g > 0.05:                               # Define when an edge can be created\n",
        "                    edge_indices.append([i, j])\n",
        "                    edge_features.append([F_g])\n",
        "\n",
        "    edge_indices = torch.tensor(edge_indices).t().contiguous()\n",
        "    edge_features = torch.FloatTensor(edge_features)\n",
        "\n",
        "    data = Data(x=nodes, edge_index=edge_indices, edge_attr=edge_features, y=labels)\n",
        "\n",
        "    return data"
      ]
    },
    {
      "cell_type": "code",
      "execution_count": 59,
      "id": "f282ee02",
      "metadata": {},
      "outputs": [
        {
          "data": {
            "text/plain": [
              "tensor([[0, 0, 0, 0, 1, 1, 2, 2, 2, 3, 3, 3, 4, 4, 5, 5, 6, 6, 6, 6],\n",
              "        [1, 3, 5, 6, 0, 5, 3, 4, 6, 0, 2, 6, 2, 6, 0, 1, 0, 2, 3, 4]])"
            ]
          },
          "execution_count": 59,
          "metadata": {},
          "output_type": "execute_result"
        }
      ],
      "source": [
        "ok = create_graph_Fg(X_train[100], y_train[100])\n",
        "ok.edge_index"
      ]
    },
    {
      "cell_type": "code",
      "execution_count": 60,
      "id": "089f94f1",
      "metadata": {},
      "outputs": [
        {
          "data": {
            "image/png": "[encoded data removed]",
            "text/plain": [
              "<Figure size 640x480 with 1 Axes>"
            ]
          },
          "metadata": {},
          "output_type": "display_data"
        }
      ],
      "source": [
        "import networkx as nx\n",
        "import torch_geometric\n",
        "\n",
        "edge_index = ok.edge_index\n",
        "x = ok.x\n",
        "\n",
        "data = ok\n",
        "g = torch_geometric.utils.to_networkx(data, to_undirected=True)\n",
        "nx.draw(g)"
      ]
    },
    {
      "cell_type": "code",
      "execution_count": 61,
      "id": "f47f92fb",
      "metadata": {},
      "outputs": [],
      "source": [
        "from torch_geometric.loader import DataLoader\n",
        "\n",
        "# Load train data into a list of Data objects\n",
        "train_graphs_lst = []\n",
        "for i in range(len(X_train)):\n",
        "    train_graphs_lst.append(create_graph_Fg(X_train[i], y_train[i]))\n",
        "\n",
        "# Create train DataLoader\n",
        "train_dataloader = DataLoader(train_graphs_lst, batch_size=1, shuffle=True)\n",
        "\n",
        "# Load test data into a list of Data objects\n",
        "test_graphs_lst = []\n",
        "for i in range(len(X_test)):\n",
        "    test_graphs_lst.append(create_graph_Fg(X_test[i], y_test[i]))\n",
        "\n",
        "# Create test DataLoader\n",
        "test_dataloader = DataLoader(test_graphs_lst, batch_size=1, shuffle=False)"
      ]
    },
    {
      "cell_type": "code",
      "execution_count": 62,
      "id": "e9b9a698",
      "metadata": {},
      "outputs": [
        {
          "name": "stdout",
          "output_type": "stream",
          "text": [
            "FIRST 3 BATCHES IN TRAIN LOADER:\n",
            "________________________________\n",
            "\n",
            "DataBatch(x=[9, 5], edge_index=[2, 30], edge_attr=[30, 1], y=[9, 2], batch=[9], ptr=[2])\n",
            "Num graphs: 1 \n",
            "\n",
            "DataBatch(x=[9, 5], edge_index=[2, 18], edge_attr=[18, 1], y=[9, 2], batch=[9], ptr=[2])\n",
            "Num graphs: 1 \n",
            "\n",
            "DataBatch(x=[9, 5], edge_index=[2, 14], edge_attr=[14, 1], y=[9, 2], batch=[9], ptr=[2])\n",
            "Num graphs: 1 \n",
            "\n",
            ".....\n"
          ]
        }
      ],
      "source": [
        "print('FIRST 3 BATCHES IN TRAIN LOADER:\\n________________________________\\n')\n",
        "\n",
        "cnt = 0\n",
        "for batch in train_dataloader:\n",
        "    if cnt < 3:\n",
        "        print(batch)\n",
        "        print('Num graphs:', batch.num_graphs, '\\n')\n",
        "    cnt += 1\n",
        "    batch1 = batch\n",
        "\n",
        "print('.....')"
      ]
    },
    {
      "attachments": {},
      "cell_type": "markdown",
      "id": "18b2874d",
      "metadata": {
        "id": "18b2874d"
      },
      "source": [
        "# Model Implementation"
      ]
    },
    {
      "cell_type": "code",
      "execution_count": 63,
      "id": "7bfdeea9",
      "metadata": {},
      "outputs": [],
      "source": [
        "class MLP(nn.Module):\n",
        "    def __init__(self, input_dim, hid_dims, out_dim):\n",
        "        super(MLP, self).__init__()\n",
        "\n",
        "        self.mlp = nn.Sequential()\n",
        "        dims = [input_dim] + hid_dims + [out_dim]\n",
        "        for i in range(len(dims)-1):\n",
        "            self.mlp.add_module('layer_{}'.format(i),nn.Linear(in_features=dims[i], out_features=dims[i+1]))\n",
        "            if i+2 < len(dims):\n",
        "                self.mlp.add_module('activation_{}'.format(i), nn.ReLU())\n",
        "\n",
        "    def reset_parameters(self):\n",
        "        for i, l in enumerate(self.mlp):\n",
        "            if type(l) == nn.Linear:\n",
        "                nn.init.xavier_normal_(l.weight)\n",
        "\n",
        "    def forward(self, x):\n",
        "        return self.mlp(x)"
      ]
    },
    {
      "cell_type": "code",
      "execution_count": 67,
      "id": "f8a4c557",
      "metadata": {},
      "outputs": [],
      "source": [
        "from torch_geometric.nn.conv import GatedGraphConv\n",
        "\n",
        "class GGNN(torch.nn.Module):\n",
        "    def __init__(self):\n",
        "        super(GGNN, self).__init__()\n",
        "        \n",
        "        self.conv = GatedGraphConv(out_channels=32, num_layers=5, aggr='max')\n",
        "        self.mlp = MLP(32, [32], 2)\n",
        "        \n",
        "    def forward(self, graph):\n",
        "        x = self.conv(graph.x, graph.edge_index)\n",
        "        x = self.mlp(x)\n",
        "        return x"
      ]
    },
    {
      "cell_type": "code",
      "execution_count": 68,
      "id": "43f32cf5",
      "metadata": {},
      "outputs": [],
      "source": [
        "from collections import namedtuple\n",
        "\n",
        "device = torch.device('cuda')\n",
        "\n",
        "model = GGNN().double().to(device)\n",
        "optimizer = torch.optim.Adam(model.parameters(), lr=0.001)\n",
        "loss_fn = nn.MSELoss()\n",
        "\n",
        "def train(train_graph):\n",
        "    model.train()\n",
        "    optimizer.zero_grad()\n",
        "    train_pred = model(train_graph)\n",
        "    train_loss = loss_fn(train_pred, train_graph.y)\n",
        "    train_loss.backward()\n",
        "    optimizer.step()\n",
        "    return train_pred, train_loss\n",
        "\n",
        "def test(test_graph):\n",
        "    model.eval()\n",
        "    test_pred = model(test_graph)\n",
        "    test_loss = loss_fn(test_pred, test_graph.y)\n",
        "    return test_pred, test_loss"
      ]
    },
    {
      "cell_type": "code",
      "execution_count": 69,
      "id": "9f4f3318",
      "metadata": {},
      "outputs": [
        {
          "name": "stdout",
          "output_type": "stream",
          "text": [
            "Epoch: 0, Train Loss: 15.37073546566091, Test Loss: 19.756000818745566\n",
            "Epoch: 1, Train Loss: 8.04983251487918, Test Loss: 11.912093638246276\n",
            "Epoch: 2, Train Loss: 6.0914695067951845, Test Loss: 7.540212771746417\n",
            "Epoch: 3, Train Loss: 5.193930787080169, Test Loss: 7.0422077212242895\n",
            "Epoch: 4, Train Loss: 5.687077831261396, Test Loss: 7.324226846821135\n",
            "Epoch: 5, Train Loss: 5.5271196153528495, Test Loss: 6.808415332942362\n",
            "Epoch: 6, Train Loss: 6.6759170033188004, Test Loss: 6.475899338849139\n",
            "Epoch: 7, Train Loss: 4.995718240979496, Test Loss: 6.294398600396012\n",
            "Epoch: 8, Train Loss: 4.875117476335958, Test Loss: 6.796029633114392\n",
            "Epoch: 9, Train Loss: 4.980773918157185, Test Loss: 6.7105964646366685\n",
            "Epoch: 10, Train Loss: 4.424449406734912, Test Loss: 6.310796003453752\n",
            "Epoch: 11, Train Loss: 4.624107640595443, Test Loss: 5.723480730720994\n",
            "Epoch: 12, Train Loss: 4.6153233498155615, Test Loss: 5.39113014656937\n",
            "Epoch: 13, Train Loss: 4.221180872773243, Test Loss: 5.609391549784277\n",
            "Epoch: 14, Train Loss: 4.41945939608372, Test Loss: 5.02732440415938\n",
            "Epoch: 15, Train Loss: 3.857521026929314, Test Loss: 5.320505152637114\n",
            "Epoch: 16, Train Loss: 4.588460289648054, Test Loss: 5.386470026133309\n",
            "Epoch: 17, Train Loss: 4.786312831592886, Test Loss: 5.488839066330925\n",
            "Epoch: 18, Train Loss: 4.603350595552053, Test Loss: 5.304079253022928\n",
            "Epoch: 19, Train Loss: 4.548523077865361, Test Loss: 5.598716540954315\n",
            "Epoch: 20, Train Loss: 4.781145441143923, Test Loss: 5.725118304086613\n",
            "Epoch: 21, Train Loss: 3.501115398776192, Test Loss: 5.448702362627931\n",
            "Epoch: 22, Train Loss: 3.6791522289814504, Test Loss: 5.248309091449452\n",
            "Epoch: 23, Train Loss: 10.763858528700682, Test Loss: 5.677024344642248\n",
            "Epoch: 24, Train Loss: 4.817181442955323, Test Loss: 5.424456503320206\n",
            "Epoch: 25, Train Loss: 4.814903443246621, Test Loss: 5.382326674328125\n",
            "Epoch: 26, Train Loss: 4.496493407151291, Test Loss: 5.485723436896071\n",
            "Epoch: 27, Train Loss: 3.233670955648848, Test Loss: 5.63241657525764\n",
            "Epoch: 28, Train Loss: 4.523752105288839, Test Loss: 5.580290181773138\n",
            "Epoch: 29, Train Loss: 4.333762984488658, Test Loss: 5.451295045442899\n",
            "Epoch: 30, Train Loss: 3.6583874383413013, Test Loss: 5.8181876770123955\n",
            "Epoch: 31, Train Loss: 4.131455713340648, Test Loss: 5.532915126930908\n",
            "Epoch: 32, Train Loss: 3.578862559290063, Test Loss: 6.066209270446841\n",
            "Epoch: 33, Train Loss: 4.435835957644886, Test Loss: 6.164080116442966\n",
            "Epoch: 34, Train Loss: 4.3824860047032566, Test Loss: 5.697868490996657\n",
            "Epoch: 35, Train Loss: 3.730210271612256, Test Loss: 5.61961220336231\n",
            "Epoch: 36, Train Loss: 4.7992120699707606, Test Loss: 5.037669998663415\n",
            "Epoch: 37, Train Loss: 4.314516121608993, Test Loss: 5.49311031266697\n",
            "Epoch: 38, Train Loss: 4.108831380782156, Test Loss: 5.1153334700303885\n",
            "Epoch: 39, Train Loss: 4.187956962307857, Test Loss: 4.775523010554048\n",
            "Epoch: 40, Train Loss: 3.3684274702588834, Test Loss: 4.283446574204766\n",
            "Epoch: 41, Train Loss: 4.4037886833347395, Test Loss: 5.390397900726396\n",
            "Epoch: 42, Train Loss: 4.336987509006101, Test Loss: 4.900688137146436\n",
            "Epoch: 43, Train Loss: 3.8976295525711775, Test Loss: 4.817405943397312\n",
            "Epoch: 44, Train Loss: 3.7423565277474946, Test Loss: 4.347303510066014\n",
            "Epoch: 45, Train Loss: 3.8036587904166477, Test Loss: 5.38724966391103\n",
            "Epoch: 46, Train Loss: 3.560943117949636, Test Loss: 5.125086296437859\n",
            "Epoch: 47, Train Loss: 9.920313340472024, Test Loss: 5.056042562067162\n",
            "Epoch: 48, Train Loss: 3.5205477672379395, Test Loss: 6.034639722748561\n",
            "Epoch: 49, Train Loss: 4.127041560218548, Test Loss: 4.827338739937443\n"
          ]
        }
      ],
      "source": [
        "GraphPred = namedtuple('GraphPred', ['graph', 'pred'])\n",
        "train_graph_preds = []\n",
        "test_graph_preds = []\n",
        "\n",
        "for epoch in range(50):\n",
        "    train_losses = 0\n",
        "    test_losses = 0\n",
        "\n",
        "    for batch in range(64):\n",
        "        train_graph = next(iter(train_dataloader)).to(device)\n",
        "        test_graph = next(iter(test_dataloader)).to(device)\n",
        "        train_pred, train_loss = train(train_graph)\n",
        "        test_pred, test_loss = test(test_graph)\n",
        "        train_losses += train_loss\n",
        "        test_losses += test_loss\n",
        "        train_graph_preds.append(GraphPred(train_graph, train_pred))\n",
        "        test_graph_preds.append(GraphPred(test_graph, test_pred))\n",
        "\n",
        "    avg_train_loss = train_losses/64\n",
        "    avg_test_loss = test_losses/64\n",
        "\n",
        "    print(f'Epoch: {epoch}, Train Loss: {avg_train_loss}, Test Loss: {avg_test_loss}')"
      ]
    },
    {
      "cell_type": "code",
      "execution_count": 70,
      "id": "f887d530",
      "metadata": {},
      "outputs": [],
      "source": [
        "train_ex = train_graph_preds[0]\n",
        "ex_x, ex_pred, ex_y = train_ex.graph.x.cpu().numpy(), train_ex.pred.cpu().detach().numpy(), train_ex.graph.y.cpu().numpy()\n",
        "# mass = ex_x[:,0]\n",
        "# x1,y1 = ex_x[:,1], ex_x[:,2]\n",
        "# vx1,vy1 = ex_x[:,3], ex_x[:,4]\n",
        "x2,y2 = ex_y[:,0], ex_y[:,1]\n",
        "x2_pred,y2_pred = ex_pred[:,0], ex_pred[:,1]"
      ]
    },
    {
      "cell_type": "code",
      "execution_count": 71,
      "id": "b754958c",
      "metadata": {},
      "outputs": [],
      "source": [
        "# The arrays returned by the function are structures as follows:\n",
        "# initial_state: shape (n_bodies, [mass, x, y, v_x, v_y])\n",
        "# terminal_state: shape (n_bodies, [x, y])\n",
        "\n",
        "particle_data = np.c_[ex_x, x2, y2, x2_pred, y2_pred]"
      ]
    },
    {
      "cell_type": "code",
      "execution_count": 72,
      "id": "487627f8",
      "metadata": {},
      "outputs": [],
      "source": [
        "# Point Prediction Visualization Function (created with help of GPT)\n",
        "\n",
        "import matplotlib.pyplot as plt\n",
        "from matplotlib.lines import Line2D\n",
        "\n",
        "def visualize_particles(particle_data):\n",
        "    num_particles = particle_data.shape[0]\n",
        "\n",
        "    # Prepare plot\n",
        "    fig, ax = plt.subplots()\n",
        "\n",
        "    # Plot particles\n",
        "    for i in range(num_particles):\n",
        "        mass = particle_data[i, 0]\n",
        "        initial_x = particle_data[i, 1]\n",
        "        initial_y = particle_data[i, 2]\n",
        "        final_x = particle_data[i, 5]\n",
        "        final_y = particle_data[i, 6]\n",
        "        predicted_final_x = particle_data[i, 7]\n",
        "        predicted_final_y = particle_data[i, 8]\n",
        "        initial_vx = particle_data[i, 3]\n",
        "        initial_vy = particle_data[i, 4]\n",
        "\n",
        "        # Plot initial position with particle number\n",
        "        ax.scatter(initial_x, initial_y, color=f'C{i}', s=mass*50, label=f'Particle {i+1}')\n",
        "        ax.text(initial_x, initial_y, str(i+1), color='white', ha='center', va='center')\n",
        "\n",
        "        # Plot final position with particle number and 'x'\n",
        "        ax.scatter(final_x, final_y, color=f'C{i}', marker='x')\n",
        "        ax.text(final_x, final_y, f'{i+1}', color='grey', ha='center', va='bottom')\n",
        "\n",
        "        # Plot predicted final position with 'x'\n",
        "        ax.scatter(predicted_final_x, predicted_final_y, color=f'C{i}', marker='x', alpha=0.3)\n",
        "\n",
        "        # Plot line connecting real and predicted final positions\n",
        "        ax.plot([final_x, predicted_final_x], [final_y, predicted_final_y], color=f'C{i}', linestyle='dotted', alpha=0.5)\n",
        "\n",
        "        # # Calculate position for particle number text\n",
        "        # text_x = (final_x + predicted_final_x) / 2\n",
        "        # text_y = (final_y + predicted_final_y) / 2 + 0.2\n",
        "\n",
        "        # # # Annotate particle number above the line\n",
        "        # # ax.annotate(f'{i+1}', (text_x, text_y), color=f'C{i}', ha='center', va='bottom')\n",
        "\n",
        "        # Plot velocity vector\n",
        "        ax.arrow(initial_x, initial_y, initial_vx, initial_vy, color=f'C{i}', head_width=0.2)\n",
        "\n",
        "    # Set labels and title\n",
        "    ax.set_xlabel('X-coordinate')\n",
        "    ax.set_ylabel('Y-coordinate')\n",
        "    ax.set_title('Point Prediction Visualization')\n",
        "\n",
        "    # Create custom legend handles and labels\n",
        "    legend_elements = [\n",
        "        Line2D([0], [0], marker='x', linestyle='None', color='k', label='Final Position'),\n",
        "        Line2D([0], [0], marker='x', linestyle='None', color='k', alpha=0.3, label='Predicted Final Position'),\n",
        "        Line2D([0], [0], marker='>', linestyle='None', color='k', label='Velocity Vector'),\n",
        "        Line2D([0], [0], marker='o', linestyle='None', color='k', label='Particle Number (Size ~ Mass)'),\n",
        "        Line2D([0], [0], color='k', linestyle='dotted', label='Difference Between Real and Pred')\n",
        "    ]\n",
        "    ax.legend(handles=legend_elements, bbox_to_anchor=(1, 1), loc='upper left')\n",
        "\n",
        "    # Show the plot\n",
        "    plt.show()"
      ]
    },
    {
      "cell_type": "code",
      "execution_count": 73,
      "id": "07270d23",
      "metadata": {},
      "outputs": [
        {
          "data": {
            "image/png": "[encoded data removed]",
            "text/plain": [
              "<Figure size 640x480 with 1 Axes>"
            ]
          },
          "metadata": {},
          "output_type": "display_data"
        }
      ],
      "source": [
        "visualize_particles(particle_data)"
      ]
    }
  ],
  "metadata": {
    "colab": {
      "provenance": []
    },
    "kernelspec": {
      "display_name": "Python 3 (ipykernel)",
      "language": "python",
      "name": "python3"
    },
    "language_info": {
      "codemirror_mode": {
        "name": "ipython",
        "version": 3
      },
      "file_extension": ".py",
      "mimetype": "text/x-python",
      "name": "python",
      "nbconvert_exporter": "python",
      "pygments_lexer": "ipython3",
      "version": "3.10.10"
    }
  },
  "nbformat": 4,
  "nbformat_minor": 5
}
