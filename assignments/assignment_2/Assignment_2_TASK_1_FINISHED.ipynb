{
  "cells": [
    {
      "cell_type": "markdown",
      "metadata": {
        "id": "d32f8d18"
      },
      "source": [
        "# Group Details\n",
        "\n",
        "## Group Name: Group 08\n",
        "\n",
        "### Student 1: Jasper Linders\n",
        "\n",
        "### Student 2: Alexander Liu\n",
        "\n",
        "### Student 3: Sjoerd van Straten"
      ],
      "id": "d32f8d18"
    },
    {
      "cell_type": "markdown",
      "metadata": {
        "id": "faec2056"
      },
      "source": [
        "# Loading Data and Preliminaries"
      ],
      "id": "faec2056"
    },
    {
      "cell_type": "code",
      "execution_count": 58,
      "metadata": {
        "colab": {
          "base_uri": "https://localhost:8080/"
        },
        "id": "udTLsaQ9H5Nw",
        "outputId": "ff5a722b-9cbd-4700-fc27-9f8f6df17293"
      },
      "outputs": [
        {
          "output_type": "stream",
          "name": "stdout",
          "text": [
            "Drive already mounted at /content/drive; to attempt to forcibly remount, call drive.mount(\"/content/drive\", force_remount=True).\n"
          ]
        }
      ],
      "source": [
        "from google.colab import drive\n",
        "drive.mount('/content/drive')"
      ],
      "id": "udTLsaQ9H5Nw"
    },
    {
      "cell_type": "code",
      "execution_count": 59,
      "metadata": {
        "id": "7d0580a5"
      },
      "outputs": [],
      "source": [
        "import matplotlib.pyplot as plt\n",
        "import matplotlib\n",
        "import numpy as np"
      ],
      "id": "7d0580a5"
    },
    {
      "cell_type": "code",
      "execution_count": 60,
      "metadata": {
        "id": "mom5nRqivEiR"
      },
      "outputs": [],
      "source": [
        "import torch\n",
        "import torch.nn as nn\n",
        "import torch.nn.functional as F"
      ],
      "id": "mom5nRqivEiR"
    },
    {
      "cell_type": "code",
      "execution_count": 61,
      "metadata": {
        "id": "b0756591"
      },
      "outputs": [],
      "source": [
        "def load_array(filename, task):\n",
        "    datapoint = np.load(filename)\n",
        "    if task == 'task 1':\n",
        "        initial_state = datapoint['initial_state']\n",
        "        terminal_state = datapoint['terminal_state']\n",
        "        return initial_state, terminal_state\n",
        "    elif task == 'task 2' or task == 'task 3':\n",
        "        whole_trajectory = datapoint['trajectory']\n",
        "        # change shape: (num_bodies, attributes, time) ->  num_bodies, time, attributes\n",
        "        whole_trajectory = np.swapaxes(whole_trajectory, 1, 2)\n",
        "        initial_state = whole_trajectory[:, 0]\n",
        "        target = whole_trajectory[:, 1:, 1:]  # drop the first timepoint (second dim) and mass (last dim) for the prediction task\n",
        "        return initial_state, target\n",
        "    else:\n",
        "        raise NotImplementedError(\"'task' argument should be 'task 1', 'task 2' or 'task 3'!\")\n"
      ],
      "id": "b0756591"
    },
    {
      "cell_type": "code",
      "execution_count": 62,
      "metadata": {
        "colab": {
          "base_uri": "https://localhost:8080/"
        },
        "id": "1c3ea4cb",
        "outputId": "0b1c515e-993c-4044-d64b-99597a9f3220"
      },
      "outputs": [
        {
          "output_type": "stream",
          "name": "stdout",
          "text": [
            "shape of initial state (model input): (8, 5)\n",
            "shape of terminal state (to be predicted by model): (8, 49, 4)\n",
            "The y-coordinate of the body with index 2 at time with index 30 in remaining_trajectory was -0.3861544940435097\n",
            "the shape of the input of a test data example is (8, 5)\n",
            "the shape of the target of a test data example is (8, 49, 4)\n",
            "values of the test data example at time 30:\n",
            " [[-5.85725792 -5.394571           nan         nan]\n",
            " [-6.03781257 -5.72445953         nan         nan]\n",
            " [-0.90623054 -6.93416278         nan         nan]\n",
            " [ 2.83149339 -7.50100819         nan         nan]\n",
            " [-2.85586881  1.77667501         nan         nan]\n",
            " [ 4.04424526  4.00563603         nan         nan]\n",
            " [-5.24887713 -4.83081005         nan         nan]\n",
            " [-5.81391023 -5.1109838          nan         nan]]\n",
            "note: velocity values are unobserved (NaNs) in the test data!\n"
          ]
        }
      ],
      "source": [
        "\"\"\"\n",
        "This cell gives an example of loading a datapoint with numpy for task 2 / 3.\n",
        "\n",
        "The arrays returned by the function are structures as follows:\n",
        "initial_state: shape (n_bodies, [mass, x, y, v_x, v_y])\n",
        "remaining_trajectory: shape (n_bodies, time, [x, y, v_x, v_y])\n",
        "\n",
        "Note that for this task, you are asked to evaluate performance only with regard to the predictions of the positions (x and y).\n",
        "If you use the velocity of the remaining trajectory for training,\n",
        "this use should be purely auxiliary for the goal of predicting the positions [x,y] over time.\n",
        "While testing performance of your model on the test set, you do not have access to v_x and v_y of the remaining trajectory.\n",
        "\n",
        "\"\"\"\n",
        "\n",
        "example = load_array('/content/drive/MyDrive/Assignment 2/data/task 2_3/train/trajectory_0.npz', task='task 2')\n",
        "\n",
        "initial_state, remaining_trajectory = example\n",
        "print(f'shape of initial state (model input): {initial_state.shape}')\n",
        "print(f'shape of terminal state (to be predicted by model): {remaining_trajectory.shape}')\n",
        "\n",
        "body_idx = 2\n",
        "time_idx = 30\n",
        "print(f'The y-coordinate of the body with index {body_idx} at time with index {time_idx} in remaining_trajectory was {remaining_trajectory[body_idx, time_idx, 1]}')\n",
        "\n",
        "test_example = load_array('/content/drive/MyDrive/Assignment 2/data/task 2_3/test/trajectory_900.npz', task='task 3')\n",
        "test_initial_state, test_remaining_trajectory = test_example\n",
        "print(f'the shape of the input of a test data example is {test_initial_state.shape}')\n",
        "print(f'the shape of the target of a test data example is {test_remaining_trajectory.shape}')\n",
        "print(f'values of the test data example at time {time_idx}:\\n {test_remaining_trajectory[:, time_idx]}')\n",
        "print('note: velocity values are unobserved (NaNs) in the test data!')"
      ],
      "id": "1c3ea4cb"
    },
    {
      "cell_type": "code",
      "execution_count": 63,
      "metadata": {
        "colab": {
          "base_uri": "https://localhost:8080/"
        },
        "id": "bb77a4be",
        "outputId": "55af0ee6-c77d-4e1a-ea92-bdb1eed737af"
      },
      "outputs": [
        {
          "output_type": "stream",
          "name": "stdout",
          "text": [
            "shape of initial state (model input): (9, 5)\n",
            "shape of terminal state (to be predicted by model): (9, 2)\n",
            "The initial x-coordinate of the body with index 2 in this trajectory was -6.368508338132521\n"
          ]
        }
      ],
      "source": [
        "\"\"\"\n",
        "This cell gives an example of loading a datapoint with numpy for task 1.\n",
        "\n",
        "The arrays returned by the function are structures as follows:\n",
        "initial_state: shape (n_bodies, [mass, x, y, v_x, v_y])\n",
        "terminal_state: shape (n_bodies, [x, y])\n",
        "\n",
        "\"\"\"\n",
        "example = load_array('/content/drive/MyDrive/Assignment 2/data/task 1/train/trajectory_2.npz', task='task 1')\n",
        "\n",
        "initial_state, terminal_state = example\n",
        "print(f'shape of initial state (model input): {initial_state.shape}')\n",
        "print(f'shape of terminal state (to be predicted by model): {terminal_state.shape}')\n",
        "\n",
        "body_idx = 2\n",
        "print(f'The initial x-coordinate of the body with index {body_idx} in this trajectory was {initial_state[body_idx, 1]}')"
      ],
      "id": "bb77a4be"
    },
    {
      "cell_type": "markdown",
      "metadata": {
        "id": "059b633c"
      },
      "source": [
        "# Data Handling and Preprocessing"
      ],
      "id": "059b633c"
    },
    {
      "cell_type": "markdown",
      "metadata": {
        "id": "La_2PbAqfEXj"
      },
      "source": [
        "First, let's import the data and make variables for the train and test data."
      ],
      "id": "La_2PbAqfEXj"
    },
    {
      "cell_type": "code",
      "execution_count": 64,
      "metadata": {
        "colab": {
          "base_uri": "https://localhost:8080/"
        },
        "id": "usUER0gM6OOM",
        "outputId": "01b65f3b-89a8-48f2-c827-0b5c524f8fd3"
      },
      "outputs": [
        {
          "output_type": "stream",
          "name": "stdout",
          "text": [
            "X_train shape:  torch.Size([700, 9, 5])\n",
            "y_train shape:  torch.Size([700, 9, 2])\n",
            "X_val shape:  torch.Size([200, 9, 5])\n",
            "y_val shape:  torch.Size([200, 9, 2])\n",
            "X_test shape:  torch.Size([100, 9, 5])\n",
            "y_test shape:  torch.Size([100, 9, 2])\n"
          ]
        }
      ],
      "source": [
        "import os\n",
        "from torch.utils.data import Dataset, DataLoader, TensorDataset\n",
        "\n",
        "class ImportData(Dataset):\n",
        "    def __init__(self, folder_path):\n",
        "        self.folder_path = folder_path\n",
        "        self.file_list = sorted(os.listdir(folder_path))\n",
        "\n",
        "    def __len__(self):\n",
        "        return len(self.file_list)\n",
        "\n",
        "    def __getitem__(self, index):\n",
        "        file_name = self.file_list[index]\n",
        "        file_path = os.path.join(self.folder_path, file_name)\n",
        "        data, label = load_array(file_path, task='task 1')\n",
        "        return data, label\n",
        "\n",
        "# Create an instance of the custom dataset class with the folder path\n",
        "train_import = ImportData('/content/drive/MyDrive/Assignment 2/data/task 1/train/')\n",
        "test_import = ImportData('/content/drive/MyDrive/Assignment 2/data/task 1/test/')\n",
        "\n",
        "X_train_import = []\n",
        "y_train_import = []\n",
        "X_test_import = []\n",
        "y_test_import = []\n",
        "\n",
        "# Iterate through the train_dataset to extract data and labels\n",
        "for data, label in train_import:\n",
        "    X_train_import.append(data)\n",
        "    y_train_import.append(label)\n",
        "\n",
        "for data, label in test_import:\n",
        "    X_test_import.append(data)\n",
        "    y_test_import.append(label)\n",
        "\n",
        "max_length = 9\n",
        "\n",
        "# Pad the data samples with zeros to have the same shape\n",
        "X_train_padded = []\n",
        "for data in X_train_import:\n",
        "    pad_width = max_length - data.shape[0]\n",
        "    padded_data = np.pad(data, ((0, pad_width), (0, 0)), mode='constant')\n",
        "    X_train_padded.append(padded_data)\n",
        "\n",
        "y_train_padded = []\n",
        "for label in y_train_import:\n",
        "    pad_width = max_length - label.shape[0]\n",
        "    padded_label = np.pad(label, ((0, pad_width), (0, 0)), mode='constant')\n",
        "    y_train_padded.append(padded_label)\n",
        "\n",
        "X_test_padded = []\n",
        "for data in X_test_import:\n",
        "    pad_width = max_length - data.shape[0]\n",
        "    padded_data = np.pad(data, ((0, pad_width), (0, 0)), mode='constant')\n",
        "    X_test_padded.append(padded_data)\n",
        "\n",
        "y_test_padded = []\n",
        "for label in y_test_import:\n",
        "    pad_width = max_length - label.shape[0]\n",
        "    padded_label = np.pad(label, ((0, pad_width), (0, 0)), mode='constant')\n",
        "    y_test_padded.append(padded_label)\n",
        "\n",
        "# Convert the padded data and labels to tensors\n",
        "X_train_first = torch.tensor(np.array(X_train_padded))\n",
        "y_train_first = torch.tensor(np.array(y_train_padded))\n",
        "\n",
        "X_train = X_train_first[:700]\n",
        "y_train = y_train_first[:700]\n",
        "X_val = X_train_first[700:900]\n",
        "y_val = y_train_first[700:900]\n",
        "X_test = torch.tensor(np.array(X_test_padded))\n",
        "y_test = torch.tensor(np.array(y_test_padded))\n",
        "\n",
        "\n",
        "# Print the shape of X_train and the first label in y_train\n",
        "print(\"X_train shape: \", X_train.shape)\n",
        "print(\"y_train shape: \", y_train.shape)\n",
        "print(\"X_val shape: \", X_val.shape)\n",
        "print(\"y_val shape: \", y_val.shape)\n",
        "print(\"X_test shape: \", X_test.shape)\n",
        "print(\"y_test shape: \", y_test.shape)\n",
        "\n",
        "#Make datasets\n",
        "train_dataset = TensorDataset(X_train, y_train)\n",
        "val_dataset = TensorDataset(X_val, y_val)\n",
        "test_dataset = TensorDataset(X_test, y_test)\n",
        "\n",
        "#Make dataloader\n",
        "train_dataloader = DataLoader(train_dataset, batch_size=1, shuffle=True)\n",
        "val_dataloader = DataLoader(val_dataset, batch_size=1, shuffle=True)\n",
        "test_dataloader = DataLoader(test_dataset, batch_size=1, shuffle=True)"
      ],
      "id": "usUER0gM6OOM"
    },
    {
      "cell_type": "markdown",
      "metadata": {
        "id": "18b2874d"
      },
      "source": [
        "# Model Implementation"
      ],
      "id": "18b2874d"
    },
    {
      "cell_type": "code",
      "source": [
        "def compute_sum_euclidean(output, target):\n",
        "    distance = 0\n",
        "    output = output.detach().numpy()\n",
        "    target = target.numpy()\n",
        "    for i in range(len(target)):\n",
        "        # print(output[i], target[i])\n",
        "        dist = np.linalg.norm(output[i] - target[i])\n",
        "        # print(dist)\n",
        "        distance += dist\n",
        "    return distance"
      ],
      "metadata": {
        "id": "JP8-vJTkZ0vW"
      },
      "id": "JP8-vJTkZ0vW",
      "execution_count": 65,
      "outputs": []
    },
    {
      "cell_type": "code",
      "source": [
        "class LSTM(nn.Module):\n",
        "    def __init__(self):\n",
        "        super().__init__()\n",
        "        self.lstm = nn.LSTM(input_size=5, hidden_size=64, num_layers=5, batch_first=True)\n",
        "        self.linear = nn.Linear(64, 2)\n",
        "\n",
        "    def forward(self, x):\n",
        "        x, _ = self.lstm(x)\n",
        "        # print(_[1].shape)\n",
        "        x = self.linear(x)\n",
        "        return x"
      ],
      "metadata": {
        "id": "xF5PQze1eptQ"
      },
      "id": "xF5PQze1eptQ",
      "execution_count": 66,
      "outputs": []
    },
    {
      "cell_type": "markdown",
      "metadata": {
        "id": "dea70d73"
      },
      "source": [
        "# Model Training"
      ],
      "id": "dea70d73"
    },
    {
      "cell_type": "code",
      "source": [
        "import torch.optim as optim\n",
        "\n",
        "# Instantiate the MLP model\n",
        "model = LSTM()\n",
        "\n",
        "# Define the loss function\n",
        "criterion = nn.MSELoss()\n",
        "\n",
        "# Define the optimizer\n",
        "optimizer = optim.Adam(model.parameters(), lr=0.001)\n",
        "\n",
        "# Set the number of epochs\n",
        "num_epochs = 200\n",
        "\n",
        "losses = []\n",
        "distances = []\n",
        "\n",
        "# Training loop\n",
        "for epoch in range(num_epochs):\n",
        "    # Set the model to training mode\n",
        "    model.train()\n",
        "    running_loss = 0.0\n",
        "    dist = []\n",
        "    num_objects = 9\n",
        "    output_dim = 2\n",
        "\n",
        "    # Iterate over the batches in the training data loader\n",
        "    for inputs, labels in train_dataloader:\n",
        "        # Convert input and label tensors to the same data type as model weights\n",
        "        inputs = inputs.float()\n",
        "        labels = labels.float()\n",
        "\n",
        "        # Clear gradients\n",
        "        optimizer.zero_grad()\n",
        "\n",
        "        # Forward pass\n",
        "        outputs = model(inputs)\n",
        "\n",
        "        # Calculate the loss\n",
        "        loss = criterion(outputs, labels)\n",
        "        distance = compute_sum_euclidean(outputs, labels)\n",
        "\n",
        "        # Backward pass\n",
        "        loss.backward()\n",
        "\n",
        "        # Update the weights\n",
        "        optimizer.step()\n",
        "\n",
        "        running_loss += loss.item()\n",
        "        dist.append(distance)\n",
        "\n",
        "    # Calculate average loss and distance for the epoch\n",
        "    epoch_loss = running_loss / len(train_dataloader)\n",
        "    epoch_distance = np.mean(dist)\n",
        "\n",
        "    # Append to the lists\n",
        "    losses.append(epoch_loss)\n",
        "    distances.append(epoch_distance)\n",
        "\n",
        "    # Print the training loss for each epoch\n",
        "    print(f\"Epoch {epoch + 1}/{num_epochs}, Training Loss: {epoch_loss}, Summed Distance: {epoch_distance}\")\n",
        "\n",
        "# Plotting the training loss curve\n",
        "plt.figure()\n",
        "plt.plot(losses)\n",
        "plt.xlabel('Epoch')\n",
        "plt.ylabel('Training Loss')\n",
        "plt.title('Training Loss Curve')\n",
        "plt.show()\n",
        "\n",
        "# Plotting the summed distance curve\n",
        "plt.figure()\n",
        "plt.plot(distances)\n",
        "plt.xlabel('Epoch')\n",
        "plt.ylabel('Summed Distance')\n",
        "plt.title('Summed Distance Curve')\n",
        "plt.show()\n"
      ],
      "metadata": {
        "colab": {
          "base_uri": "https://localhost:8080/",
          "height": 1000
        },
        "id": "EiHtKfdkfoe_",
        "outputId": "7c3f61bf-3691-4dda-b76f-d2a6ce73e597"
      },
      "id": "EiHtKfdkfoe_",
      "execution_count": 67,
      "outputs": [
        {
          "output_type": "stream",
          "name": "stdout",
          "text": [
            "Epoch 1/200, Training Loss: 12.97231744170189, Summed Distance: 14.453616760798862\n",
            "Epoch 2/200, Training Loss: 7.392170253694058, Summed Distance: 10.458172845499856\n",
            "Epoch 3/200, Training Loss: 5.7180246674163, Summed Distance: 9.07509381702968\n",
            "Epoch 4/200, Training Loss: 5.38295581047024, Summed Distance: 8.76730990443911\n",
            "Epoch 5/200, Training Loss: 5.121699065310614, Summed Distance: 8.52837441103799\n",
            "Epoch 6/200, Training Loss: 4.956773063625608, Summed Distance: 8.377119864225387\n",
            "Epoch 7/200, Training Loss: 4.778196995194469, Summed Distance: 8.209387710264751\n",
            "Epoch 8/200, Training Loss: 4.578410094593252, Summed Distance: 8.0151059789317\n",
            "Epoch 9/200, Training Loss: 4.379926004069192, Summed Distance: 7.817261485712868\n",
            "Epoch 10/200, Training Loss: 4.24991140508226, Summed Distance: 7.71104114992278\n",
            "Epoch 11/200, Training Loss: 4.076122419919287, Summed Distance: 7.521297940867288\n",
            "Epoch 12/200, Training Loss: 3.9372924070273125, Summed Distance: 7.3792115914821625\n",
            "Epoch 13/200, Training Loss: 3.808853631381478, Summed Distance: 7.247873652151653\n",
            "Epoch 14/200, Training Loss: 3.648423913334097, Summed Distance: 7.085079257828848\n",
            "Epoch 15/200, Training Loss: 3.5497633327969482, Summed Distance: 6.973835906301226\n",
            "Epoch 16/200, Training Loss: 3.418907832524606, Summed Distance: 6.864785088811602\n",
            "Epoch 17/200, Training Loss: 3.305373977561082, Summed Distance: 6.711042025089264\n",
            "Epoch 18/200, Training Loss: 3.1665187583863736, Summed Distance: 6.554796334164483\n",
            "Epoch 19/200, Training Loss: 3.0635236084035466, Summed Distance: 6.45116278392928\n",
            "Epoch 20/200, Training Loss: 2.9796450046982086, Summed Distance: 6.362463883161545\n",
            "Epoch 21/200, Training Loss: 2.83772334049855, Summed Distance: 6.200164166007723\n",
            "Epoch 22/200, Training Loss: 2.7366881894213813, Summed Distance: 6.078501588446754\n",
            "Epoch 23/200, Training Loss: 2.6285682796793326, Summed Distance: 5.9577632122380395\n",
            "Epoch 24/200, Training Loss: 2.501724968201348, Summed Distance: 5.803739890030452\n",
            "Epoch 25/200, Training Loss: 2.455580396173256, Summed Distance: 5.735569576195308\n",
            "Epoch 26/200, Training Loss: 2.3071456902474163, Summed Distance: 5.5348013636044096\n",
            "Epoch 27/200, Training Loss: 2.2407660629600286, Summed Distance: 5.4544857358932495\n",
            "Epoch 28/200, Training Loss: 2.1641736892397914, Summed Distance: 5.375314530134201\n",
            "Epoch 29/200, Training Loss: 2.07287087268063, Summed Distance: 5.237147659914834\n",
            "Epoch 30/200, Training Loss: 2.010747740513512, Summed Distance: 5.154613953488214\n",
            "Epoch 31/200, Training Loss: 1.925494623290641, Summed Distance: 5.046530149493899\n",
            "Epoch 32/200, Training Loss: 1.8334856960283858, Summed Distance: 4.913361081906728\n",
            "Epoch 33/200, Training Loss: 1.7776462854232107, Summed Distance: 4.830630364247731\n",
            "Epoch 34/200, Training Loss: 1.7541009136076484, Summed Distance: 4.805068289041519\n",
            "Epoch 35/200, Training Loss: 1.692427953965962, Summed Distance: 4.705447673031262\n",
            "Epoch 36/200, Training Loss: 1.625408005022577, Summed Distance: 4.6166240509918754\n",
            "Epoch 37/200, Training Loss: 1.5747824822366239, Summed Distance: 4.530509252037321\n",
            "Epoch 38/200, Training Loss: 1.4953053344466856, Summed Distance: 4.410757394518171\n",
            "Epoch 39/200, Training Loss: 1.4727875403740576, Summed Distance: 4.384984484400068\n",
            "Epoch 40/200, Training Loss: 1.4280080786560263, Summed Distance: 4.304832337754113\n",
            "Epoch 41/200, Training Loss: 1.392263615312321, Summed Distance: 4.244528699261801\n",
            "Epoch 42/200, Training Loss: 1.3465844017905848, Summed Distance: 4.17232275383813\n",
            "Epoch 43/200, Training Loss: 1.2924259285628796, Summed Distance: 4.085682155064174\n",
            "Epoch 44/200, Training Loss: 1.2796792932280472, Summed Distance: 4.078080452510289\n",
            "Epoch 45/200, Training Loss: 1.2225829281232188, Summed Distance: 3.968977211202894\n",
            "Epoch 46/200, Training Loss: 1.2304942627357585, Summed Distance: 3.9902505612373353\n",
            "Epoch 47/200, Training Loss: 1.1565143507931914, Summed Distance: 3.8516804287263327\n",
            "Epoch 48/200, Training Loss: 1.1027326292438167, Summed Distance: 3.75516600387437\n",
            "Epoch 49/200, Training Loss: 1.0740833478633847, Summed Distance: 3.72106078675815\n",
            "Epoch 50/200, Training Loss: 1.086479696109891, Summed Distance: 3.7546069981370653\n",
            "Epoch 51/200, Training Loss: 1.0631393618030207, Summed Distance: 3.7385032847949438\n",
            "Epoch 52/200, Training Loss: 1.026556931808591, Summed Distance: 3.649970955678395\n",
            "Epoch 53/200, Training Loss: 0.9942929816139596, Summed Distance: 3.5879703264577048\n",
            "Epoch 54/200, Training Loss: 0.9798266946205071, Summed Distance: 3.555670464549746\n",
            "Epoch 55/200, Training Loss: 0.9524759005223001, Summed Distance: 3.517694337112563\n",
            "Epoch 56/200, Training Loss: 0.9392906080612115, Summed Distance: 3.49780316557203\n",
            "Epoch 57/200, Training Loss: 0.8922421887623412, Summed Distance: 3.3965127049173627\n",
            "Epoch 58/200, Training Loss: 0.8905355260760657, Summed Distance: 3.4041931215354375\n",
            "Epoch 59/200, Training Loss: 0.9089719929971866, Summed Distance: 3.454333438192095\n",
            "Epoch 60/200, Training Loss: 0.8548620101170881, Summed Distance: 3.337642605815615\n",
            "Epoch 61/200, Training Loss: 0.8010584823946868, Summed Distance: 3.213666235123362\n",
            "Epoch 62/200, Training Loss: 0.8135821377645646, Summed Distance: 3.258034217442785\n",
            "Epoch 63/200, Training Loss: 0.7784398320423705, Summed Distance: 3.1996492285387856\n",
            "Epoch 64/200, Training Loss: 0.7529951452517084, Summed Distance: 3.144132853405816\n",
            "Epoch 65/200, Training Loss: 0.7663431544122952, Summed Distance: 3.1920456535475594\n",
            "Epoch 66/200, Training Loss: 0.7706643386610916, Summed Distance: 3.2055080449581146\n",
            "Epoch 67/200, Training Loss: 0.7275353536355709, Summed Distance: 3.109423319867679\n",
            "Epoch 68/200, Training Loss: 0.698042480099414, Summed Distance: 3.033765791910035\n",
            "Epoch 69/200, Training Loss: 0.7022683030766036, Summed Distance: 3.059077395456178\n",
            "Epoch 70/200, Training Loss: 0.681975032793624, Summed Distance: 3.009974978991917\n",
            "Epoch 71/200, Training Loss: 0.6727348155102559, Summed Distance: 2.9991015822546823\n",
            "Epoch 72/200, Training Loss: 0.643269352226385, Summed Distance: 2.928951800891331\n",
            "Epoch 73/200, Training Loss: 0.6553422264648335, Summed Distance: 2.97304929460798\n",
            "Epoch 74/200, Training Loss: 0.6305532242517387, Summed Distance: 2.9170195546320508\n",
            "Epoch 75/200, Training Loss: 0.61303574173046, Summed Distance: 2.887225832087653\n",
            "Epoch 76/200, Training Loss: 0.6154034732441817, Summed Distance: 2.883705184459686\n",
            "Epoch 77/200, Training Loss: 0.5966101915176426, Summed Distance: 2.8448387306928633\n",
            "Epoch 78/200, Training Loss: 0.5967926316841372, Summed Distance: 2.8382504222222735\n",
            "Epoch 79/200, Training Loss: 0.581975559525724, Summed Distance: 2.812217539634023\n",
            "Epoch 80/200, Training Loss: 0.5578189743576305, Summed Distance: 2.7477803805896213\n",
            "Epoch 81/200, Training Loss: 0.5224721017852425, Summed Distance: 2.661949130296707\n",
            "Epoch 82/200, Training Loss: 0.5377278814651072, Summed Distance: 2.7152412131854464\n",
            "Epoch 83/200, Training Loss: 0.5377197265571781, Summed Distance: 2.725871879884175\n",
            "Epoch 84/200, Training Loss: 0.5264982789222683, Summed Distance: 2.711893149614334\n",
            "Epoch 85/200, Training Loss: 0.5490559197164008, Summed Distance: 2.755629034468106\n",
            "Epoch 86/200, Training Loss: 0.4854240601563028, Summed Distance: 2.5891538766452245\n",
            "Epoch 87/200, Training Loss: 0.4637386486093913, Summed Distance: 2.527271618161883\n",
            "Epoch 88/200, Training Loss: 0.4727163251356355, Summed Distance: 2.548281568629401\n",
            "Epoch 89/200, Training Loss: 0.4594555943139962, Summed Distance: 2.5339601975679398\n",
            "Epoch 90/200, Training Loss: 0.45614812160975166, Summed Distance: 2.5336929656778064\n",
            "Epoch 91/200, Training Loss: 0.4573444535636476, Summed Distance: 2.545592855470521\n",
            "Epoch 92/200, Training Loss: 0.43946691715823755, Summed Distance: 2.4958290909017835\n",
            "Epoch 93/200, Training Loss: 0.43168091201090386, Summed Distance: 2.4766291655812944\n",
            "Epoch 94/200, Training Loss: 0.4260161497231041, Summed Distance: 2.46045768065112\n",
            "Epoch 95/200, Training Loss: 0.4069420366840703, Summed Distance: 2.401856631721769\n",
            "Epoch 96/200, Training Loss: 0.392058173963534, Summed Distance: 2.350379995022501\n",
            "Epoch 97/200, Training Loss: 0.3927091870430325, Summed Distance: 2.3740036167417253\n",
            "Epoch 98/200, Training Loss: 0.38453075109847956, Summed Distance: 2.3591837842975343\n",
            "Epoch 99/200, Training Loss: 0.3688944016503436, Summed Distance: 2.3146983674594335\n",
            "Epoch 100/200, Training Loss: 0.37263628903510315, Summed Distance: 2.3424037853309088\n",
            "Epoch 101/200, Training Loss: 0.3798415987486286, Summed Distance: 2.3646596522842134\n",
            "Epoch 102/200, Training Loss: 0.41266278422171515, Summed Distance: 2.4631660918678557\n",
            "Epoch 103/200, Training Loss: 0.32172950353739516, Summed Distance: 2.158356153879847\n",
            "Epoch 104/200, Training Loss: 0.3134072617441416, Summed Distance: 2.134029553277152\n",
            "Epoch 105/200, Training Loss: 0.305924152713269, Summed Distance: 2.107365429231099\n",
            "Epoch 106/200, Training Loss: 0.31255753004923464, Summed Distance: 2.1503009341444286\n",
            "Epoch 107/200, Training Loss: 0.3514436807004469, Summed Distance: 2.2927050405740736\n",
            "Epoch 108/200, Training Loss: 0.3207203308546117, Summed Distance: 2.185810011795589\n",
            "Epoch 109/200, Training Loss: 0.27052576939176237, Summed Distance: 2.014405907392502\n",
            "Epoch 110/200, Training Loss: 0.28079062982728437, Summed Distance: 2.0438929743851935\n",
            "Epoch 111/200, Training Loss: 0.2830161165366215, Summed Distance: 2.075012914112636\n",
            "Epoch 112/200, Training Loss: 0.32106430362377847, Summed Distance: 2.1744700710262572\n",
            "Epoch 113/200, Training Loss: 0.28569044739806226, Summed Distance: 2.085566247361047\n",
            "Epoch 114/200, Training Loss: 0.27847273129969835, Summed Distance: 2.0511954897642135\n",
            "Epoch 115/200, Training Loss: 0.2705125640758446, Summed Distance: 2.0190884251253944\n",
            "Epoch 116/200, Training Loss: 0.23807966811582446, Summed Distance: 1.9088998713663645\n",
            "Epoch 117/200, Training Loss: 0.26142344088426656, Summed Distance: 2.00128299508776\n",
            "Epoch 118/200, Training Loss: 0.2543072445291494, Summed Distance: 1.9716088495084219\n",
            "Epoch 119/200, Training Loss: 0.233701947145164, Summed Distance: 1.9038287905284337\n",
            "Epoch 120/200, Training Loss: 0.2278480168884354, Summed Distance: 1.8668790790012904\n",
            "Epoch 121/200, Training Loss: 0.2399478324289833, Summed Distance: 1.9271772462981087\n",
            "Epoch 122/200, Training Loss: 0.21971874799845473, Summed Distance: 1.8654657317485128\n",
            "Epoch 123/200, Training Loss: 0.2194715442747942, Summed Distance: 1.8513221017803465\n",
            "Epoch 124/200, Training Loss: 0.280787784244333, Summed Distance: 2.0569781281266892\n",
            "Epoch 125/200, Training Loss: 0.22739294780950461, Summed Distance: 1.8802282472167697\n",
            "Epoch 126/200, Training Loss: 0.22514263213479094, Summed Distance: 1.799815891470228\n",
            "Epoch 127/200, Training Loss: 0.254257607084832, Summed Distance: 1.9022654190233776\n",
            "Epoch 128/200, Training Loss: 0.19926027534928706, Summed Distance: 1.7243348426478249\n",
            "Epoch 129/200, Training Loss: 0.17158701189261463, Summed Distance: 1.6237168285250663\n",
            "Epoch 130/200, Training Loss: 0.19445131695696286, Summed Distance: 1.717359790631703\n",
            "Epoch 131/200, Training Loss: 0.18769783826012695, Summed Distance: 1.702663886334215\n",
            "Epoch 132/200, Training Loss: 0.1959213221365852, Summed Distance: 1.7432440693889346\n",
            "Epoch 133/200, Training Loss: 0.2081394685086395, Summed Distance: 1.8143517258337565\n",
            "Epoch 134/200, Training Loss: 0.1891782809088805, Summed Distance: 1.7153064355679921\n",
            "Epoch 135/200, Training Loss: 0.18173793825187853, Summed Distance: 1.6930884635448455\n",
            "Epoch 136/200, Training Loss: 0.18950777784788184, Summed Distance: 1.7060080925055912\n",
            "Epoch 137/200, Training Loss: 0.15773354351653585, Summed Distance: 1.5752539801597596\n",
            "Epoch 138/200, Training Loss: 0.1414360498131386, Summed Distance: 1.4920021480321883\n",
            "Epoch 139/200, Training Loss: 0.1706311016849109, Summed Distance: 1.613263911306858\n",
            "Epoch 140/200, Training Loss: 0.2577601601130196, Summed Distance: 1.9627738278252738\n",
            "Epoch 141/200, Training Loss: 0.18845381221068758, Summed Distance: 1.707959881424904\n",
            "Epoch 142/200, Training Loss: 0.14864018354165767, Summed Distance: 1.5092770752310753\n",
            "Epoch 143/200, Training Loss: 0.1355939589973007, Summed Distance: 1.45797893847738\n",
            "Epoch 144/200, Training Loss: 0.16933174492791295, Summed Distance: 1.6131395623513631\n",
            "Epoch 145/200, Training Loss: 0.1624703486915678, Summed Distance: 1.597254224547318\n",
            "Epoch 146/200, Training Loss: 0.1556207484712026, Summed Distance: 1.5487224612917219\n",
            "Epoch 147/200, Training Loss: 0.1310146507654073, Summed Distance: 1.438030763907092\n",
            "Epoch 148/200, Training Loss: 0.15478951651602985, Summed Distance: 1.5391396304113525\n",
            "Epoch 149/200, Training Loss: 0.18028704149781594, Summed Distance: 1.6863894940274102\n",
            "Epoch 150/200, Training Loss: 0.15265986110482896, Summed Distance: 1.5584353660685675\n",
            "Epoch 151/200, Training Loss: 0.13221060922901545, Summed Distance: 1.4335090086289815\n",
            "Epoch 152/200, Training Loss: 0.16800515249371528, Summed Distance: 1.6079580226114818\n",
            "Epoch 153/200, Training Loss: 0.16720875477817443, Summed Distance: 1.5890651580691337\n",
            "Epoch 154/200, Training Loss: 0.13511828993247557, Summed Distance: 1.4572582519054413\n",
            "Epoch 155/200, Training Loss: 0.11142284952968891, Summed Distance: 1.3213652312755584\n",
            "Epoch 156/200, Training Loss: 0.17677807825883585, Summed Distance: 1.506218997836113\n",
            "Epoch 157/200, Training Loss: 0.12054272046578782, Summed Distance: 1.372582462131977\n",
            "Epoch 158/200, Training Loss: 0.1335637250835342, Summed Distance: 1.4262807748573167\n",
            "Epoch 159/200, Training Loss: 0.11332834624552302, Summed Distance: 1.3427421922768865\n",
            "Epoch 160/200, Training Loss: 0.13311292819279646, Summed Distance: 1.437411230632237\n",
            "Epoch 161/200, Training Loss: 0.1537584106856957, Summed Distance: 1.5441769237177712\n",
            "Epoch 162/200, Training Loss: 0.13396268802828024, Summed Distance: 1.4574610626271793\n",
            "Epoch 163/200, Training Loss: 0.11402399031312338, Summed Distance: 1.3428148473160608\n",
            "Epoch 164/200, Training Loss: 0.10551853730343282, Summed Distance: 1.2892361729911395\n",
            "Epoch 165/200, Training Loss: 0.11656034545307713, Summed Distance: 1.3402526644723756\n",
            "Epoch 166/200, Training Loss: 0.14996185168890017, Summed Distance: 1.5255838607890266\n",
            "Epoch 167/200, Training Loss: 0.15042878213338554, Summed Distance: 1.5123408074889864\n",
            "Epoch 168/200, Training Loss: 0.1455587458504098, Summed Distance: 1.4619889526707786\n",
            "Epoch 169/200, Training Loss: 0.09212852643470147, Summed Distance: 1.2091205023867744\n",
            "Epoch 170/200, Training Loss: 0.0897089871258608, Summed Distance: 1.1507780462077686\n",
            "Epoch 171/200, Training Loss: 0.1175712891880955, Summed Distance: 1.2999041278873171\n",
            "Epoch 172/200, Training Loss: 0.12972065684984305, Summed Distance: 1.4016463490894862\n",
            "Epoch 173/200, Training Loss: 0.10478837523808969, Summed Distance: 1.285088890535491\n",
            "Epoch 174/200, Training Loss: 0.09153091616795532, Summed Distance: 1.2095378991109984\n",
            "Epoch 175/200, Training Loss: 0.09834690796543977, Summed Distance: 1.2425091058015822\n",
            "Epoch 176/200, Training Loss: 0.11635048648608583, Summed Distance: 1.3509032807605608\n",
            "Epoch 177/200, Training Loss: 0.13056861408187875, Summed Distance: 1.4046076924886022\n",
            "Epoch 178/200, Training Loss: 0.11725979753769934, Summed Distance: 1.3337003994413785\n",
            "Epoch 179/200, Training Loss: 0.08953435577851321, Summed Distance: 1.184505266036306\n",
            "Epoch 180/200, Training Loss: 0.09380368877601411, Summed Distance: 1.183983939758369\n",
            "Epoch 181/200, Training Loss: 0.09415958874592824, Summed Distance: 1.2039934987681253\n",
            "Epoch 182/200, Training Loss: 0.1323669827955642, Summed Distance: 1.3970665818452834\n",
            "Epoch 183/200, Training Loss: 0.10284933404996992, Summed Distance: 1.2624179062247276\n",
            "Epoch 184/200, Training Loss: 0.0883450841238456, Summed Distance: 1.1618596236194882\n",
            "Epoch 185/200, Training Loss: 0.08403250376560858, Summed Distance: 1.1406244578106062\n",
            "Epoch 186/200, Training Loss: 0.12185063942335546, Summed Distance: 1.3394902235269546\n",
            "Epoch 187/200, Training Loss: 0.09930930091467287, Summed Distance: 1.2479343161412648\n",
            "Epoch 188/200, Training Loss: 0.07957747751580817, Summed Distance: 1.1215751613037928\n",
            "Epoch 189/200, Training Loss: 0.10582898914348333, Summed Distance: 1.2682179600851877\n",
            "Epoch 190/200, Training Loss: 0.09469062493116195, Summed Distance: 1.2220527396457537\n",
            "Epoch 191/200, Training Loss: 0.0997192471600803, Summed Distance: 1.2208765439902034\n",
            "Epoch 192/200, Training Loss: 0.07352907036031996, Summed Distance: 1.064933583991868\n",
            "Epoch 193/200, Training Loss: 0.08256993880029767, Summed Distance: 1.116184180676937\n",
            "Epoch 194/200, Training Loss: 0.09707341087050736, Summed Distance: 1.2141716921329497\n",
            "Epoch 195/200, Training Loss: 0.10530304795929364, Summed Distance: 1.267285848089627\n",
            "Epoch 196/200, Training Loss: 0.09850677080518966, Summed Distance: 1.2207261733497892\n",
            "Epoch 197/200, Training Loss: 0.11769778007242296, Summed Distance: 1.3410493275523185\n",
            "Epoch 198/200, Training Loss: 0.09992430019724582, Summed Distance: 1.2188185009360313\n",
            "Epoch 199/200, Training Loss: 0.07557880607433617, Summed Distance: 1.05815926275083\n",
            "Epoch 200/200, Training Loss: 0.06577744289434381, Summed Distance: 0.9905548759443419\n"
          ]
        },
        {
          "output_type": "display_data",
          "data": {
            "text/plain": [
              "<Figure size 640x480 with 1 Axes>"
            ],
            "image/png": "[encoded data removed]"
          },
          "metadata": {}
        },
        {
          "output_type": "display_data",
          "data": {
            "text/plain": [
              "<Figure size 640x480 with 1 Axes>"
            ],
            "image/png": "[encoded data removed]"
          },
          "metadata": {}
        }
      ]
    },
    {
      "cell_type": "code",
      "source": [
        "torch.save(model.state_dict(), 'model_v1.pth')"
      ],
      "metadata": {
        "id": "RkT5IXlb_bsu"
      },
      "id": "RkT5IXlb_bsu",
      "execution_count": 80,
      "outputs": []
    },
    {
      "cell_type": "markdown",
      "metadata": {
        "id": "d5fb3b29"
      },
      "source": [
        "# Evaluation"
      ],
      "id": "d5fb3b29"
    },
    {
      "cell_type": "code",
      "execution_count": 81,
      "metadata": {
        "colab": {
          "base_uri": "https://localhost:8080/"
        },
        "id": "2wkq2t3rHV56",
        "outputId": "c5eb0f45-2111-4888-bd05-1317ef361462"
      },
      "outputs": [
        {
          "output_type": "stream",
          "name": "stdout",
          "text": [
            "Validation Loss: 5.5307\n",
            "Average Summed Distance: 9.3151\n"
          ]
        }
      ],
      "source": [
        "# After training, you can evaluate the model on the validation or test set\n",
        "# Set the model to evaluation mode\n",
        "model.load_state_dict(torch.load('model_v1.pth'))\n",
        "model.eval()\n",
        "\n",
        "# Initialize variables for evaluation\n",
        "total_loss = 0\n",
        "total_samples = 0\n",
        "total_distance = 0\n",
        "\n",
        "# Disable gradient calculation to save memory and computation\n",
        "with torch.no_grad():\n",
        "    # Iterate over the batches in the validation data loader\n",
        "    for inputs, labels in val_dataloader:\n",
        "        # Convert input tensor to the same data type as model weights\n",
        "        inputs = inputs.float()\n",
        "\n",
        "        # Forward pass\n",
        "        outputs = model(inputs)\n",
        "\n",
        "        # Convert labels tensor to the same data type as model outputs\n",
        "        labels = labels.float()\n",
        "\n",
        "        # Calculate the loss\n",
        "        loss = criterion(outputs, labels)\n",
        "\n",
        "        # Update the total loss and number of samples\n",
        "        total_loss += loss.item() * inputs.size(0)\n",
        "        total_samples += inputs.size(0)\n",
        "\n",
        "        # Calculate the summed distance\n",
        "        distance = compute_sum_euclidean(outputs, labels)\n",
        "        total_distance += distance * inputs.size(0)\n",
        "\n",
        "# Calculate the average validation loss and summed distance\n",
        "avg_loss = total_loss / total_samples\n",
        "avg_distance = total_distance / total_samples\n",
        "\n",
        "print(\"Validation Loss: {:.4f}\".format(avg_loss))\n",
        "print(\"Average Summed Distance: {:.4f}\".format(avg_distance))"
      ],
      "id": "2wkq2t3rHV56"
    },
    {
      "cell_type": "code",
      "source": [
        "# After training, you can evaluate the model on the validation or test set\n",
        "# Set the model to evaluation mode\n",
        "model.load_state_dict(torch.load('model_v1'))\n",
        "model.eval()\n",
        "\n",
        "# Initialize variables for evaluation\n",
        "total_loss = 0\n",
        "total_samples = 0\n",
        "total_distance = 0\n",
        "\n",
        "# Disable gradient calculation to save memory and computation\n",
        "with torch.no_grad():\n",
        "    # Iterate over the batches in the validation data loader\n",
        "    for inputs, labels in test_dataloader:\n",
        "        # Convert input tensor to the same data type as model weights\n",
        "        inputs = inputs.float()\n",
        "\n",
        "        # Forward pass\n",
        "        outputs = model(inputs)\n",
        "\n",
        "        # Convert labels tensor to the same data type as model outputs\n",
        "        labels = labels.float()\n",
        "\n",
        "        # Calculate the loss\n",
        "        loss = criterion(outputs, labels)\n",
        "\n",
        "        # Update the total loss and number of samples\n",
        "        total_loss += loss.item() * inputs.size(0)\n",
        "        total_samples += inputs.size(0)\n",
        "\n",
        "        # Calculate the summed distance\n",
        "        distance = compute_sum_euclidean(outputs, labels)\n",
        "        total_distance += distance * inputs.size(0)\n",
        "\n",
        "# Calculate the average validation loss and summed distance\n",
        "avg_loss = total_loss / total_samples\n",
        "avg_distance = total_distance / total_samples\n",
        "\n",
        "print(\"Test Loss: {:.4f}\".format(avg_loss))\n",
        "print(\"Average Summed Distance: {:.4f}\".format(avg_distance))"
      ],
      "metadata": {
        "colab": {
          "base_uri": "https://localhost:8080/"
        },
        "id": "LkA6mv4nCtgX",
        "outputId": "6a1c5c03-7cd1-4448-ada8-a5c059c3a220"
      },
      "id": "LkA6mv4nCtgX",
      "execution_count": 79,
      "outputs": [
        {
          "output_type": "stream",
          "name": "stdout",
          "text": [
            "Test Loss: 4.3910\n",
            "Average Summed Distance: 8.5017\n"
          ]
        }
      ]
    },
    {
      "cell_type": "code",
      "source": [
        "# Select a system from the train dataset\n",
        "index = 12 # Replace with the index of the system you want to select\n",
        "\n",
        "# Get the input and label for the selected system\n",
        "input_sample = X_train[index]\n",
        "label_sample = y_train[index]\n",
        "\n",
        "# Convert the input and label to tensors\n",
        "input_tensor = input_sample.clone().detach().unsqueeze(0).float() # Add an extra dimension for batch size\n",
        "label_tensor = label_sample.clone().detach().unsqueeze(0).float()  # Add an extra dimension for batch size\n",
        "\n",
        "# Pass the input tensor through the model\n",
        "model.eval()  # Set the model to evaluation mode\n",
        "with torch.no_grad():\n",
        "    output_tensor = model(input_tensor)\n",
        "\n",
        "# Convert the tensors to numpy arrays\n",
        "input_array = input_tensor.numpy()\n",
        "label_array = label_tensor.numpy()\n",
        "output_array = output_tensor.numpy()\n",
        "\n",
        "# Extract x and y coordinates from the arrays\n",
        "pred_x, pred_y = output_array[0, :, 0], output_array[0, :, 1]\n",
        "label_x, label_y = label_array[0, :, 0], label_array[0, :, 1]\n",
        "\n",
        "# Calculate the distances between the points\n",
        "distances = np.sqrt((pred_x - label_x)**2 + (pred_y - label_y)**2)\n",
        "\n",
        "# Calculate the average distance\n",
        "summed = np.sum(distances)\n",
        "\n",
        "import matplotlib.pyplot as plt\n",
        "\n",
        "# Plotting the points and lines\n",
        "plt.figure()\n",
        "plt.scatter(label_x, label_y, color='blue', label='Label')\n",
        "plt.scatter(pred_x, pred_y, color='red', label='Prediction')\n",
        "for i in range(len(distances)):\n",
        "    plt.plot([label_x[i], pred_x[i]], [label_y[i], pred_y[i]], color='green', linestyle='--', alpha=0.5)\n",
        "    plt.annotate(f\"Distance: {distances[i]:.2f}\", ((label_x[i] + pred_x[i]) / 2, (label_y[i] + pred_y[i]) / 2), color='black')\n",
        "plt.xlabel('X')\n",
        "plt.ylabel('Y')\n",
        "plt.title(f\"Average Summed Distance: {np.mean(summed)}\")\n",
        "plt.legend()\n",
        "plt.show()\n"
      ],
      "metadata": {
        "colab": {
          "base_uri": "https://localhost:8080/",
          "height": 472
        },
        "id": "IQDUULnGQq2m",
        "outputId": "b2d9efcb-3e3a-47cd-e2fc-9ee0f4525fb2"
      },
      "id": "IQDUULnGQq2m",
      "execution_count": 85,
      "outputs": [
        {
          "output_type": "display_data",
          "data": {
            "text/plain": [
              "<Figure size 640x480 with 1 Axes>"
            ],
            "image/png": "[encoded data removed]"
          },
          "metadata": {}
        }
      ]
    }
  ],
  "metadata": {
    "colab": {
      "provenance": []
    },
    "kernelspec": {
      "display_name": "Python 3 (ipykernel)",
      "language": "python",
      "name": "python3"
    },
    "language_info": {
      "codemirror_mode": {
        "name": "ipython",
        "version": 3
      },
      "file_extension": ".py",
      "mimetype": "text/x-python",
      "name": "python",
      "nbconvert_exporter": "python",
      "pygments_lexer": "ipython3",
      "version": "3.8.8"
    }
  },
  "nbformat": 4,
  "nbformat_minor": 5
}