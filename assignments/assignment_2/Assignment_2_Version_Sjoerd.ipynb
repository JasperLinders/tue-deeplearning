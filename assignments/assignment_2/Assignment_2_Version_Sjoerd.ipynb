{
  "cells": [
    {
      "attachments": {},
      "cell_type": "markdown",
      "id": "d32f8d18",
      "metadata": {
        "id": "d32f8d18"
      },
      "source": [
        "# Group Details\n",
        "\n",
        "## Group Name: Group 08\n",
        "\n",
        "### Student 1: Jasper Linders\n",
        "\n",
        "### Student 2: Alexander Liu\n",
        "\n",
        "### Student 3: Sjoerd van Straten"
      ]
    },
    {
      "attachments": {},
      "cell_type": "markdown",
      "id": "faec2056",
      "metadata": {
        "id": "faec2056"
      },
      "source": [
        "# Loading Data and Preliminaries"
      ]
    },
    {
      "cell_type": "code",
      "execution_count": 40,
      "id": "udTLsaQ9H5Nw",
      "metadata": {
        "colab": {
          "base_uri": "https://localhost:8080/"
        },
        "id": "udTLsaQ9H5Nw",
        "outputId": "4c9aa260-191a-4bce-fb64-20f9b8b32de3"
      },
      "outputs": [],
      "source": [
        "# from google.colab import drive\n",
        "# drive.mount('/content/drive')"
      ]
    },
    {
      "cell_type": "code",
      "execution_count": 41,
      "id": "7d0580a5",
      "metadata": {
        "id": "7d0580a5"
      },
      "outputs": [],
      "source": [
        "import matplotlib.pyplot as plt\n",
        "import matplotlib\n",
        "import numpy as np"
      ]
    },
    {
      "cell_type": "code",
      "execution_count": 42,
      "id": "mom5nRqivEiR",
      "metadata": {
        "id": "mom5nRqivEiR"
      },
      "outputs": [],
      "source": [
        "import torch\n",
        "import torch.nn as nn\n",
        "import torch.nn.functional as F"
      ]
    },
    {
      "cell_type": "code",
      "execution_count": 43,
      "id": "b0756591",
      "metadata": {
        "id": "b0756591"
      },
      "outputs": [],
      "source": [
        "def load_array(filename, task):\n",
        "    datapoint = np.load(filename)\n",
        "    if task == 'task 1':\n",
        "        initial_state = datapoint['initial_state']\n",
        "        terminal_state = datapoint['terminal_state']\n",
        "        return initial_state, terminal_state\n",
        "    elif task == 'task 2' or task == 'task 3':\n",
        "        whole_trajectory = datapoint['trajectory']\n",
        "        # change shape: (num_bodies, attributes, time) ->  num_bodies, time, attributes\n",
        "        whole_trajectory = np.swapaxes(whole_trajectory, 1, 2)\n",
        "        initial_state = whole_trajectory[:, 0]\n",
        "        target = whole_trajectory[:, 1:, 1:]  # drop the first timepoint (second dim) and mass (last dim) for the prediction task\n",
        "        return initial_state, target\n",
        "    else:\n",
        "        raise NotImplementedError(\"'task' argument should be 'task 1', 'task 2' or 'task 3'!\")\n"
      ]
    },
    {
      "cell_type": "code",
      "execution_count": 44,
      "id": "bb77a4be",
      "metadata": {
        "colab": {
          "base_uri": "https://localhost:8080/"
        },
        "id": "bb77a4be",
        "outputId": "87b55db3-1db0-4537-98c5-50132690a0da"
      },
      "outputs": [
        {
          "name": "stdout",
          "output_type": "stream",
          "text": [
            "shape of initial state (model input): (8, 5)\n",
            "shape of terminal state (to be predicted by model): (8, 2)\n",
            "The initial x-coordinate of the body with index 2 in this trajectory was -5.159721083543527\n"
          ]
        }
      ],
      "source": [
        "\"\"\"\n",
        "This cell gives an example of loading a datapoint with numpy for task 1.\n",
        "\n",
        "The arrays returned by the function are structures as follows:\n",
        "initial_state: shape (n_bodies, [mass, x, y, v_x, v_y])\n",
        "terminal_state: shape (n_bodies, [x, y])\n",
        "\n",
        "\"\"\"\n",
        "example = load_array('data/task 1/train/trajectory_0.npz', task='task 1')\n",
        "\n",
        "initial_state, terminal_state = example\n",
        "print(f'shape of initial state (model input): {initial_state.shape}')\n",
        "print(f'shape of terminal state (to be predicted by model): {terminal_state.shape}')\n",
        "\n",
        "body_idx = 2\n",
        "print(f'The initial x-coordinate of the body with index {body_idx} in this trajectory was {initial_state[body_idx, 1]}')"
      ]
    },
    {
      "cell_type": "code",
      "execution_count": 45,
      "id": "1c3ea4cb",
      "metadata": {
        "colab": {
          "base_uri": "https://localhost:8080/"
        },
        "id": "1c3ea4cb",
        "outputId": "45b5f08e-56ce-4868-eb93-ea22a551f360"
      },
      "outputs": [
        {
          "name": "stdout",
          "output_type": "stream",
          "text": [
            "shape of initial state (model input): (8, 5)\n",
            "shape of terminal state (to be predicted by model): (8, 49, 4)\n",
            "The y-coordinate of the body with index 2 at time with index 30 in remaining_trajectory was -0.3861544940435097\n",
            "the shape of the input of a test data example is (8, 5)\n",
            "the shape of the target of a test data example is (8, 49, 4)\n",
            "values of the test data example at time 30:\n",
            " [[-5.85725792 -5.394571           nan         nan]\n",
            " [-6.03781257 -5.72445953         nan         nan]\n",
            " [-0.90623054 -6.93416278         nan         nan]\n",
            " [ 2.83149339 -7.50100819         nan         nan]\n",
            " [-2.85586881  1.77667501         nan         nan]\n",
            " [ 4.04424526  4.00563603         nan         nan]\n",
            " [-5.24887713 -4.83081005         nan         nan]\n",
            " [-5.81391023 -5.1109838          nan         nan]]\n",
            "note: velocity values are unobserved (NaNs) in the test data!\n"
          ]
        }
      ],
      "source": [
        "\"\"\"\n",
        "This cell gives an example of loading a datapoint with numpy for task 2 / 3.\n",
        "\n",
        "The arrays returned by the function are structures as follows:\n",
        "initial_state: shape (n_bodies, [mass, x, y, v_x, v_y])\n",
        "remaining_trajectory: shape (n_bodies, time, [x, y, v_x, v_y])\n",
        "\n",
        "Note that for this task, you are asked to evaluate performance only with regard to the predictions of the positions (x and y).\n",
        "If you use the velocity of the remaining trajectory for training,\n",
        "this use should be purely auxiliary for the goal of predicting the positions [x,y] over time.\n",
        "While testing performance of your model on the test set, you do not have access to v_x and v_y of the remaining trajectory.\n",
        "\n",
        "\"\"\"\n",
        "\n",
        "example = load_array('data/task 2_3/train/trajectory_0.npz', task='task 2')\n",
        "\n",
        "initial_state, remaining_trajectory = example\n",
        "print(f'shape of initial state (model input): {initial_state.shape}')\n",
        "print(f'shape of terminal state (to be predicted by model): {remaining_trajectory.shape}')\n",
        "\n",
        "body_idx = 2\n",
        "time_idx = 30\n",
        "print(f'The y-coordinate of the body with index {body_idx} at time with index {time_idx} in remaining_trajectory was {remaining_trajectory[body_idx, time_idx, 1]}')\n",
        "\n",
        "test_example = load_array('data/task 2_3/test/trajectory_900.npz', task='task 3')\n",
        "test_initial_state, test_remaining_trajectory = test_example\n",
        "print(f'the shape of the input of a test data example is {test_initial_state.shape}')\n",
        "print(f'the shape of the target of a test data example is {test_remaining_trajectory.shape}')\n",
        "print(f'values of the test data example at time {time_idx}:\\n {test_remaining_trajectory[:, time_idx]}')\n",
        "print('note: velocity values are unobserved (NaNs) in the test data!')"
      ]
    },
    {
      "attachments": {},
      "cell_type": "markdown",
      "id": "059b633c",
      "metadata": {
        "id": "059b633c"
      },
      "source": [
        "# Data Handling and Preprocessing"
      ]
    },
    {
      "cell_type": "code",
      "execution_count": 46,
      "id": "usUER0gM6OOM",
      "metadata": {
        "colab": {
          "base_uri": "https://localhost:8080/"
        },
        "id": "usUER0gM6OOM",
        "outputId": "ff5b16b2-f9eb-498a-9a34-a5032063d39d"
      },
      "outputs": [
        {
          "name": "stdout",
          "output_type": "stream",
          "text": [
            "torch.Size([900, 9, 5])\n",
            "torch.Size([900, 9, 2])\n",
            "torch.Size([100, 9, 5])\n",
            "torch.Size([100, 9, 2])\n"
          ]
        }
      ],
      "source": [
        "import os\n",
        "from torch.utils.data import Dataset, DataLoader, TensorDataset\n",
        "\n",
        "class ImportData(Dataset):\n",
        "    def __init__(self, folder_path):\n",
        "        self.folder_path = folder_path\n",
        "        self.file_list = sorted(os.listdir(folder_path))\n",
        "\n",
        "    def __len__(self):\n",
        "        return len(self.file_list)\n",
        "\n",
        "    def __getitem__(self, index):\n",
        "        file_name = self.file_list[index]\n",
        "        file_path = os.path.join(self.folder_path, file_name)\n",
        "        data, label = load_array(file_path, task='task 1')\n",
        "        return data, label\n",
        "\n",
        "# Create an instance of the custom dataset class with the folder path\n",
        "train_import = ImportData('data/task 1/train/')\n",
        "test_import = ImportData('data/task 1/test/')\n",
        "\n",
        "X_train_import = []\n",
        "y_train_import = []\n",
        "X_test_import = []\n",
        "y_test_import = []\n",
        "\n",
        "# Iterate through the train_dataset to extract data and labels\n",
        "for data, label in train_import:\n",
        "    X_train_import.append(data)\n",
        "    y_train_import.append(label)\n",
        "\n",
        "for data, label in test_import:\n",
        "    X_test_import.append(data)\n",
        "    y_test_import.append(label)\n",
        "\n",
        "max_length = 9\n",
        "\n",
        "# Pad the data samples with zeros to have the same shape\n",
        "X_train_padded = []\n",
        "for data in X_train_import:\n",
        "    pad_width = max_length - data.shape[0]\n",
        "    padded_data = np.pad(data, ((0, pad_width), (0, 0)), mode='constant')\n",
        "    X_train_padded.append(padded_data)\n",
        "\n",
        "y_train_padded = []\n",
        "for label in y_train_import:\n",
        "    pad_width = max_length - label.shape[0]\n",
        "    padded_label = np.pad(label, ((0, pad_width), (0, 0)), mode='constant')\n",
        "    y_train_padded.append(padded_label)\n",
        "\n",
        "X_test_padded = []\n",
        "for data in X_test_import:\n",
        "    pad_width = max_length - data.shape[0]\n",
        "    padded_data = np.pad(data, ((0, pad_width), (0, 0)), mode='constant')\n",
        "    X_test_padded.append(padded_data)\n",
        "\n",
        "y_test_padded = []\n",
        "for label in y_test_import:\n",
        "    pad_width = max_length - label.shape[0]\n",
        "    padded_label = np.pad(label, ((0, pad_width), (0, 0)), mode='constant')\n",
        "    y_test_padded.append(padded_label)\n",
        "\n",
        "# Convert the padded data and labels to tensors\n",
        "X_train = torch.tensor(np.array(X_train_padded))\n",
        "y_train = torch.tensor(np.array(y_train_padded))\n",
        "X_test = torch.tensor(np.array(X_test_padded))\n",
        "y_test = torch.tensor(np.array(y_test_padded))\n",
        "\n",
        "# Print the shape of X_train and the first label in y_train\n",
        "print(X_train.shape)\n",
        "print(y_train.shape)\n",
        "print(X_test.shape)\n",
        "print(y_test.shape)"
      ]
    },
    {
      "cell_type": "code",
      "execution_count": 57,
      "id": "59831328",
      "metadata": {},
      "outputs": [
        {
          "name": "stdout",
          "output_type": "stream",
          "text": [
            "tensor([[ 4.5467, -5.2712,  5.0786, -1.0969, -3.6693],\n",
            "        [ 3.5751,  4.3271, -0.0810, -0.5787, -2.9597],\n",
            "        [ 2.6773, -5.1597,  5.3524,  2.4265,  1.4587],\n",
            "        [ 2.2746, -6.7958,  2.2963,  0.3042, -0.4066],\n",
            "        [ 2.3836, -2.7586,  1.7794, -0.0764, -0.3595],\n",
            "        [ 4.2860,  0.3498,  4.8286,  1.3563, -2.5576],\n",
            "        [ 3.0312, -0.5056, 15.0463, -0.9477, 14.9813],\n",
            "        [ 4.1353,  1.8134,  3.8438, -0.6990, -2.2509],\n",
            "        [ 0.0000,  0.0000,  0.0000,  0.0000,  0.0000]], dtype=torch.float64)\n",
            "tensor([[ 0.1560, -5.7285],\n",
            "        [-1.0527, -9.6791],\n",
            "        [-0.4624, -7.3590],\n",
            "        [-0.3819, -6.3529],\n",
            "        [-6.3564,  2.7568],\n",
            "        [ 0.7670, -5.2778],\n",
            "        [-5.2653, 89.5328],\n",
            "        [-0.9416, -7.6763],\n",
            "        [ 0.0000,  0.0000]], dtype=torch.float64)\n"
          ]
        }
      ],
      "source": [
        "print(X_train[0])\n",
        "print(y_train[0])"
      ]
    },
    {
      "cell_type": "code",
      "execution_count": 47,
      "id": "1xbE1QwNcGwY",
      "metadata": {
        "id": "1xbE1QwNcGwY"
      },
      "outputs": [],
      "source": [
        "# train_dataset = TensorDataset(X_train, y_train)\n",
        "# test_dataset = TensorDataset(X_test, y_test)\n",
        "\n",
        "# train_dataloader = DataLoader(train_dataset, batch_size=32, shuffle=True)\n",
        "# test_dataloader = DataLoader(test_dataset, batch_size=32, shuffle=False)"
      ]
    },
    {
      "cell_type": "code",
      "execution_count": 70,
      "id": "WTW_fnFoefoU",
      "metadata": {
        "id": "WTW_fnFoefoU"
      },
      "outputs": [],
      "source": [
        "import torch\n",
        "from torch.utils.data import Dataset, DataLoader\n",
        "\n",
        "# Function to process a single data point\n",
        "def create_graph(data_point):\n",
        "\n",
        "    #Create node features\n",
        "    node_features = data_point[:, 1:]  # Exclude the mass column\n",
        "\n",
        "    # Compute edge indices\n",
        "    edge_indices = []\n",
        "    for i in range(9):\n",
        "        for j in range(9):\n",
        "            if i != j:\n",
        "                edge_indices.append([i, j])\n",
        "    edge_indices = torch.tensor(edge_indices).t().contiguous()\n",
        "\n",
        "    # # Compute edge features\n",
        "    # edge_features = []\n",
        "    # for i in range(9):\n",
        "    #     for j in range(9):\n",
        "    #         if i < j:\n",
        "    #             relative_position = node_features[j] - node_features[i]\n",
        "    #             relative_mass = node_features[j, 0] / node_features[i, 0]\n",
        "    #             edge_features.append(torch.cat((torch.tensor([relative_position]), torch.tensor([relative_mass], dtype=torch.float32))))\n",
        "    # edge_features = torch.stack(edge_features)\n",
        "\n",
        "    return node_features, edge_indices #, edge_features\n",
        "\n",
        "node_features, edge_indices = create_graph(initial_state)"
      ]
    },
    {
      "cell_type": "code",
      "execution_count": 71,
      "id": "6f456715",
      "metadata": {},
      "outputs": [
        {
          "data": {
            "text/plain": [
              "tensor([[0, 0, 0, 0, 0, 0, 0, 0, 1, 1, 1, 1, 1, 1, 1, 1, 2, 2, 2, 2, 2, 2, 2, 2,\n",
              "         3, 3, 3, 3, 3, 3, 3, 3, 4, 4, 4, 4, 4, 4, 4, 4, 5, 5, 5, 5, 5, 5, 5, 5,\n",
              "         6, 6, 6, 6, 6, 6, 6, 6, 7, 7, 7, 7, 7, 7, 7, 7, 8, 8, 8, 8, 8, 8, 8, 8],\n",
              "        [1, 2, 3, 4, 5, 6, 7, 8, 0, 2, 3, 4, 5, 6, 7, 8, 0, 1, 3, 4, 5, 6, 7, 8,\n",
              "         0, 1, 2, 4, 5, 6, 7, 8, 0, 1, 2, 3, 5, 6, 7, 8, 0, 1, 2, 3, 4, 6, 7, 8,\n",
              "         0, 1, 2, 3, 4, 5, 7, 8, 0, 1, 2, 3, 4, 5, 6, 8, 0, 1, 2, 3, 4, 5, 6, 7]])"
            ]
          },
          "execution_count": 71,
          "metadata": {},
          "output_type": "execute_result"
        }
      ],
      "source": [
        "edge_indices"
      ]
    },
    {
      "cell_type": "code",
      "execution_count": 74,
      "id": "73baf572",
      "metadata": {},
      "outputs": [
        {
          "name": "stdout",
          "output_type": "stream",
          "text": [
            "900\n",
            "100\n",
            "False\n",
            "False\n"
          ]
        }
      ],
      "source": [
        "from torch_geometric.data import Data\n",
        "\n",
        "train_data = Data(x=X_train, edge_index=edge_indices, y=y_train)\n",
        "test_data = Data(x=X_test, edge_index=edge_indices, y=y_test)\n",
        "\n",
        "# # Add additional arguments to `data`:\n",
        "# data.train_idx = torch.tensor([...], dtype=torch.long)\n",
        "# data.test_mask = torch.tensor([...], dtype=torch.bool)\n",
        "\n",
        "# Analyzing the graph structure:\n",
        "print(train_data.num_nodes)\n",
        "print(test_data.num_nodes)\n",
        "\n",
        "# >>> 23\n",
        "\n",
        "print(train_data.is_directed())\n",
        "print(test_data.is_directed())\n",
        "\n",
        "# >>> False\n",
        "\n",
        "# PyTorch tensor functionality:\n",
        "train_data = train_data.pin_memory()\n",
        "train_data = train_data.to('cuda:0', non_blocking=True)"
      ]
    },
    {
      "cell_type": "code",
      "execution_count": null,
      "id": "76d56e14",
      "metadata": {},
      "outputs": [],
      "source": []
    },
    {
      "cell_type": "code",
      "execution_count": 49,
      "id": "p1Og73_HjK4b",
      "metadata": {
        "colab": {
          "base_uri": "https://localhost:8080/",
          "height": 406
        },
        "id": "p1Og73_HjK4b",
        "outputId": "45007c0e-91c4-424f-b6d9-32780ff156a6"
      },
      "outputs": [],
      "source": [
        "# import networkx as nx\n",
        "# import matplotlib.pyplot as plt\n",
        "\n",
        "# value, label = train_dataloader.dataset[1]\n",
        "# node_features, edge_indices, edge_features = create_graph(value)\n",
        "\n",
        "# # Create an empty graph\n",
        "# graph = nx.Graph()\n",
        "\n",
        "# # Add nodes with node numbers as labels\n",
        "# for i in range(node_features.shape[0]):\n",
        "#     graph.add_node(i, label=i)\n",
        "\n",
        "# # Add edges\n",
        "# for edge in edge_indices.t().tolist():\n",
        "#     graph.add_edge(*edge)\n",
        "\n",
        "# # Plot the graph\n",
        "# pos = nx.spring_layout(graph, seed=42)  # Layout for node positioning\n",
        "# nx.draw_networkx(graph, pos=pos, with_labels=True)\n",
        "\n",
        "# # Add node numbers as text labels\n",
        "# labels = nx.get_node_attributes(graph, \"label\")\n",
        "# nx.draw_networkx_labels(graph, pos=pos, labels=labels)\n",
        "\n",
        "# # Add node features as text labels\n",
        "# for i, feature in enumerate(node_features):\n",
        "#     x, y = feature[:2]\n",
        "#     plt.text(pos[i][0], pos[i][1], f\"({x:.2f}, {y:.2f})\", ha=\"center\", va=\"bottom\")\n",
        "\n",
        "# # Display the plot\n",
        "# plt.axis(\"off\")\n",
        "# plt.show()"
      ]
    },
    {
      "attachments": {},
      "cell_type": "markdown",
      "id": "18b2874d",
      "metadata": {
        "id": "18b2874d"
      },
      "source": [
        "# Model Implementation"
      ]
    },
    {
      "cell_type": "code",
      "execution_count": 50,
      "id": "66774050",
      "metadata": {
        "id": "66774050"
      },
      "outputs": [],
      "source": [
        "# import torch\n",
        "# import torch.nn as nn\n",
        "# import torch.nn.functional as F\n",
        "\n",
        "# class GraphConvolution(nn.Module):\n",
        "#     def __init__(self, input_dim, output_dim):\n",
        "#         super(GraphConvolution, self).__init__()\n",
        "#         self.weight = nn.Parameter(torch.FloatTensor(input_dim, output_dim))\n",
        "#         self.bias = nn.Parameter(torch.FloatTensor(output_dim))\n",
        "#         self.reset_parameters()\n",
        "\n",
        "#     def reset_parameters(self):\n",
        "#         nn.init.xavier_uniform_(self.weight)\n",
        "#         nn.init.zeros_(self.bias)\n",
        "\n",
        "#     def forward(self, x, adj):\n",
        "#         support = torch.matmul(x, self.weight)\n",
        "#         output = torch.matmul(adj, support) + self.bias\n",
        "#         return output\n",
        "\n",
        "\n",
        "# class GCN(nn.Module):\n",
        "#     def __init__(self, input_dim, hidden_dim, output_dim):\n",
        "#         super(GCN, self).__init__()\n",
        "#         self.gc1 = GraphConvolution(input_dim, hidden_dim)\n",
        "#         self.gc2 = GraphConvolution(hidden_dim, output_dim)\n",
        "#         self.relu = nn.ReLU()\n",
        "\n",
        "#     def forward(self, x, adj):\n",
        "#         x = self.relu(self.gc1(x, adj))\n",
        "#         x = self.gc2(x, adj)\n",
        "#         return x"
      ]
    },
    {
      "cell_type": "code",
      "execution_count": 51,
      "id": "27af78bd",
      "metadata": {},
      "outputs": [],
      "source": [
        "from torch_geometric.nn.conv import GatedGraphConv as GGC\n",
        "\n",
        "class GGCN(nn.Module):\n",
        "    def __init__(self, out_channels, num_layers, aggr, bias):\n",
        "        super(GGCN, self).__init__()\n",
        "        self.gc1 = GGC(out_channels, num_layers, aggr, bias)\n",
        "        self.relu = nn.ReLU()\n",
        "\n",
        "    def forward(self, x, adj):\n",
        "        x = self.gc1(x, adj)\n",
        "        return x"
      ]
    },
    {
      "attachments": {},
      "cell_type": "markdown",
      "id": "dea70d73",
      "metadata": {
        "id": "dea70d73"
      },
      "source": [
        "# Model Training"
      ]
    },
    {
      "cell_type": "code",
      "execution_count": 73,
      "id": "4fd8030d",
      "metadata": {},
      "outputs": [
        {
          "name": "stdout",
          "output_type": "stream",
          "text": [
            "GGCN(\n",
            "  (gc1): GatedGraphConv(2, num_layers=5)\n",
            "  (relu): ReLU()\n",
            ")\n"
          ]
        },
        {
          "ename": "TypeError",
          "evalue": "GGCN.forward() missing 1 required positional argument: 'adj'",
          "output_type": "error",
          "traceback": [
            "\u001b[1;31m---------------------------------------------------------------------------\u001b[0m",
            "\u001b[1;31mTypeError\u001b[0m                                 Traceback (most recent call last)",
            "Cell \u001b[1;32mIn[73], line 33\u001b[0m\n\u001b[0;32m     31\u001b[0m epochs \u001b[39m=\u001b[39m \u001b[39m50\u001b[39m\n\u001b[0;32m     32\u001b[0m \u001b[39mfor\u001b[39;00m epoch \u001b[39min\u001b[39;00m \u001b[39mrange\u001b[39m(\u001b[39m1\u001b[39m, epochs\u001b[39m+\u001b[39m\u001b[39m1\u001b[39m): \n\u001b[1;32m---> 33\u001b[0m     loss \u001b[39m=\u001b[39m train_gnn()  \u001b[39m# do one training step over the entire dataset\u001b[39;00m\n\u001b[0;32m     34\u001b[0m     train_acc \u001b[39m=\u001b[39m test_gnn(data\u001b[39m.\u001b[39mtrain_mask)  \u001b[39m# compute the training accuracy\u001b[39;00m\n\u001b[0;32m     35\u001b[0m     test_acc \u001b[39m=\u001b[39m test_gnn(data\u001b[39m.\u001b[39mtest_mask)  \u001b[39m# compute the test accuracy\u001b[39;00m\n",
            "Cell \u001b[1;32mIn[73], line 14\u001b[0m, in \u001b[0;36mtrain_gnn\u001b[1;34m()\u001b[0m\n\u001b[0;32m     12\u001b[0m model_gnn\u001b[39m.\u001b[39mtrain()  \u001b[39m# set the model to training 'mode' (i.e., apply dropout)\u001b[39;00m\n\u001b[0;32m     13\u001b[0m optimizer\u001b[39m.\u001b[39mzero_grad()  \u001b[39m# set gradients to 0\u001b[39;00m\n\u001b[1;32m---> 14\u001b[0m out \u001b[39m=\u001b[39m model_gnn(train_data)  \u001b[39m# propagate the data through the model\u001b[39;00m\n\u001b[0;32m     15\u001b[0m loss \u001b[39m=\u001b[39m loss_func(out[data\u001b[39m.\u001b[39mtrain_mask], data\u001b[39m.\u001b[39my[data\u001b[39m.\u001b[39mtrain_mask])  \u001b[39m# compute the loss based on our training mask\u001b[39;00m\n\u001b[0;32m     16\u001b[0m loss\u001b[39m.\u001b[39mbackward()  \u001b[39m# derive gradients\u001b[39;00m\n",
            "File \u001b[1;32mc:\\Users\\20174216\\OneDrive - TU Eindhoven\\Documents\\1. TUe MSc DSAI\\Q4\\2AMM10 - Deep Learning\\tue-deeplearning\\.venv\\lib\\site-packages\\torch\\nn\\modules\\module.py:1501\u001b[0m, in \u001b[0;36mModule._call_impl\u001b[1;34m(self, *args, **kwargs)\u001b[0m\n\u001b[0;32m   1496\u001b[0m \u001b[39m# If we don't have any hooks, we want to skip the rest of the logic in\u001b[39;00m\n\u001b[0;32m   1497\u001b[0m \u001b[39m# this function, and just call forward.\u001b[39;00m\n\u001b[0;32m   1498\u001b[0m \u001b[39mif\u001b[39;00m \u001b[39mnot\u001b[39;00m (\u001b[39mself\u001b[39m\u001b[39m.\u001b[39m_backward_hooks \u001b[39mor\u001b[39;00m \u001b[39mself\u001b[39m\u001b[39m.\u001b[39m_backward_pre_hooks \u001b[39mor\u001b[39;00m \u001b[39mself\u001b[39m\u001b[39m.\u001b[39m_forward_hooks \u001b[39mor\u001b[39;00m \u001b[39mself\u001b[39m\u001b[39m.\u001b[39m_forward_pre_hooks\n\u001b[0;32m   1499\u001b[0m         \u001b[39mor\u001b[39;00m _global_backward_pre_hooks \u001b[39mor\u001b[39;00m _global_backward_hooks\n\u001b[0;32m   1500\u001b[0m         \u001b[39mor\u001b[39;00m _global_forward_hooks \u001b[39mor\u001b[39;00m _global_forward_pre_hooks):\n\u001b[1;32m-> 1501\u001b[0m     \u001b[39mreturn\u001b[39;00m forward_call(\u001b[39m*\u001b[39margs, \u001b[39m*\u001b[39m\u001b[39m*\u001b[39mkwargs)\n\u001b[0;32m   1502\u001b[0m \u001b[39m# Do not call functions when jit is used\u001b[39;00m\n\u001b[0;32m   1503\u001b[0m full_backward_hooks, non_full_backward_hooks \u001b[39m=\u001b[39m [], []\n",
            "\u001b[1;31mTypeError\u001b[0m: GGCN.forward() missing 1 required positional argument: 'adj'"
          ]
        }
      ],
      "source": [
        "'''\n",
        "Training the GNN\n",
        "'''\n",
        "model_gnn = GGCN(out_channels=2, num_layers=5, aggr='add', bias=True) # initialize GNN\n",
        "print(model_gnn)\n",
        "\n",
        "# same loss and optimizer as before\n",
        "loss_func = torch.nn.CrossEntropyLoss()  \n",
        "optimizer = torch.optim.Adam(model_gnn.parameters(), lr=0.01, weight_decay=5e-4)\n",
        "\n",
        "def train_gnn():\n",
        "    model_gnn.train()  # set the model to training 'mode' (i.e., apply dropout)\n",
        "    optimizer.zero_grad()  # set gradients to 0\n",
        "    out = model_gnn(train_data)  # propagate the data through the model\n",
        "    loss = loss_func(out[data.train_mask], data.y[data.train_mask])  # compute the loss based on our training mask\n",
        "    loss.backward()  # derive gradients\n",
        "    optimizer.step()  # update all parameters based on the gradients\n",
        "    return loss\n",
        "\n",
        "def test_gnn(mask):\n",
        "    model_gnn.eval()  # set the model to evaluation 'mode' (don't use dropout)\n",
        "    out = model_gnn(data.x, data.edge_index)  # propagate the data through the model\n",
        "    pred = out.argmax(dim=1)  # as prediction, we take the class with the highest probability\n",
        "    test_correct = pred[mask] == data.y[mask]  # create a tensor that evaluates whether predictions were correct\n",
        "    test_acc = int(test_correct.sum()) / int(mask.sum())  # get the accuracy\n",
        "    return test_acc\n",
        "\n",
        "\n",
        "train_accs = []\n",
        "test_accs = []\n",
        "epochs = 50\n",
        "for epoch in range(1, epochs+1): \n",
        "    loss = train_gnn()  # do one training step over the entire dataset\n",
        "    train_acc = test_gnn(data.train_mask)  # compute the training accuracy\n",
        "    test_acc = test_gnn(data.test_mask)  # compute the test accuracy\n",
        "    print(f'Epoch: {epoch:03d}, Loss: {loss:.4f}, Train Acc: {train_acc:.4f}, Test Acc: {test_acc:.4f}')\n",
        "    train_accs.append(train_acc)  # save accuracies so we can plot them\n",
        "    test_accs.append(test_acc)"
      ]
    },
    {
      "attachments": {},
      "cell_type": "markdown",
      "id": "d5fb3b29",
      "metadata": {
        "id": "d5fb3b29"
      },
      "source": [
        "# Evaluation"
      ]
    },
    {
      "cell_type": "code",
      "execution_count": null,
      "id": "bf5fa1b4",
      "metadata": {
        "id": "bf5fa1b4"
      },
      "outputs": [],
      "source": [
        "#todo"
      ]
    },
    {
      "cell_type": "code",
      "execution_count": null,
      "id": "2280031f",
      "metadata": {
        "id": "2280031f"
      },
      "outputs": [],
      "source": []
    },
    {
      "cell_type": "code",
      "execution_count": null,
      "id": "3a8240f1",
      "metadata": {
        "id": "3a8240f1"
      },
      "outputs": [],
      "source": []
    }
  ],
  "metadata": {
    "colab": {
      "provenance": []
    },
    "kernelspec": {
      "display_name": "Python 3 (ipykernel)",
      "language": "python",
      "name": "python3"
    },
    "language_info": {
      "codemirror_mode": {
        "name": "ipython",
        "version": 3
      },
      "file_extension": ".py",
      "mimetype": "text/x-python",
      "name": "python",
      "nbconvert_exporter": "python",
      "pygments_lexer": "ipython3",
      "version": "3.10.10"
    }
  },
  "nbformat": 4,
  "nbformat_minor": 5
}
