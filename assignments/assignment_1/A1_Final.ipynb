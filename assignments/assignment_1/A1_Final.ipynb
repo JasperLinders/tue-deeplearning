{
  "cells": [
    {
      "cell_type": "markdown",
      "id": "a4ec9a11-3515-40aa-97ac-73c249df560e",
      "metadata": {
        "id": "a4ec9a11-3515-40aa-97ac-73c249df560e"
      },
      "source": [
        "# Group Number: 08\n",
        "# Student 1: Jasper Linders (1259849)\n",
        "# Student 2: Alexander Liu (1377973)\n",
        "# Student 3: Sjoerd van Straten (1341642)\n"
      ]
    },
    {
      "cell_type": "markdown",
      "id": "a8c200a7-b3ab-4c9a-bcf8-320271c040f3",
      "metadata": {
        "id": "a8c200a7-b3ab-4c9a-bcf8-320271c040f3"
      },
      "source": [
        "In case you are using google colab, uncomment the following cell, and modify the ```notebook_dir``` variable to contain the directory this notebook is in. It will automatically download the .py files needed for this assignment"
      ]
    },
    {
      "cell_type": "code",
      "execution_count": 1,
      "id": "igFRsZKIC18S",
      "metadata": {
        "id": "igFRsZKIC18S"
      },
      "outputs": [],
      "source": [
        "# # Change the following  line to the directory this notebook is (if using colab)\n",
        "# # In case you do not know the path, open the file navigator on the left in colab\n",
        "# # Find the folder containing this notebook, then press on the three dots --> copy path\n",
        "notebook_dir = \"/content/drive/MyDrive/Colab Notebooks/\""
      ]
    },
    {
      "cell_type": "code",
      "execution_count": 2,
      "id": "828246d4-75b2-42b7-ab06-925e6624f411",
      "metadata": {
        "id": "828246d4-75b2-42b7-ab06-925e6624f411",
        "outputId": "ab72a7fd-eb90-42c2-e984-d67bdebc85f4",
        "colab": {
          "base_uri": "https://localhost:8080/"
        }
      },
      "outputs": [
        {
          "output_type": "stream",
          "name": "stdout",
          "text": [
            "Mounted at /content/drive\n"
          ]
        }
      ],
      "source": [
        "# # UNCOMMENT IF USING COLAB\n",
        "from google.colab import drive\n",
        "import requests\n",
        "drive.mount('/content/drive')\n",
        "import sys\n",
        "import os\n",
        "sys.path.insert(0, notebook_dir) \n",
        "os.chdir(notebook_dir)\n",
        "symco = \"https://github.com/vlamen/tue-deeplearning/blob/main/assignments/assignment_1/symconv.py?raw=true\"\n",
        "crpt = \"https://github.com/vlamen/tue-deeplearning/blob/main/assignments/assignment_1/carpet.py?raw=true\"\n",
        "r_s = requests.get(symco, allow_redirects=True)\n",
        "r_c = requests.get(crpt, allow_redirects=True)\n",
        "with open('symconv.py', 'wb') as f:\n",
        "    f.write(r_s.content)\n",
        "with open('carpet.py', 'wb') as f:\n",
        "    f.write(r_c.content)"
      ]
    },
    {
      "cell_type": "code",
      "execution_count": 3,
      "id": "1c401bd6-3828-4f5e-ada8-a026e0a167bf",
      "metadata": {
        "id": "1c401bd6-3828-4f5e-ada8-a026e0a167bf"
      },
      "outputs": [],
      "source": [
        "import torch\n",
        "import torch.nn as nn\n",
        "import torch.nn.functional as F\n",
        "from torch.utils.data import DataLoader, Dataset, TensorDataset\n",
        "\n",
        "import io\n",
        "import requests\n",
        "\n",
        "import symconv as sc\n",
        "from carpet import show_carpet, oh_to_label\n",
        "\n",
        "import numpy as np\n",
        "import matplotlib.pyplot as plt\n",
        "\n",
        "from scipy.spatial.distance import cdist\n",
        "\n",
        "from tqdm import tqdm"
      ]
    },
    {
      "cell_type": "code",
      "execution_count": 4,
      "id": "35c0bcb8-5215-40b3-8ba2-7e4208651c90",
      "metadata": {
        "id": "35c0bcb8-5215-40b3-8ba2-7e4208651c90"
      },
      "outputs": [],
      "source": [
        "def load_numpy_arr_from_url(url):\n",
        "    \"\"\"\n",
        "    Loads a numpy array from surfdrive. \n",
        "    \n",
        "    Input:\n",
        "    url: Download link of dataset \n",
        "    \n",
        "    Outputs:\n",
        "    dataset: numpy array with input features or labels\n",
        "    \"\"\"\n",
        "    \n",
        "    response = requests.get(url)\n",
        "    response.raise_for_status()\n",
        "\n",
        "    return np.load(io.BytesIO(response.content)) "
      ]
    },
    {
      "cell_type": "markdown",
      "id": "045a1fdc-8c84-4829-b8c8-14c957f733f6",
      "metadata": {
        "id": "045a1fdc-8c84-4829-b8c8-14c957f733f6"
      },
      "source": [
        "# Task 1: Pattern Classification"
      ]
    },
    {
      "cell_type": "code",
      "execution_count": 5,
      "id": "a45b63ab-610e-4e03-b1da-a717c2a77c8a",
      "metadata": {
        "id": "a45b63ab-610e-4e03-b1da-a717c2a77c8a",
        "outputId": "30f02353-3e80-400e-851b-73cad1b532a8",
        "colab": {
          "base_uri": "https://localhost:8080/"
        }
      },
      "outputs": [
        {
          "output_type": "stream",
          "name": "stdout",
          "text": [
            "Carpet train shape: torch.Size([7500, 1, 96, 60])\n",
            "Label train shape: torch.Size([7500, 3])\n",
            "Carpet validation shape: torch.Size([2000, 1, 96, 60])\n",
            "Label validation shape: torch.Size([2000, 3])\n",
            "Carpet test shape: torch.Size([500, 1, 96, 60])\n",
            "Label test shape: torch.Size([500, 3])\n"
          ]
        }
      ],
      "source": [
        "# loading training and testing data for task 1\n",
        "# DO NOT MODIFY\n",
        "task1 = load_numpy_arr_from_url(\"https://github.com/vlamen/tue-deeplearning/blob/main/assignments/assignment_1/task1data.npz?raw=true\")\n",
        "# task1 = np.load(\"task1data.npz\")\n",
        "\n",
        "X = torch.tensor(task1['arr_0']).float()\n",
        "y = torch.tensor(task1['arr_1']).float()\n",
        "\n",
        "X_train = X[:7500]\n",
        "X_val = X[7500:9500]\n",
        "X_test = X[9500:]\n",
        "y_train = y[:7500]\n",
        "y_val = y[7500:9500]\n",
        "y_test  = y[9500:]\n",
        "\n",
        "train_dataset = TensorDataset(X_train, y_train)\n",
        "val_dataset = TensorDataset(X_val, y_val)\n",
        "test_dataset = TensorDataset(X_test, y_test)\n",
        "\n",
        "print(f\"Carpet train shape: {X_train.shape}\")\n",
        "print(f\"Label train shape: {y_train.shape}\")\n",
        "print(f\"Carpet validation shape: {X_val.shape}\")\n",
        "print(f\"Label validation shape: {y_val.shape}\")\n",
        "print(f\"Carpet test shape: {X_test.shape}\")\n",
        "print(f\"Label test shape: {y_test.shape}\")"
      ]
    },
    {
      "cell_type": "code",
      "execution_count": 6,
      "id": "a4c5553f-023f-48fc-81b5-83184a46a21d",
      "metadata": {
        "id": "a4c5553f-023f-48fc-81b5-83184a46a21d",
        "outputId": "9295f78f-a446-4846-a00c-646a943f5725",
        "colab": {
          "base_uri": "https://localhost:8080/",
          "height": 302
        }
      },
      "outputs": [
        {
          "output_type": "stream",
          "name": "stdout",
          "text": [
            "Carpet from Transformabad\n"
          ]
        },
        {
          "output_type": "display_data",
          "data": {
            "text/plain": [
              "<Figure size 640x480 with 1 Axes>"
            ],
            "image/png": "[encoded data removed]"
          },
          "metadata": {}
        }
      ],
      "source": [
        "# random carpet\n",
        "idx = np.random.randint(0,7500)\n",
        "show_carpet(X_train, idx)\n",
        "print('Carpet from', oh_to_label(y_train[idx,None])[0])"
      ]
    },
    {
      "cell_type": "code",
      "execution_count": 7,
      "id": "7a5db004-5dbf-42b3-a665-3c97c293d6c5",
      "metadata": {
        "id": "7a5db004-5dbf-42b3-a665-3c97c293d6c5"
      },
      "outputs": [],
      "source": [
        "###     YOUR CODE FOR TASK 1    ###\n",
        "from torch.utils.data import DataLoader\n",
        "\n",
        "def plot_carpet(X):\n",
        "    \"\"\" Helper function to plot the carpet by unit cells and super cells \"\"\"\n",
        "    # Plot the carpet\n",
        "    plt.imshow(X.T, cmap='Greys')\n",
        "\n",
        "    # Add vertical borders\n",
        "    for i in range(15):\n",
        "      plt.axhline(y=i*4-0.5, color='g', linestyle='-')\n",
        "    for i in range(24):\n",
        "      plt.axvline(x=i*4-0.5, color='g', linestyle='-')\n",
        "\n",
        "    # Add horizontal borders\n",
        "    for i in range(5):\n",
        "      plt.axhline(y=i*4*3-0.5, color='r', linestyle='-')\n",
        "    for i in range(8):\n",
        "      plt.axvline(x=i*4*3-0.5, color='r', linestyle='-')\n",
        "\n",
        "def loss_batch(model, loss_func, xb, yb, opt=None):\n",
        "    \"\"\" Helper function to compute loss and corrects\"\"\"\n",
        "\n",
        "    output=model(xb)\n",
        "    loss = loss_func(output, yb)\n",
        "\n",
        "    if opt is not None:\n",
        "        loss.backward()\n",
        "        opt.step()\n",
        "        opt.zero_grad()\n",
        "\n",
        "    _, preds = torch.max(output, 1)\n",
        "    _, truth = torch.max(yb.data, 1)\n",
        "    corrects = torch.sum(preds == truth)\n",
        "    return loss.item(), corrects, len(xb)\n",
        "\n",
        "\n",
        "def fit(epochs, model, loss_func, opt, train_dl, valid_dl):\n",
        "    \"\"\" Helper function to fit the model\"\"\"\n",
        "\n",
        "    # Initialize lists to store the results\n",
        "    train_losses = []\n",
        "    val_losses = []\n",
        "    train_accs = []\n",
        "    val_accs = []\n",
        "\n",
        "    for epoch in tqdm(range(epochs)):\n",
        "        \n",
        "        # Training\n",
        "        model.train()\n",
        "\n",
        "        running_loss = 0.0\n",
        "        running_corrects = 0\n",
        "        sample_num=0\n",
        "        for xb, yb in train_dl:\n",
        "            \n",
        "            # Forward and backward\n",
        "            losses, corrects, nums = loss_batch(model, loss_func, xb, yb, opt)\n",
        "            \n",
        "            # Obtain loss and corrects\n",
        "            running_loss += losses * xb.size(0)\n",
        "            running_corrects += corrects\n",
        "            sample_num+=nums\n",
        "            \n",
        "        train_loss = running_loss / sample_num\n",
        "        train_acc = running_corrects.double() / sample_num\n",
        "\n",
        "        \n",
        "        # Validation\n",
        "        model.eval()\n",
        "        with torch.no_grad():\n",
        "            running_loss = 0.0\n",
        "            running_corrects = 0\n",
        "            sample_num=0\n",
        "            for xb, yb in valid_dl:\n",
        "                \n",
        "                # Obtain loss and corrects\n",
        "                losses, corrects, nums = loss_batch(model, loss_func, xb, yb)\n",
        "                \n",
        "                # Compute the statistics\n",
        "                running_loss += losses * xb.size(0)\n",
        "                running_corrects += corrects\n",
        "                sample_num+=nums\n",
        "\n",
        "            val_loss = running_loss / sample_num\n",
        "            val_acc = running_corrects.double()/ sample_num\n",
        "            \n",
        "            \n",
        "        # Print the results\n",
        "        print(f'EPOCH: {epoch+1:0>{len(str(epochs))}}/{epochs}', end=' ')\n",
        "        print(f'LOSS: {train_loss:.4f}',f'ACC: {train_acc:.4f} ',end=' ')\n",
        "        print(f'VAL-LOSS: {val_loss:.4f}',f'VAL-ACC: {val_acc:.4f} ',end='\\n')\n",
        "        \n",
        "        # Add the results to the list\n",
        "        train_losses.append(train_loss)\n",
        "        train_accs.append(train_acc.item())\n",
        "        val_losses.append(val_loss)\n",
        "        val_accs.append(val_acc.item())\n",
        "    \n",
        "    # Return the results\n",
        "    return train_losses, train_accs, val_losses, val_accs\n",
        "\n",
        "def get_data(train_ds, valid_ds, bs):\n",
        "    \"\"\" Helper function to create dataloader \"\"\"\n",
        "    return (\n",
        "        DataLoader(train_ds, batch_size=bs, shuffle=True),\n",
        "        DataLoader(valid_ds, batch_size=bs),\n",
        "    )\n"
      ]
    },
    {
      "cell_type": "code",
      "source": [
        "from torch import nn\n",
        "from torch import optim\n",
        "import torch.nn.functional as F\n",
        "\n",
        "class symmetry_model(nn.Module):\n",
        "    \"\"\" Symmetry architecture model\"\"\"\n",
        "    def __init__(self):\n",
        "        super().__init__()\n",
        "        self.symslice = sc.Slice(rotation=4, reflection=False)\n",
        "        self.symconv1 = sc.SymmetryConv2d(in_filters=1, out_filters=32, kernel_size=4, stride=4,\\\n",
        "                                         bias=True, rotation=4, reflection=False)\n",
        "        self.symconv2 = sc.SymmetryConv2d(in_filters=32, out_filters=64, kernel_size=3, stride=3, \\\n",
        "                                         bias=True, rotation=4, reflection=False)\n",
        "        self.sympool = sc.SymmetryPool(pool=torch.mean)\n",
        "        self.batchnorm1 = nn.BatchNorm2d(64)\n",
        "        self.fc1 = nn.Linear(64*8*5, 1024)\n",
        "        self.batchnorm2 = nn.BatchNorm1d(1024)\n",
        "        self.fc2 = nn.Linear(1024, 3)\n",
        "        self.dropout = nn.Dropout(0.5)\n",
        "\n",
        "    def forward(self, x):\n",
        "        x = self.symslice(x)\n",
        "        x = F.relu(self.symconv1(x))\n",
        "        x = F.relu(self.symconv2(x))\n",
        "        x = self.sympool(x)\n",
        "        x = self.batchnorm1(x)\n",
        "        x = x.view(x.size(0), -1)\n",
        "        x = F.relu(self.batchnorm2(self.fc1(x)))\n",
        "        x = self.dropout(x)\n",
        "        x = self.fc2(x)\n",
        "        return x"
      ],
      "metadata": {
        "id": "ZYb6jqqDkirV"
      },
      "id": "ZYb6jqqDkirV",
      "execution_count": 8,
      "outputs": []
    },
    {
      "cell_type": "code",
      "source": [
        "# Check if gpu is available\n",
        "print(torch.cuda.is_available())\n",
        "dev = torch.device(\n",
        "    \"cuda\") if torch.cuda.is_available() else torch.device(\"cpu\")\n",
        "\n",
        "\n",
        "class WrappedDataLoader:\n",
        "    def __init__(self, dl, func):\n",
        "        self.dl = dl\n",
        "        self.func = func\n",
        "\n",
        "    def __len__(self):\n",
        "        return len(self.dl)\n",
        "\n",
        "    def __iter__(self):\n",
        "        batches = iter(self.dl)\n",
        "        for b in batches:\n",
        "            yield (self.func(*b))\n",
        "\n",
        "def preprocess(x, y):\n",
        "    # Put x and y to gpu if possible\n",
        "    return x.to(dev), y.to(dev)\n"
      ],
      "metadata": {
        "colab": {
          "base_uri": "https://localhost:8080/"
        },
        "id": "WbfjWD7aj-mS",
        "outputId": "3e596e05-aa63-4e12-812e-bb716b0b4695"
      },
      "id": "WbfjWD7aj-mS",
      "execution_count": 9,
      "outputs": [
        {
          "output_type": "stream",
          "name": "stdout",
          "text": [
            "True\n"
          ]
        }
      ]
    },
    {
      "cell_type": "code",
      "source": [
        "def plot_training(outp, epochs):\n",
        "    # Intialize a list storing the epochs\n",
        "    ep = [i+1 for i in range(epochs)]\n",
        "\n",
        "    # Plot\n",
        "    fig, (ax1, ax2) = plt.subplots(1, 2, figsize=(12, 3))\n",
        "    fig.suptitle(\"Training evaluation plots\")\n",
        "    \n",
        "    # Plot loss function\n",
        "    ax1.plot(ep, outp[0], label='train')\n",
        "    ax1.plot(ep, outp[2], label='validation')\n",
        "    ax1.set_title('Loss function')\n",
        "    ax1.set_xlabel('Epochs')\n",
        "    ax1.set_ylabel('Loss')\n",
        "    ax1.legend()\n",
        "\n",
        "    # Plot accuracy scores\n",
        "    ax2.plot(ep, outp[1], label='train')\n",
        "    ax2.plot(ep, outp[3], label='validation')\n",
        "    ax2.set_title('Accuracy score')\n",
        "    ax2.set_xlabel('Epochs')\n",
        "    ax2.set_ylabel('Accuracy')\n",
        "    ax2.legend()\n",
        "    \n",
        "def evaluate_model(model, dl):\n",
        "    \"\"\" Helper function used to evaluate the model on a dataloader\"\"\"\n",
        "    # Validation\n",
        "    model.eval()\n",
        "    with torch.no_grad():\n",
        "        running_loss = 0.0\n",
        "        running_corrects = 0\n",
        "        sample_num=0\n",
        "        for xb, yb in dl:\n",
        "            \n",
        "            # Obtain loss and corrects\n",
        "            losses, corrects, nums = loss_batch(model, loss_func, xb, yb)\n",
        "            \n",
        "            # Compute statistics\n",
        "            running_loss += losses * xb.size(0)\n",
        "            running_corrects += corrects\n",
        "            sample_num+=nums\n",
        "\n",
        "        # Update the statistics\n",
        "        val_loss = running_loss / sample_num\n",
        "        val_acc = running_corrects.double()/ sample_num\n",
        "\n",
        "    return val_acc"
      ],
      "metadata": {
        "id": "U6N4n_PF9Ulj"
      },
      "id": "U6N4n_PF9Ulj",
      "execution_count": 10,
      "outputs": []
    },
    {
      "cell_type": "code",
      "source": [
        "torch.manual_seed(8)\n",
        "torch.cuda.manual_seed(8)\n",
        "torch.backends.cudnn.deterministic=True\n",
        "\n",
        "# Initialize parameters\n",
        "epochs = 50\n",
        "lr = 0.01\n",
        "bs = 16\n",
        "\n",
        "# Create dataloader \n",
        "train_dl, valid_dl = get_data(train_dataset, val_dataset, bs)\n",
        "train_dl = WrappedDataLoader(train_dl, preprocess)\n",
        "valid_dl = WrappedDataLoader(valid_dl, preprocess)\n",
        "\n",
        "# Initialize model and use gpu if possible\n",
        "model = symmetry_model()\n",
        "model.to(dev)\n",
        "\n",
        "opt = optim.Adam(model.parameters(), lr=lr)\n",
        "loss_func = F.cross_entropy\n",
        "\n",
        "# Fit the model\n",
        "outp = fit(epochs, model, loss_func, opt, train_dl, valid_dl)\n",
        "\n",
        "# Plot the results\n",
        "plot_training(outp, epochs)"
      ],
      "metadata": {
        "colab": {
          "base_uri": "https://localhost:8080/",
          "height": 1000
        },
        "id": "bDO2HZhfZS2e",
        "outputId": "7204572e-f42b-41e2-8fc7-95d40ce16ace"
      },
      "id": "bDO2HZhfZS2e",
      "execution_count": 11,
      "outputs": [
        {
          "output_type": "stream",
          "name": "stderr",
          "text": [
            "  2%|▏         | 1/50 [00:11<09:05, 11.14s/it]"
          ]
        },
        {
          "output_type": "stream",
          "name": "stdout",
          "text": [
            "EPOCH: 01/50 LOSS: 1.1601 ACC: 0.5817  VAL-LOSS: 0.2006 VAL-ACC: 0.9380 \n"
          ]
        },
        {
          "output_type": "stream",
          "name": "stderr",
          "text": [
            "\r  4%|▍         | 2/50 [00:14<05:04,  6.35s/it]"
          ]
        },
        {
          "output_type": "stream",
          "name": "stdout",
          "text": [
            "EPOCH: 02/50 LOSS: 0.3065 ACC: 0.8819  VAL-LOSS: 0.0793 VAL-ACC: 0.9850 \n"
          ]
        },
        {
          "output_type": "stream",
          "name": "stderr",
          "text": [
            "\r  6%|▌         | 3/50 [00:17<03:47,  4.85s/it]"
          ]
        },
        {
          "output_type": "stream",
          "name": "stdout",
          "text": [
            "EPOCH: 03/50 LOSS: 0.1996 ACC: 0.9235  VAL-LOSS: 0.0556 VAL-ACC: 0.9870 \n"
          ]
        },
        {
          "output_type": "stream",
          "name": "stderr",
          "text": [
            "\r  8%|▊         | 4/50 [00:20<03:20,  4.36s/it]"
          ]
        },
        {
          "output_type": "stream",
          "name": "stdout",
          "text": [
            "EPOCH: 04/50 LOSS: 0.1872 ACC: 0.9312  VAL-LOSS: 0.0536 VAL-ACC: 0.9860 \n"
          ]
        },
        {
          "output_type": "stream",
          "name": "stderr",
          "text": [
            "\r 10%|█         | 5/50 [00:24<02:57,  3.94s/it]"
          ]
        },
        {
          "output_type": "stream",
          "name": "stdout",
          "text": [
            "EPOCH: 05/50 LOSS: 0.1570 ACC: 0.9408  VAL-LOSS: 0.0349 VAL-ACC: 0.9940 \n"
          ]
        },
        {
          "output_type": "stream",
          "name": "stderr",
          "text": [
            "\r 12%|█▏        | 6/50 [00:27<02:39,  3.63s/it]"
          ]
        },
        {
          "output_type": "stream",
          "name": "stdout",
          "text": [
            "EPOCH: 06/50 LOSS: 0.1446 ACC: 0.9501  VAL-LOSS: 0.0306 VAL-ACC: 0.9940 \n"
          ]
        },
        {
          "output_type": "stream",
          "name": "stderr",
          "text": [
            "\r 14%|█▍        | 7/50 [00:30<02:27,  3.43s/it]"
          ]
        },
        {
          "output_type": "stream",
          "name": "stdout",
          "text": [
            "EPOCH: 07/50 LOSS: 0.1348 ACC: 0.9511  VAL-LOSS: 0.0240 VAL-ACC: 0.9965 \n"
          ]
        },
        {
          "output_type": "stream",
          "name": "stderr",
          "text": [
            "\r 16%|█▌        | 8/50 [00:33<02:25,  3.46s/it]"
          ]
        },
        {
          "output_type": "stream",
          "name": "stdout",
          "text": [
            "EPOCH: 08/50 LOSS: 0.1252 ACC: 0.9573  VAL-LOSS: 0.0367 VAL-ACC: 0.9915 \n"
          ]
        },
        {
          "output_type": "stream",
          "name": "stderr",
          "text": [
            "\r 18%|█▊        | 9/50 [00:36<02:20,  3.42s/it]"
          ]
        },
        {
          "output_type": "stream",
          "name": "stdout",
          "text": [
            "EPOCH: 09/50 LOSS: 0.1210 ACC: 0.9565  VAL-LOSS: 0.0242 VAL-ACC: 0.9995 \n"
          ]
        },
        {
          "output_type": "stream",
          "name": "stderr",
          "text": [
            "\r 20%|██        | 10/50 [00:39<02:11,  3.29s/it]"
          ]
        },
        {
          "output_type": "stream",
          "name": "stdout",
          "text": [
            "EPOCH: 10/50 LOSS: 0.1180 ACC: 0.9563  VAL-LOSS: 0.0195 VAL-ACC: 0.9965 \n"
          ]
        },
        {
          "output_type": "stream",
          "name": "stderr",
          "text": [
            "\r 22%|██▏       | 11/50 [00:43<02:06,  3.24s/it]"
          ]
        },
        {
          "output_type": "stream",
          "name": "stdout",
          "text": [
            "EPOCH: 11/50 LOSS: 0.1187 ACC: 0.9569  VAL-LOSS: 0.0234 VAL-ACC: 0.9915 \n"
          ]
        },
        {
          "output_type": "stream",
          "name": "stderr",
          "text": [
            "\r 24%|██▍       | 12/50 [00:46<02:04,  3.28s/it]"
          ]
        },
        {
          "output_type": "stream",
          "name": "stdout",
          "text": [
            "EPOCH: 12/50 LOSS: 0.1139 ACC: 0.9608  VAL-LOSS: 0.0198 VAL-ACC: 0.9940 \n"
          ]
        },
        {
          "output_type": "stream",
          "name": "stderr",
          "text": [
            "\r 26%|██▌       | 13/50 [00:49<02:03,  3.33s/it]"
          ]
        },
        {
          "output_type": "stream",
          "name": "stdout",
          "text": [
            "EPOCH: 13/50 LOSS: 0.0937 ACC: 0.9675  VAL-LOSS: 0.0139 VAL-ACC: 0.9960 \n"
          ]
        },
        {
          "output_type": "stream",
          "name": "stderr",
          "text": [
            "\r 28%|██▊       | 14/50 [00:52<01:56,  3.23s/it]"
          ]
        },
        {
          "output_type": "stream",
          "name": "stdout",
          "text": [
            "EPOCH: 14/50 LOSS: 0.1119 ACC: 0.9637  VAL-LOSS: 0.0152 VAL-ACC: 0.9980 \n"
          ]
        },
        {
          "output_type": "stream",
          "name": "stderr",
          "text": [
            "\r 30%|███       | 15/50 [00:56<01:57,  3.36s/it]"
          ]
        },
        {
          "output_type": "stream",
          "name": "stdout",
          "text": [
            "EPOCH: 15/50 LOSS: 0.1161 ACC: 0.9625  VAL-LOSS: 0.0164 VAL-ACC: 0.9965 \n"
          ]
        },
        {
          "output_type": "stream",
          "name": "stderr",
          "text": [
            "\r 32%|███▏      | 16/50 [01:00<01:58,  3.48s/it]"
          ]
        },
        {
          "output_type": "stream",
          "name": "stdout",
          "text": [
            "EPOCH: 16/50 LOSS: 0.0990 ACC: 0.9649  VAL-LOSS: 0.0116 VAL-ACC: 0.9985 \n"
          ]
        },
        {
          "output_type": "stream",
          "name": "stderr",
          "text": [
            "\r 34%|███▍      | 17/50 [01:03<01:54,  3.46s/it]"
          ]
        },
        {
          "output_type": "stream",
          "name": "stdout",
          "text": [
            "EPOCH: 17/50 LOSS: 0.1011 ACC: 0.9663  VAL-LOSS: 0.0113 VAL-ACC: 0.9955 \n"
          ]
        },
        {
          "output_type": "stream",
          "name": "stderr",
          "text": [
            "\r 36%|███▌      | 18/50 [01:06<01:48,  3.38s/it]"
          ]
        },
        {
          "output_type": "stream",
          "name": "stdout",
          "text": [
            "EPOCH: 18/50 LOSS: 0.1067 ACC: 0.9616  VAL-LOSS: 0.0141 VAL-ACC: 0.9970 \n"
          ]
        },
        {
          "output_type": "stream",
          "name": "stderr",
          "text": [
            "\r 38%|███▊      | 19/50 [01:09<01:41,  3.27s/it]"
          ]
        },
        {
          "output_type": "stream",
          "name": "stdout",
          "text": [
            "EPOCH: 19/50 LOSS: 0.1228 ACC: 0.9601  VAL-LOSS: 0.0168 VAL-ACC: 0.9955 \n"
          ]
        },
        {
          "output_type": "stream",
          "name": "stderr",
          "text": [
            "\r 40%|████      | 20/50 [01:13<01:39,  3.31s/it]"
          ]
        },
        {
          "output_type": "stream",
          "name": "stdout",
          "text": [
            "EPOCH: 20/50 LOSS: 0.0909 ACC: 0.9683  VAL-LOSS: 0.0204 VAL-ACC: 0.9930 \n"
          ]
        },
        {
          "output_type": "stream",
          "name": "stderr",
          "text": [
            "\r 42%|████▏     | 21/50 [01:16<01:36,  3.34s/it]"
          ]
        },
        {
          "output_type": "stream",
          "name": "stdout",
          "text": [
            "EPOCH: 21/50 LOSS: 0.0853 ACC: 0.9737  VAL-LOSS: 0.0126 VAL-ACC: 0.9970 \n"
          ]
        },
        {
          "output_type": "stream",
          "name": "stderr",
          "text": [
            "\r 44%|████▍     | 22/50 [01:19<01:30,  3.25s/it]"
          ]
        },
        {
          "output_type": "stream",
          "name": "stdout",
          "text": [
            "EPOCH: 22/50 LOSS: 0.0714 ACC: 0.9737  VAL-LOSS: 0.0062 VAL-ACC: 0.9985 \n"
          ]
        },
        {
          "output_type": "stream",
          "name": "stderr",
          "text": [
            "\r 46%|████▌     | 23/50 [01:22<01:26,  3.19s/it]"
          ]
        },
        {
          "output_type": "stream",
          "name": "stdout",
          "text": [
            "EPOCH: 23/50 LOSS: 0.0727 ACC: 0.9773  VAL-LOSS: 0.0061 VAL-ACC: 0.9995 \n"
          ]
        },
        {
          "output_type": "stream",
          "name": "stderr",
          "text": [
            "\r 48%|████▊     | 24/50 [01:26<01:23,  3.22s/it]"
          ]
        },
        {
          "output_type": "stream",
          "name": "stdout",
          "text": [
            "EPOCH: 24/50 LOSS: 0.0785 ACC: 0.9741  VAL-LOSS: 0.0141 VAL-ACC: 0.9960 \n"
          ]
        },
        {
          "output_type": "stream",
          "name": "stderr",
          "text": [
            "\r 50%|█████     | 25/50 [01:29<01:22,  3.30s/it]"
          ]
        },
        {
          "output_type": "stream",
          "name": "stdout",
          "text": [
            "EPOCH: 25/50 LOSS: 0.0828 ACC: 0.9727  VAL-LOSS: 0.0099 VAL-ACC: 0.9955 \n"
          ]
        },
        {
          "output_type": "stream",
          "name": "stderr",
          "text": [
            "\r 52%|█████▏    | 26/50 [01:32<01:16,  3.20s/it]"
          ]
        },
        {
          "output_type": "stream",
          "name": "stdout",
          "text": [
            "EPOCH: 26/50 LOSS: 0.0965 ACC: 0.9699  VAL-LOSS: 0.0065 VAL-ACC: 0.9980 \n"
          ]
        },
        {
          "output_type": "stream",
          "name": "stderr",
          "text": [
            "\r 54%|█████▍    | 27/50 [01:35<01:12,  3.17s/it]"
          ]
        },
        {
          "output_type": "stream",
          "name": "stdout",
          "text": [
            "EPOCH: 27/50 LOSS: 0.0840 ACC: 0.9737  VAL-LOSS: 0.0085 VAL-ACC: 0.9985 \n"
          ]
        },
        {
          "output_type": "stream",
          "name": "stderr",
          "text": [
            "\r 56%|█████▌    | 28/50 [01:38<01:09,  3.14s/it]"
          ]
        },
        {
          "output_type": "stream",
          "name": "stdout",
          "text": [
            "EPOCH: 28/50 LOSS: 0.0639 ACC: 0.9776  VAL-LOSS: 0.0139 VAL-ACC: 0.9985 \n"
          ]
        },
        {
          "output_type": "stream",
          "name": "stderr",
          "text": [
            "\r 58%|█████▊    | 29/50 [01:42<01:09,  3.31s/it]"
          ]
        },
        {
          "output_type": "stream",
          "name": "stdout",
          "text": [
            "EPOCH: 29/50 LOSS: 0.0571 ACC: 0.9809  VAL-LOSS: 0.0081 VAL-ACC: 0.9980 \n"
          ]
        },
        {
          "output_type": "stream",
          "name": "stderr",
          "text": [
            "\r 60%|██████    | 30/50 [01:45<01:04,  3.23s/it]"
          ]
        },
        {
          "output_type": "stream",
          "name": "stdout",
          "text": [
            "EPOCH: 30/50 LOSS: 0.0735 ACC: 0.9772  VAL-LOSS: 0.0202 VAL-ACC: 0.9975 \n"
          ]
        },
        {
          "output_type": "stream",
          "name": "stderr",
          "text": [
            "\r 62%|██████▏   | 31/50 [01:48<01:00,  3.18s/it]"
          ]
        },
        {
          "output_type": "stream",
          "name": "stdout",
          "text": [
            "EPOCH: 31/50 LOSS: 0.0771 ACC: 0.9777  VAL-LOSS: 0.0078 VAL-ACC: 0.9975 \n"
          ]
        },
        {
          "output_type": "stream",
          "name": "stderr",
          "text": [
            "\r 64%|██████▍   | 32/50 [01:51<00:56,  3.13s/it]"
          ]
        },
        {
          "output_type": "stream",
          "name": "stdout",
          "text": [
            "EPOCH: 32/50 LOSS: 0.0694 ACC: 0.9769  VAL-LOSS: 0.0066 VAL-ACC: 0.9990 \n"
          ]
        },
        {
          "output_type": "stream",
          "name": "stderr",
          "text": [
            "\r 66%|██████▌   | 33/50 [01:55<00:56,  3.31s/it]"
          ]
        },
        {
          "output_type": "stream",
          "name": "stdout",
          "text": [
            "EPOCH: 33/50 LOSS: 0.0739 ACC: 0.9752  VAL-LOSS: 0.0042 VAL-ACC: 0.9995 \n"
          ]
        },
        {
          "output_type": "stream",
          "name": "stderr",
          "text": [
            "\r 68%|██████▊   | 34/50 [01:58<00:51,  3.22s/it]"
          ]
        },
        {
          "output_type": "stream",
          "name": "stdout",
          "text": [
            "EPOCH: 34/50 LOSS: 0.0625 ACC: 0.9783  VAL-LOSS: 0.0027 VAL-ACC: 1.0000 \n"
          ]
        },
        {
          "output_type": "stream",
          "name": "stderr",
          "text": [
            "\r 70%|███████   | 35/50 [02:01<00:47,  3.16s/it]"
          ]
        },
        {
          "output_type": "stream",
          "name": "stdout",
          "text": [
            "EPOCH: 35/50 LOSS: 0.0796 ACC: 0.9756  VAL-LOSS: 0.0072 VAL-ACC: 0.9985 \n"
          ]
        },
        {
          "output_type": "stream",
          "name": "stderr",
          "text": [
            "\r 72%|███████▏  | 36/50 [02:04<00:43,  3.13s/it]"
          ]
        },
        {
          "output_type": "stream",
          "name": "stdout",
          "text": [
            "EPOCH: 36/50 LOSS: 0.0712 ACC: 0.9773  VAL-LOSS: 0.0070 VAL-ACC: 0.9990 \n"
          ]
        },
        {
          "output_type": "stream",
          "name": "stderr",
          "text": [
            "\r 74%|███████▍  | 37/50 [02:08<00:42,  3.29s/it]"
          ]
        },
        {
          "output_type": "stream",
          "name": "stdout",
          "text": [
            "EPOCH: 37/50 LOSS: 0.0791 ACC: 0.9752  VAL-LOSS: 0.0088 VAL-ACC: 0.9975 \n"
          ]
        },
        {
          "output_type": "stream",
          "name": "stderr",
          "text": [
            "\r 76%|███████▌  | 38/50 [02:11<00:38,  3.24s/it]"
          ]
        },
        {
          "output_type": "stream",
          "name": "stdout",
          "text": [
            "EPOCH: 38/50 LOSS: 0.0628 ACC: 0.9805  VAL-LOSS: 0.0061 VAL-ACC: 0.9985 \n"
          ]
        },
        {
          "output_type": "stream",
          "name": "stderr",
          "text": [
            "\r 78%|███████▊  | 39/50 [02:14<00:34,  3.17s/it]"
          ]
        },
        {
          "output_type": "stream",
          "name": "stdout",
          "text": [
            "EPOCH: 39/50 LOSS: 0.0761 ACC: 0.9781  VAL-LOSS: 0.0056 VAL-ACC: 0.9990 \n"
          ]
        },
        {
          "output_type": "stream",
          "name": "stderr",
          "text": [
            "\r 80%|████████  | 40/50 [02:17<00:31,  3.12s/it]"
          ]
        },
        {
          "output_type": "stream",
          "name": "stdout",
          "text": [
            "EPOCH: 40/50 LOSS: 0.0590 ACC: 0.9800  VAL-LOSS: 0.0069 VAL-ACC: 0.9985 \n"
          ]
        },
        {
          "output_type": "stream",
          "name": "stderr",
          "text": [
            "\r 82%|████████▏ | 41/50 [02:20<00:29,  3.24s/it]"
          ]
        },
        {
          "output_type": "stream",
          "name": "stdout",
          "text": [
            "EPOCH: 41/50 LOSS: 0.0679 ACC: 0.9803  VAL-LOSS: 0.0048 VAL-ACC: 0.9990 \n"
          ]
        },
        {
          "output_type": "stream",
          "name": "stderr",
          "text": [
            "\r 84%|████████▍ | 42/50 [02:23<00:25,  3.23s/it]"
          ]
        },
        {
          "output_type": "stream",
          "name": "stdout",
          "text": [
            "EPOCH: 42/50 LOSS: 0.0488 ACC: 0.9845  VAL-LOSS: 0.0038 VAL-ACC: 0.9995 \n"
          ]
        },
        {
          "output_type": "stream",
          "name": "stderr",
          "text": [
            "\r 86%|████████▌ | 43/50 [02:26<00:22,  3.17s/it]"
          ]
        },
        {
          "output_type": "stream",
          "name": "stdout",
          "text": [
            "EPOCH: 43/50 LOSS: 0.0559 ACC: 0.9833  VAL-LOSS: 0.0042 VAL-ACC: 0.9990 \n"
          ]
        },
        {
          "output_type": "stream",
          "name": "stderr",
          "text": [
            "\r 88%|████████▊ | 44/50 [02:29<00:18,  3.11s/it]"
          ]
        },
        {
          "output_type": "stream",
          "name": "stdout",
          "text": [
            "EPOCH: 44/50 LOSS: 0.0566 ACC: 0.9817  VAL-LOSS: 0.0022 VAL-ACC: 1.0000 \n"
          ]
        },
        {
          "output_type": "stream",
          "name": "stderr",
          "text": [
            "\r 90%|█████████ | 45/50 [02:33<00:15,  3.18s/it]"
          ]
        },
        {
          "output_type": "stream",
          "name": "stdout",
          "text": [
            "EPOCH: 45/50 LOSS: 0.0556 ACC: 0.9823  VAL-LOSS: 0.0098 VAL-ACC: 0.9985 \n"
          ]
        },
        {
          "output_type": "stream",
          "name": "stderr",
          "text": [
            "\r 92%|█████████▏| 46/50 [02:36<00:13,  3.27s/it]"
          ]
        },
        {
          "output_type": "stream",
          "name": "stdout",
          "text": [
            "EPOCH: 46/50 LOSS: 0.0585 ACC: 0.9829  VAL-LOSS: 0.0056 VAL-ACC: 0.9980 \n"
          ]
        },
        {
          "output_type": "stream",
          "name": "stderr",
          "text": [
            "\r 94%|█████████▍| 47/50 [02:39<00:09,  3.19s/it]"
          ]
        },
        {
          "output_type": "stream",
          "name": "stdout",
          "text": [
            "EPOCH: 47/50 LOSS: 0.0660 ACC: 0.9796  VAL-LOSS: 0.0259 VAL-ACC: 0.9975 \n"
          ]
        },
        {
          "output_type": "stream",
          "name": "stderr",
          "text": [
            "\r 96%|█████████▌| 48/50 [02:42<00:06,  3.14s/it]"
          ]
        },
        {
          "output_type": "stream",
          "name": "stdout",
          "text": [
            "EPOCH: 48/50 LOSS: 0.0555 ACC: 0.9828  VAL-LOSS: 0.0027 VAL-ACC: 0.9995 \n"
          ]
        },
        {
          "output_type": "stream",
          "name": "stderr",
          "text": [
            "\r 98%|█████████▊| 49/50 [02:45<00:03,  3.17s/it]"
          ]
        },
        {
          "output_type": "stream",
          "name": "stdout",
          "text": [
            "EPOCH: 49/50 LOSS: 0.0739 ACC: 0.9801  VAL-LOSS: 0.0142 VAL-ACC: 0.9985 \n"
          ]
        },
        {
          "output_type": "stream",
          "name": "stderr",
          "text": [
            "100%|██████████| 50/50 [02:49<00:00,  3.39s/it]"
          ]
        },
        {
          "output_type": "stream",
          "name": "stdout",
          "text": [
            "EPOCH: 50/50 LOSS: 0.0471 ACC: 0.9847  VAL-LOSS: 0.0051 VAL-ACC: 0.9990 \n"
          ]
        },
        {
          "output_type": "stream",
          "name": "stderr",
          "text": [
            "\n"
          ]
        },
        {
          "output_type": "display_data",
          "data": {
            "text/plain": [
              "<Figure size 1200x300 with 2 Axes>"
            ],
            "image/png": "[encoded data removed]"
          },
          "metadata": {}
        }
      ]
    },
    {
      "cell_type": "code",
      "source": [
        "# Save the model\n",
        "torch.save(model.state_dict(), 'final_checkpoint.pth')\n",
        "\n",
        "# Load the model and use gpu if possible\n",
        "model = symmetry_model()\n",
        "model.load_state_dict(torch.load('final_checkpoint.pth'))\n",
        "model.to(dev)"
      ],
      "metadata": {
        "colab": {
          "base_uri": "https://localhost:8080/"
        },
        "id": "eIedmQVIEMYi",
        "outputId": "dec62fdf-efa5-4d5c-f105-d0bd7b0760dc"
      },
      "id": "eIedmQVIEMYi",
      "execution_count": 12,
      "outputs": [
        {
          "output_type": "execute_result",
          "data": {
            "text/plain": [
              "symmetry_model(\n",
              "  (symslice): Slice()\n",
              "  (symconv1): SymmetryConv2d()\n",
              "  (symconv2): SymmetryConv2d()\n",
              "  (sympool): SymmetryPool()\n",
              "  (batchnorm1): BatchNorm2d(64, eps=1e-05, momentum=0.1, affine=True, track_running_stats=True)\n",
              "  (fc1): Linear(in_features=2560, out_features=1024, bias=True)\n",
              "  (batchnorm2): BatchNorm1d(1024, eps=1e-05, momentum=0.1, affine=True, track_running_stats=True)\n",
              "  (fc2): Linear(in_features=1024, out_features=3, bias=True)\n",
              "  (dropout): Dropout(p=0.5, inplace=False)\n",
              ")"
            ]
          },
          "metadata": {},
          "execution_count": 12
        }
      ]
    },
    {
      "cell_type": "code",
      "source": [
        "# Initialize dataloaders for evaluation\n",
        "train_dl = DataLoader(train_dataset, 1, shuffle=False)\n",
        "val_dl = DataLoader(val_dataset, 1, shuffle=False)\n",
        "test_dl = DataLoader(test_dataset, 1, shuffle=False)\n",
        "\n",
        "train_dl = WrappedDataLoader(train_dl, preprocess)\n",
        "val_dl = WrappedDataLoader(val_dl, preprocess)\n",
        "test_dl = WrappedDataLoader(test_dl, preprocess)\n",
        "\n",
        "# Evaluate\n",
        "print(\"Accuracy on train data\", evaluate_model(model, train_dl).item())\n",
        "print(\"Accuracy on validation data\", evaluate_model(model, val_dl).item())\n",
        "print(\"Accuracy on test data\", evaluate_model(model, test_dl).item())"
      ],
      "metadata": {
        "colab": {
          "base_uri": "https://localhost:8080/"
        },
        "id": "2hYb5NWWn_R5",
        "outputId": "30bcc96b-864f-43f7-d59d-31c5fcded6ea"
      },
      "id": "2hYb5NWWn_R5",
      "execution_count": 13,
      "outputs": [
        {
          "output_type": "stream",
          "name": "stdout",
          "text": [
            "Accuracy on train data 0.9994666666666667\n",
            "Accuracy on validation data 0.999\n",
            "Accuracy on test data 0.998\n"
          ]
        }
      ]
    },
    {
      "cell_type": "markdown",
      "id": "06c5a8d4",
      "metadata": {
        "id": "06c5a8d4"
      },
      "source": [
        "## Task 1: Question 5d"
      ]
    },
    {
      "cell_type": "code",
      "source": [
        "class symmetry_model_1(nn.Module):\n",
        "    \"\"\" Uses amax instead avg when pooling\"\"\" \n",
        "    def __init__(self):\n",
        "        super().__init__()\n",
        "        self.symslice = sc.Slice(rotation=4, reflection=False)\n",
        "        self.symconv1 = sc.SymmetryConv2d(in_filters=1, out_filters=32, kernel_size=4, stride=4,\\\n",
        "                                         bias=True, rotation=4, reflection=False)\n",
        "        self.symconv2 = sc.SymmetryConv2d(in_filters=32, out_filters=64, kernel_size=3, stride=3, \\\n",
        "                                         bias=True, rotation=4, reflection=False)\n",
        "        self.sympool = sc.SymmetryPool(pool=torch.amax)\n",
        "        self.batchnorm1 = nn.BatchNorm2d(64)\n",
        "        self.fc1 = nn.Linear(64*8*5, 1024)\n",
        "        self.batchnorm2 = nn.BatchNorm1d(1024)\n",
        "        self.fc2 = nn.Linear(1024, 3)\n",
        "        self.dropout = nn.Dropout(0.5)\n",
        "\n",
        "    def forward(self, x):\n",
        "        x = self.symslice(x)\n",
        "        x = F.relu(self.symconv1(x))\n",
        "        x = F.relu(self.symconv2(x))\n",
        "        x = self.sympool(x)\n",
        "        x = self.batchnorm1(x)\n",
        "        x = x.view(x.size(0), -1)\n",
        "        x = F.relu(self.batchnorm2(self.fc1(x)))\n",
        "        x = self.dropout(x)\n",
        "        x = self.fc2(x)\n",
        "        return x\n",
        "\n",
        "class symmetry_model_2(nn.Module):\n",
        "    \"\"\" No regularization methods (batch normalization and dropout)  \"\"\" \n",
        "\n",
        "    def __init__(self):\n",
        "        super().__init__()\n",
        "        self.symslice = sc.Slice(rotation=4, reflection=False)\n",
        "        self.symconv1 = sc.SymmetryConv2d(in_filters=1, out_filters=32, kernel_size=4, stride=4,\\\n",
        "                                         bias=True, rotation=4, reflection=False)\n",
        "        self.symconv2 = sc.SymmetryConv2d(in_filters=32, out_filters=64, kernel_size=3, stride=3, \\\n",
        "                                         bias=True, rotation=4, reflection=False)\n",
        "        self.sympool = sc.SymmetryPool(pool=torch.mean)\n",
        "        self.fc1 = nn.Linear(64*8*5, 1024)\n",
        "        self.fc2 = nn.Linear(1024, 3)\n",
        "\n",
        "    def forward(self, x):\n",
        "        x = self.symslice(x)\n",
        "        x = F.relu(self.symconv1(x))\n",
        "        x = F.relu(self.symconv2(x))\n",
        "        x = self.sympool(x)\n",
        "        x = x.view(x.size(0), -1)\n",
        "        x = F.relu(self.fc1(x))\n",
        "        x = self.fc2(x)\n",
        "        return x\n",
        "\n",
        "class symmetry_model_3(nn.Module):\n",
        "    \"\"\" No bias in SymmetryConv2d\"\"\" \n",
        "    def __init__(self):\n",
        "        super().__init__()\n",
        "        self.symslice = sc.Slice(rotation=4, reflection=False)\n",
        "        self.symconv1 = sc.SymmetryConv2d(in_filters=1, out_filters=32, kernel_size=4, stride=4,\\\n",
        "                                         bias=False, rotation=4, reflection=False)\n",
        "        self.symconv2 = sc.SymmetryConv2d(in_filters=32, out_filters=64, kernel_size=3, stride=3, \\\n",
        "                                         bias=False, rotation=4, reflection=False)\n",
        "        self.sympool = sc.SymmetryPool(pool=torch.mean)\n",
        "        self.batchnorm1 = nn.BatchNorm2d(64)\n",
        "        self.fc1 = nn.Linear(64*8*5, 1024)\n",
        "        self.batchnorm2 = nn.BatchNorm1d(1024)\n",
        "        self.fc2 = nn.Linear(1024, 3)\n",
        "        self.dropout = nn.Dropout(0.5)\n",
        "\n",
        "    def forward(self, x):\n",
        "        x = self.symslice(x)\n",
        "        x = F.relu(self.symconv1(x))\n",
        "        x = F.relu(self.symconv2(x))\n",
        "        x = self.sympool(x)\n",
        "        x = self.batchnorm1(x)\n",
        "        x = x.view(x.size(0), -1)\n",
        "        x = F.relu(self.batchnorm2(self.fc1(x)))\n",
        "        x = self.dropout(x)\n",
        "        x = self.fc2(x)\n",
        "        return x"
      ],
      "metadata": {
        "id": "74LN-ZdowMCw"
      },
      "id": "74LN-ZdowMCw",
      "execution_count": 14,
      "outputs": []
    },
    {
      "cell_type": "code",
      "source": [
        "torch.manual_seed(8)\n",
        "torch.cuda.manual_seed(8)\n",
        "torch.backends.cudnn.deterministic=True\n",
        "\n",
        "# Initialize parameters\n",
        "epochs = 50\n",
        "lr = 0.01\n",
        "bs = 16\n",
        "\n",
        "# Create data loaders\n",
        "train_dl, valid_dl = get_data(train_dataset, val_dataset, bs)\n",
        "train_dl = WrappedDataLoader(train_dl, preprocess)\n",
        "valid_dl = WrappedDataLoader(valid_dl, preprocess)\n",
        "\n",
        "# Initialize model and use gpu if possible\n",
        "model = symmetry_model_1()\n",
        "model.to(dev)\n",
        "\n",
        "opt = optim.Adam(model.parameters(), lr=lr)\n",
        "loss_func = F.cross_entropy\n",
        "\n",
        "# Fit the model\n",
        "outp = fit(epochs, model, loss_func, opt, train_dl, valid_dl)\n",
        "\n",
        "# Plot the output\n",
        "plot_training(outp, epochs)\n",
        "\n",
        "# Evaluate the performance \n",
        "train_dl = DataLoader(train_dataset, 1, shuffle=False)\n",
        "val_dl = DataLoader(val_dataset, 1, shuffle=False)\n",
        "test_dl = DataLoader(test_dataset, 1, shuffle=False)\n",
        "\n",
        "train_dl = WrappedDataLoader(train_dl, preprocess)\n",
        "val_dl = WrappedDataLoader(val_dl, preprocess)\n",
        "test_dl = WrappedDataLoader(test_dl, preprocess)\n",
        "\n",
        "print(\"Accuracy on train data\", evaluate_model(model, train_dl).item())\n",
        "print(\"Accuracy on validation data\", evaluate_model(model, val_dl).item())\n",
        "print(\"Accuracy on test data\", evaluate_model(model, test_dl).item())"
      ],
      "metadata": {
        "colab": {
          "base_uri": "https://localhost:8080/",
          "height": 1000
        },
        "id": "qOq75ApayR2V",
        "outputId": "d86aa968-d6cf-402b-9228-b9bed6dea476"
      },
      "id": "qOq75ApayR2V",
      "execution_count": 15,
      "outputs": [
        {
          "output_type": "stream",
          "name": "stderr",
          "text": [
            "  2%|▏         | 1/50 [00:03<02:50,  3.47s/it]"
          ]
        },
        {
          "output_type": "stream",
          "name": "stdout",
          "text": [
            "EPOCH: 01/50 LOSS: 1.1551 ACC: 0.5871  VAL-LOSS: 0.1516 VAL-ACC: 0.9590 \n"
          ]
        },
        {
          "output_type": "stream",
          "name": "stderr",
          "text": [
            "\r  4%|▍         | 2/50 [00:06<02:42,  3.39s/it]"
          ]
        },
        {
          "output_type": "stream",
          "name": "stdout",
          "text": [
            "EPOCH: 02/50 LOSS: 0.2676 ACC: 0.8972  VAL-LOSS: 0.0932 VAL-ACC: 0.9700 \n"
          ]
        },
        {
          "output_type": "stream",
          "name": "stderr",
          "text": [
            "\r  6%|▌         | 3/50 [00:09<02:32,  3.24s/it]"
          ]
        },
        {
          "output_type": "stream",
          "name": "stdout",
          "text": [
            "EPOCH: 03/50 LOSS: 0.2105 ACC: 0.9243  VAL-LOSS: 0.0619 VAL-ACC: 0.9810 \n"
          ]
        },
        {
          "output_type": "stream",
          "name": "stderr",
          "text": [
            "\r  8%|▊         | 4/50 [00:12<02:25,  3.16s/it]"
          ]
        },
        {
          "output_type": "stream",
          "name": "stdout",
          "text": [
            "EPOCH: 04/50 LOSS: 0.1680 ACC: 0.9379  VAL-LOSS: 0.0322 VAL-ACC: 0.9920 \n"
          ]
        },
        {
          "output_type": "stream",
          "name": "stderr",
          "text": [
            "\r 10%|█         | 5/50 [00:16<02:25,  3.23s/it]"
          ]
        },
        {
          "output_type": "stream",
          "name": "stdout",
          "text": [
            "EPOCH: 05/50 LOSS: 0.1445 ACC: 0.9463  VAL-LOSS: 0.0572 VAL-ACC: 0.9820 \n"
          ]
        },
        {
          "output_type": "stream",
          "name": "stderr",
          "text": [
            "\r 12%|█▏        | 6/50 [00:19<02:25,  3.32s/it]"
          ]
        },
        {
          "output_type": "stream",
          "name": "stdout",
          "text": [
            "EPOCH: 06/50 LOSS: 0.1438 ACC: 0.9471  VAL-LOSS: 0.0264 VAL-ACC: 0.9935 \n"
          ]
        },
        {
          "output_type": "stream",
          "name": "stderr",
          "text": [
            "\r 14%|█▍        | 7/50 [00:22<02:18,  3.22s/it]"
          ]
        },
        {
          "output_type": "stream",
          "name": "stdout",
          "text": [
            "EPOCH: 07/50 LOSS: 0.1295 ACC: 0.9532  VAL-LOSS: 0.0257 VAL-ACC: 0.9935 \n"
          ]
        },
        {
          "output_type": "stream",
          "name": "stderr",
          "text": [
            "\r 16%|█▌        | 8/50 [00:25<02:12,  3.16s/it]"
          ]
        },
        {
          "output_type": "stream",
          "name": "stdout",
          "text": [
            "EPOCH: 08/50 LOSS: 0.1354 ACC: 0.9515  VAL-LOSS: 0.0359 VAL-ACC: 0.9940 \n"
          ]
        },
        {
          "output_type": "stream",
          "name": "stderr",
          "text": [
            "\r 18%|█▊        | 9/50 [00:29<02:10,  3.18s/it]"
          ]
        },
        {
          "output_type": "stream",
          "name": "stdout",
          "text": [
            "EPOCH: 09/50 LOSS: 0.1199 ACC: 0.9584  VAL-LOSS: 0.0240 VAL-ACC: 0.9940 \n"
          ]
        },
        {
          "output_type": "stream",
          "name": "stderr",
          "text": [
            "\r 20%|██        | 10/50 [00:32<02:12,  3.31s/it]"
          ]
        },
        {
          "output_type": "stream",
          "name": "stdout",
          "text": [
            "EPOCH: 10/50 LOSS: 0.1036 ACC: 0.9619  VAL-LOSS: 0.0273 VAL-ACC: 0.9910 \n"
          ]
        },
        {
          "output_type": "stream",
          "name": "stderr",
          "text": [
            "\r 22%|██▏       | 11/50 [00:35<02:05,  3.23s/it]"
          ]
        },
        {
          "output_type": "stream",
          "name": "stdout",
          "text": [
            "EPOCH: 11/50 LOSS: 0.1355 ACC: 0.9551  VAL-LOSS: 0.0262 VAL-ACC: 0.9925 \n"
          ]
        },
        {
          "output_type": "stream",
          "name": "stderr",
          "text": [
            "\r 24%|██▍       | 12/50 [00:38<02:00,  3.17s/it]"
          ]
        },
        {
          "output_type": "stream",
          "name": "stdout",
          "text": [
            "EPOCH: 12/50 LOSS: 0.1011 ACC: 0.9652  VAL-LOSS: 0.0242 VAL-ACC: 0.9935 \n"
          ]
        },
        {
          "output_type": "stream",
          "name": "stderr",
          "text": [
            "\r 26%|██▌       | 13/50 [00:41<01:56,  3.14s/it]"
          ]
        },
        {
          "output_type": "stream",
          "name": "stdout",
          "text": [
            "EPOCH: 13/50 LOSS: 0.1082 ACC: 0.9619  VAL-LOSS: 0.0455 VAL-ACC: 0.9940 \n"
          ]
        },
        {
          "output_type": "stream",
          "name": "stderr",
          "text": [
            "\r 28%|██▊       | 14/50 [00:45<01:59,  3.33s/it]"
          ]
        },
        {
          "output_type": "stream",
          "name": "stdout",
          "text": [
            "EPOCH: 14/50 LOSS: 0.1110 ACC: 0.9628  VAL-LOSS: 0.0251 VAL-ACC: 0.9930 \n"
          ]
        },
        {
          "output_type": "stream",
          "name": "stderr",
          "text": [
            "\r 30%|███       | 15/50 [00:48<01:53,  3.25s/it]"
          ]
        },
        {
          "output_type": "stream",
          "name": "stdout",
          "text": [
            "EPOCH: 15/50 LOSS: 0.1008 ACC: 0.9649  VAL-LOSS: 0.0176 VAL-ACC: 0.9955 \n"
          ]
        },
        {
          "output_type": "stream",
          "name": "stderr",
          "text": [
            "\r 32%|███▏      | 16/50 [00:51<01:48,  3.19s/it]"
          ]
        },
        {
          "output_type": "stream",
          "name": "stdout",
          "text": [
            "EPOCH: 16/50 LOSS: 0.1130 ACC: 0.9667  VAL-LOSS: 0.0556 VAL-ACC: 0.9895 \n"
          ]
        },
        {
          "output_type": "stream",
          "name": "stderr",
          "text": [
            "\r 34%|███▍      | 17/50 [00:54<01:43,  3.15s/it]"
          ]
        },
        {
          "output_type": "stream",
          "name": "stdout",
          "text": [
            "EPOCH: 17/50 LOSS: 0.0843 ACC: 0.9693  VAL-LOSS: 0.0263 VAL-ACC: 0.9920 \n"
          ]
        },
        {
          "output_type": "stream",
          "name": "stderr",
          "text": [
            "\r 36%|███▌      | 18/50 [00:58<01:47,  3.35s/it]"
          ]
        },
        {
          "output_type": "stream",
          "name": "stdout",
          "text": [
            "EPOCH: 18/50 LOSS: 0.0900 ACC: 0.9692  VAL-LOSS: 0.0265 VAL-ACC: 0.9935 \n"
          ]
        },
        {
          "output_type": "stream",
          "name": "stderr",
          "text": [
            "\r 38%|███▊      | 19/50 [01:01<01:40,  3.26s/it]"
          ]
        },
        {
          "output_type": "stream",
          "name": "stdout",
          "text": [
            "EPOCH: 19/50 LOSS: 0.1056 ACC: 0.9632  VAL-LOSS: 0.0815 VAL-ACC: 0.9900 \n"
          ]
        },
        {
          "output_type": "stream",
          "name": "stderr",
          "text": [
            "\r 40%|████      | 20/50 [01:04<01:35,  3.19s/it]"
          ]
        },
        {
          "output_type": "stream",
          "name": "stdout",
          "text": [
            "EPOCH: 20/50 LOSS: 0.0886 ACC: 0.9695  VAL-LOSS: 0.0174 VAL-ACC: 0.9965 \n"
          ]
        },
        {
          "output_type": "stream",
          "name": "stderr",
          "text": [
            "\r 42%|████▏     | 21/50 [01:07<01:31,  3.15s/it]"
          ]
        },
        {
          "output_type": "stream",
          "name": "stdout",
          "text": [
            "EPOCH: 21/50 LOSS: 0.0771 ACC: 0.9735  VAL-LOSS: 0.0509 VAL-ACC: 0.9900 \n"
          ]
        },
        {
          "output_type": "stream",
          "name": "stderr",
          "text": [
            "\r 44%|████▍     | 22/50 [01:11<01:33,  3.33s/it]"
          ]
        },
        {
          "output_type": "stream",
          "name": "stdout",
          "text": [
            "EPOCH: 22/50 LOSS: 0.0878 ACC: 0.9727  VAL-LOSS: 0.0192 VAL-ACC: 0.9935 \n"
          ]
        },
        {
          "output_type": "stream",
          "name": "stderr",
          "text": [
            "\r 46%|████▌     | 23/50 [01:14<01:28,  3.28s/it]"
          ]
        },
        {
          "output_type": "stream",
          "name": "stdout",
          "text": [
            "EPOCH: 23/50 LOSS: 0.0848 ACC: 0.9716  VAL-LOSS: 0.0198 VAL-ACC: 0.9935 \n"
          ]
        },
        {
          "output_type": "stream",
          "name": "stderr",
          "text": [
            "\r 48%|████▊     | 24/50 [01:17<01:23,  3.21s/it]"
          ]
        },
        {
          "output_type": "stream",
          "name": "stdout",
          "text": [
            "EPOCH: 24/50 LOSS: 0.0874 ACC: 0.9692  VAL-LOSS: 0.0158 VAL-ACC: 0.9950 \n"
          ]
        },
        {
          "output_type": "stream",
          "name": "stderr",
          "text": [
            "\r 50%|█████     | 25/50 [01:20<01:19,  3.17s/it]"
          ]
        },
        {
          "output_type": "stream",
          "name": "stdout",
          "text": [
            "EPOCH: 25/50 LOSS: 0.0859 ACC: 0.9741  VAL-LOSS: 0.0220 VAL-ACC: 0.9900 \n"
          ]
        },
        {
          "output_type": "stream",
          "name": "stderr",
          "text": [
            "\r 52%|█████▏    | 26/50 [01:24<01:18,  3.29s/it]"
          ]
        },
        {
          "output_type": "stream",
          "name": "stdout",
          "text": [
            "EPOCH: 26/50 LOSS: 0.0827 ACC: 0.9744  VAL-LOSS: 0.3181 VAL-ACC: 0.9925 \n"
          ]
        },
        {
          "output_type": "stream",
          "name": "stderr",
          "text": [
            "\r 54%|█████▍    | 27/50 [01:27<01:15,  3.28s/it]"
          ]
        },
        {
          "output_type": "stream",
          "name": "stdout",
          "text": [
            "EPOCH: 27/50 LOSS: 0.0787 ACC: 0.9751  VAL-LOSS: 0.0162 VAL-ACC: 0.9965 \n"
          ]
        },
        {
          "output_type": "stream",
          "name": "stderr",
          "text": [
            "\r 56%|█████▌    | 28/50 [01:30<01:11,  3.23s/it]"
          ]
        },
        {
          "output_type": "stream",
          "name": "stdout",
          "text": [
            "EPOCH: 28/50 LOSS: 0.0675 ACC: 0.9733  VAL-LOSS: 0.0283 VAL-ACC: 0.9940 \n"
          ]
        },
        {
          "output_type": "stream",
          "name": "stderr",
          "text": [
            "\r 58%|█████▊    | 29/50 [01:33<01:06,  3.18s/it]"
          ]
        },
        {
          "output_type": "stream",
          "name": "stdout",
          "text": [
            "EPOCH: 29/50 LOSS: 0.0773 ACC: 0.9752  VAL-LOSS: 0.1986 VAL-ACC: 0.9930 \n"
          ]
        },
        {
          "output_type": "stream",
          "name": "stderr",
          "text": [
            "\r 60%|██████    | 30/50 [01:37<01:05,  3.30s/it]"
          ]
        },
        {
          "output_type": "stream",
          "name": "stdout",
          "text": [
            "EPOCH: 30/50 LOSS: 0.0833 ACC: 0.9731  VAL-LOSS: 0.0376 VAL-ACC: 0.9950 \n"
          ]
        },
        {
          "output_type": "stream",
          "name": "stderr",
          "text": [
            "\r 62%|██████▏   | 31/50 [01:40<01:02,  3.30s/it]"
          ]
        },
        {
          "output_type": "stream",
          "name": "stdout",
          "text": [
            "EPOCH: 31/50 LOSS: 0.0767 ACC: 0.9741  VAL-LOSS: 0.0147 VAL-ACC: 0.9950 \n"
          ]
        },
        {
          "output_type": "stream",
          "name": "stderr",
          "text": [
            "\r 64%|██████▍   | 32/50 [01:43<00:58,  3.23s/it]"
          ]
        },
        {
          "output_type": "stream",
          "name": "stdout",
          "text": [
            "EPOCH: 32/50 LOSS: 0.0902 ACC: 0.9753  VAL-LOSS: 0.0180 VAL-ACC: 0.9925 \n"
          ]
        },
        {
          "output_type": "stream",
          "name": "stderr",
          "text": [
            "\r 66%|██████▌   | 33/50 [01:46<00:54,  3.18s/it]"
          ]
        },
        {
          "output_type": "stream",
          "name": "stdout",
          "text": [
            "EPOCH: 33/50 LOSS: 0.0820 ACC: 0.9729  VAL-LOSS: 0.0171 VAL-ACC: 0.9945 \n"
          ]
        },
        {
          "output_type": "stream",
          "name": "stderr",
          "text": [
            "\r 68%|██████▊   | 34/50 [01:50<00:51,  3.25s/it]"
          ]
        },
        {
          "output_type": "stream",
          "name": "stdout",
          "text": [
            "EPOCH: 34/50 LOSS: 0.0776 ACC: 0.9760  VAL-LOSS: 0.0137 VAL-ACC: 0.9965 \n"
          ]
        },
        {
          "output_type": "stream",
          "name": "stderr",
          "text": [
            "\r 70%|███████   | 35/50 [01:53<00:49,  3.30s/it]"
          ]
        },
        {
          "output_type": "stream",
          "name": "stdout",
          "text": [
            "EPOCH: 35/50 LOSS: 0.0829 ACC: 0.9745  VAL-LOSS: 0.0129 VAL-ACC: 0.9980 \n"
          ]
        },
        {
          "output_type": "stream",
          "name": "stderr",
          "text": [
            "\r 72%|███████▏  | 36/50 [01:56<00:45,  3.23s/it]"
          ]
        },
        {
          "output_type": "stream",
          "name": "stdout",
          "text": [
            "EPOCH: 36/50 LOSS: 0.0789 ACC: 0.9743  VAL-LOSS: 0.0147 VAL-ACC: 0.9960 \n"
          ]
        },
        {
          "output_type": "stream",
          "name": "stderr",
          "text": [
            "\r 74%|███████▍  | 37/50 [01:59<00:41,  3.18s/it]"
          ]
        },
        {
          "output_type": "stream",
          "name": "stdout",
          "text": [
            "EPOCH: 37/50 LOSS: 0.0769 ACC: 0.9773  VAL-LOSS: 0.0198 VAL-ACC: 0.9955 \n"
          ]
        },
        {
          "output_type": "stream",
          "name": "stderr",
          "text": [
            "\r 76%|███████▌  | 38/50 [02:02<00:38,  3.22s/it]"
          ]
        },
        {
          "output_type": "stream",
          "name": "stdout",
          "text": [
            "EPOCH: 38/50 LOSS: 0.0685 ACC: 0.9772  VAL-LOSS: 0.0132 VAL-ACC: 0.9960 \n"
          ]
        },
        {
          "output_type": "stream",
          "name": "stderr",
          "text": [
            "\r 78%|███████▊  | 39/50 [02:06<00:36,  3.32s/it]"
          ]
        },
        {
          "output_type": "stream",
          "name": "stdout",
          "text": [
            "EPOCH: 39/50 LOSS: 0.0563 ACC: 0.9813  VAL-LOSS: 0.0159 VAL-ACC: 0.9960 \n"
          ]
        },
        {
          "output_type": "stream",
          "name": "stderr",
          "text": [
            "\r 80%|████████  | 40/50 [02:09<00:32,  3.24s/it]"
          ]
        },
        {
          "output_type": "stream",
          "name": "stdout",
          "text": [
            "EPOCH: 40/50 LOSS: 0.0662 ACC: 0.9759  VAL-LOSS: 0.0142 VAL-ACC: 0.9960 \n"
          ]
        },
        {
          "output_type": "stream",
          "name": "stderr",
          "text": [
            "\r 82%|████████▏ | 41/50 [02:12<00:28,  3.19s/it]"
          ]
        },
        {
          "output_type": "stream",
          "name": "stdout",
          "text": [
            "EPOCH: 41/50 LOSS: 0.0780 ACC: 0.9764  VAL-LOSS: 0.0139 VAL-ACC: 0.9945 \n"
          ]
        },
        {
          "output_type": "stream",
          "name": "stderr",
          "text": [
            "\r 84%|████████▍ | 42/50 [02:15<00:25,  3.20s/it]"
          ]
        },
        {
          "output_type": "stream",
          "name": "stdout",
          "text": [
            "EPOCH: 42/50 LOSS: 0.0602 ACC: 0.9808  VAL-LOSS: 0.0133 VAL-ACC: 0.9950 \n"
          ]
        },
        {
          "output_type": "stream",
          "name": "stderr",
          "text": [
            "\r 86%|████████▌ | 43/50 [02:19<00:23,  3.32s/it]"
          ]
        },
        {
          "output_type": "stream",
          "name": "stdout",
          "text": [
            "EPOCH: 43/50 LOSS: 0.0753 ACC: 0.9768  VAL-LOSS: 0.0145 VAL-ACC: 0.9965 \n"
          ]
        },
        {
          "output_type": "stream",
          "name": "stderr",
          "text": [
            "\r 88%|████████▊ | 44/50 [02:22<00:19,  3.24s/it]"
          ]
        },
        {
          "output_type": "stream",
          "name": "stdout",
          "text": [
            "EPOCH: 44/50 LOSS: 0.0696 ACC: 0.9773  VAL-LOSS: 0.3049 VAL-ACC: 0.9935 \n"
          ]
        },
        {
          "output_type": "stream",
          "name": "stderr",
          "text": [
            "\r 90%|█████████ | 45/50 [02:25<00:15,  3.18s/it]"
          ]
        },
        {
          "output_type": "stream",
          "name": "stdout",
          "text": [
            "EPOCH: 45/50 LOSS: 0.0586 ACC: 0.9813  VAL-LOSS: 0.0112 VAL-ACC: 0.9965 \n"
          ]
        },
        {
          "output_type": "stream",
          "name": "stderr",
          "text": [
            "\r 92%|█████████▏| 46/50 [02:28<00:12,  3.16s/it]"
          ]
        },
        {
          "output_type": "stream",
          "name": "stdout",
          "text": [
            "EPOCH: 46/50 LOSS: 0.0963 ACC: 0.9736  VAL-LOSS: 0.0651 VAL-ACC: 0.9940 \n"
          ]
        },
        {
          "output_type": "stream",
          "name": "stderr",
          "text": [
            "\r 94%|█████████▍| 47/50 [02:32<00:10,  3.35s/it]"
          ]
        },
        {
          "output_type": "stream",
          "name": "stdout",
          "text": [
            "EPOCH: 47/50 LOSS: 0.0768 ACC: 0.9767  VAL-LOSS: 0.0108 VAL-ACC: 0.9975 \n"
          ]
        },
        {
          "output_type": "stream",
          "name": "stderr",
          "text": [
            "\r 96%|█████████▌| 48/50 [02:35<00:06,  3.28s/it]"
          ]
        },
        {
          "output_type": "stream",
          "name": "stdout",
          "text": [
            "EPOCH: 48/50 LOSS: 0.0581 ACC: 0.9796  VAL-LOSS: 0.0071 VAL-ACC: 0.9995 \n"
          ]
        },
        {
          "output_type": "stream",
          "name": "stderr",
          "text": [
            "\r 98%|█████████▊| 49/50 [02:38<00:03,  3.22s/it]"
          ]
        },
        {
          "output_type": "stream",
          "name": "stdout",
          "text": [
            "EPOCH: 49/50 LOSS: 0.0625 ACC: 0.9797  VAL-LOSS: 0.0094 VAL-ACC: 0.9965 \n"
          ]
        },
        {
          "output_type": "stream",
          "name": "stderr",
          "text": [
            "100%|██████████| 50/50 [02:41<00:00,  3.24s/it]"
          ]
        },
        {
          "output_type": "stream",
          "name": "stdout",
          "text": [
            "EPOCH: 50/50 LOSS: 0.0553 ACC: 0.9825  VAL-LOSS: 0.0202 VAL-ACC: 0.9945 \n"
          ]
        },
        {
          "output_type": "stream",
          "name": "stderr",
          "text": [
            "\n"
          ]
        },
        {
          "output_type": "stream",
          "name": "stdout",
          "text": [
            "Accuracy on train data 0.9961333333333334\n",
            "Accuracy on validation data 0.9945\n",
            "Accuracy on test data 0.996\n"
          ]
        },
        {
          "output_type": "display_data",
          "data": {
            "text/plain": [
              "<Figure size 1200x300 with 2 Axes>"
            ],
            "image/png": "[encoded data removed]"
          },
          "metadata": {}
        }
      ]
    },
    {
      "cell_type": "code",
      "source": [
        "torch.manual_seed(8)\n",
        "torch.cuda.manual_seed(8)\n",
        "torch.backends.cudnn.deterministic=True\n",
        "\n",
        "# Initialize parameters\n",
        "epochs = 50\n",
        "lr = 0.01\n",
        "bs = 16\n",
        "\n",
        "# Create data loaders\n",
        "train_dl, valid_dl = get_data(train_dataset, val_dataset, bs)\n",
        "train_dl = WrappedDataLoader(train_dl, preprocess)\n",
        "valid_dl = WrappedDataLoader(valid_dl, preprocess)\n",
        "\n",
        "# Initialize model and use gpu if possible\n",
        "model = symmetry_model_2()\n",
        "model.to(dev)\n",
        "\n",
        "opt = optim.Adam(model.parameters(), lr=lr)\n",
        "loss_func = F.cross_entropy\n",
        "\n",
        "# Fit the model\n",
        "outp = fit(epochs, model, loss_func, opt, train_dl, valid_dl)\n",
        "\n",
        "# Plot the output\n",
        "plot_training(outp, epochs)\n",
        "\n",
        "# Evaluate the performance \n",
        "train_dl = DataLoader(train_dataset, 1, shuffle=False)\n",
        "val_dl = DataLoader(val_dataset, 1, shuffle=False)\n",
        "test_dl = DataLoader(test_dataset, 1, shuffle=False)\n",
        "\n",
        "train_dl = WrappedDataLoader(train_dl, preprocess)\n",
        "val_dl = WrappedDataLoader(val_dl, preprocess)\n",
        "test_dl = WrappedDataLoader(test_dl, preprocess)\n",
        "\n",
        "print(\"Accuracy on train data\", evaluate_model(model, train_dl).item())\n",
        "print(\"Accuracy on validation data\", evaluate_model(model, val_dl).item())\n",
        "print(\"Accuracy on test data\", evaluate_model(model, test_dl).item())"
      ],
      "metadata": {
        "colab": {
          "base_uri": "https://localhost:8080/",
          "height": 1000
        },
        "id": "qzfSTW21rgWa",
        "outputId": "add2660c-ba0d-4e92-bd8f-ac3fcce8b81f"
      },
      "id": "qzfSTW21rgWa",
      "execution_count": 16,
      "outputs": [
        {
          "output_type": "stream",
          "name": "stderr",
          "text": [
            "  2%|▏         | 1/50 [00:02<02:21,  2.88s/it]"
          ]
        },
        {
          "output_type": "stream",
          "name": "stdout",
          "text": [
            "EPOCH: 01/50 LOSS: 14.6998 ACC: 0.3525  VAL-LOSS: 1.0614 VAL-ACC: 0.4250 \n"
          ]
        },
        {
          "output_type": "stream",
          "name": "stderr",
          "text": [
            "\r  4%|▍         | 2/50 [00:05<02:17,  2.86s/it]"
          ]
        },
        {
          "output_type": "stream",
          "name": "stdout",
          "text": [
            "EPOCH: 02/50 LOSS: 0.8031 ACC: 0.6273  VAL-LOSS: 0.4525 VAL-ACC: 0.8015 \n"
          ]
        },
        {
          "output_type": "stream",
          "name": "stderr",
          "text": [
            "\r  6%|▌         | 3/50 [00:09<02:24,  3.08s/it]"
          ]
        },
        {
          "output_type": "stream",
          "name": "stdout",
          "text": [
            "EPOCH: 03/50 LOSS: 0.2608 ACC: 0.8981  VAL-LOSS: 0.3103 VAL-ACC: 0.8830 \n"
          ]
        },
        {
          "output_type": "stream",
          "name": "stderr",
          "text": [
            "\r  8%|▊         | 4/50 [00:12<02:22,  3.10s/it]"
          ]
        },
        {
          "output_type": "stream",
          "name": "stdout",
          "text": [
            "EPOCH: 04/50 LOSS: 0.1384 ACC: 0.9501  VAL-LOSS: 0.1977 VAL-ACC: 0.9240 \n"
          ]
        },
        {
          "output_type": "stream",
          "name": "stderr",
          "text": [
            "\r 10%|█         | 5/50 [00:15<02:15,  3.01s/it]"
          ]
        },
        {
          "output_type": "stream",
          "name": "stdout",
          "text": [
            "EPOCH: 05/50 LOSS: 0.1038 ACC: 0.9651  VAL-LOSS: 0.2776 VAL-ACC: 0.9040 \n"
          ]
        },
        {
          "output_type": "stream",
          "name": "stderr",
          "text": [
            "\r 12%|█▏        | 6/50 [00:17<02:09,  2.95s/it]"
          ]
        },
        {
          "output_type": "stream",
          "name": "stdout",
          "text": [
            "EPOCH: 06/50 LOSS: 0.0783 ACC: 0.9731  VAL-LOSS: 0.2900 VAL-ACC: 0.9100 \n"
          ]
        },
        {
          "output_type": "stream",
          "name": "stderr",
          "text": [
            "\r 14%|█▍        | 7/50 [00:20<02:06,  2.95s/it]"
          ]
        },
        {
          "output_type": "stream",
          "name": "stdout",
          "text": [
            "EPOCH: 07/50 LOSS: 0.1164 ACC: 0.9625  VAL-LOSS: 0.1054 VAL-ACC: 0.9630 \n"
          ]
        },
        {
          "output_type": "stream",
          "name": "stderr",
          "text": [
            "\r 16%|█▌        | 8/50 [00:24<02:09,  3.09s/it]"
          ]
        },
        {
          "output_type": "stream",
          "name": "stdout",
          "text": [
            "EPOCH: 08/50 LOSS: 0.0895 ACC: 0.9695  VAL-LOSS: 0.0904 VAL-ACC: 0.9685 \n"
          ]
        },
        {
          "output_type": "stream",
          "name": "stderr",
          "text": [
            "\r 18%|█▊        | 9/50 [00:27<02:03,  3.01s/it]"
          ]
        },
        {
          "output_type": "stream",
          "name": "stdout",
          "text": [
            "EPOCH: 09/50 LOSS: 0.0623 ACC: 0.9777  VAL-LOSS: 0.1491 VAL-ACC: 0.9560 \n"
          ]
        },
        {
          "output_type": "stream",
          "name": "stderr",
          "text": [
            "\r 20%|██        | 10/50 [00:29<01:57,  2.95s/it]"
          ]
        },
        {
          "output_type": "stream",
          "name": "stdout",
          "text": [
            "EPOCH: 10/50 LOSS: 0.1222 ACC: 0.9641  VAL-LOSS: 0.2868 VAL-ACC: 0.9355 \n"
          ]
        },
        {
          "output_type": "stream",
          "name": "stderr",
          "text": [
            "\r 22%|██▏       | 11/50 [00:32<01:53,  2.92s/it]"
          ]
        },
        {
          "output_type": "stream",
          "name": "stdout",
          "text": [
            "EPOCH: 11/50 LOSS: 0.1575 ACC: 0.9555  VAL-LOSS: 0.0959 VAL-ACC: 0.9705 \n"
          ]
        },
        {
          "output_type": "stream",
          "name": "stderr",
          "text": [
            "\r 24%|██▍       | 12/50 [00:36<01:56,  3.06s/it]"
          ]
        },
        {
          "output_type": "stream",
          "name": "stdout",
          "text": [
            "EPOCH: 12/50 LOSS: 0.1609 ACC: 0.9495  VAL-LOSS: 0.1148 VAL-ACC: 0.9590 \n"
          ]
        },
        {
          "output_type": "stream",
          "name": "stderr",
          "text": [
            "\r 26%|██▌       | 13/50 [00:40<02:10,  3.52s/it]"
          ]
        },
        {
          "output_type": "stream",
          "name": "stdout",
          "text": [
            "EPOCH: 13/50 LOSS: 0.2491 ACC: 0.9159  VAL-LOSS: 0.2239 VAL-ACC: 0.9075 \n"
          ]
        },
        {
          "output_type": "stream",
          "name": "stderr",
          "text": [
            "\r 28%|██▊       | 14/50 [00:44<02:09,  3.58s/it]"
          ]
        },
        {
          "output_type": "stream",
          "name": "stdout",
          "text": [
            "EPOCH: 14/50 LOSS: 0.1535 ACC: 0.9429  VAL-LOSS: 0.1634 VAL-ACC: 0.9550 \n"
          ]
        },
        {
          "output_type": "stream",
          "name": "stderr",
          "text": [
            "\r 30%|███       | 15/50 [00:47<01:58,  3.38s/it]"
          ]
        },
        {
          "output_type": "stream",
          "name": "stdout",
          "text": [
            "EPOCH: 15/50 LOSS: 0.1313 ACC: 0.9608  VAL-LOSS: 0.2375 VAL-ACC: 0.9330 \n"
          ]
        },
        {
          "output_type": "stream",
          "name": "stderr",
          "text": [
            "\r 32%|███▏      | 16/50 [00:50<01:56,  3.43s/it]"
          ]
        },
        {
          "output_type": "stream",
          "name": "stdout",
          "text": [
            "EPOCH: 16/50 LOSS: 0.2113 ACC: 0.9383  VAL-LOSS: 0.2717 VAL-ACC: 0.9200 \n"
          ]
        },
        {
          "output_type": "stream",
          "name": "stderr",
          "text": [
            "\r 34%|███▍      | 17/50 [00:53<01:47,  3.27s/it]"
          ]
        },
        {
          "output_type": "stream",
          "name": "stdout",
          "text": [
            "EPOCH: 17/50 LOSS: 0.1740 ACC: 0.9503  VAL-LOSS: 0.1139 VAL-ACC: 0.9645 \n"
          ]
        },
        {
          "output_type": "stream",
          "name": "stderr",
          "text": [
            "\r 36%|███▌      | 18/50 [00:56<01:41,  3.17s/it]"
          ]
        },
        {
          "output_type": "stream",
          "name": "stdout",
          "text": [
            "EPOCH: 18/50 LOSS: 0.1360 ACC: 0.9529  VAL-LOSS: 0.4935 VAL-ACC: 0.9575 \n"
          ]
        },
        {
          "output_type": "stream",
          "name": "stderr",
          "text": [
            "\r 38%|███▊      | 19/50 [01:03<02:07,  4.13s/it]"
          ]
        },
        {
          "output_type": "stream",
          "name": "stdout",
          "text": [
            "EPOCH: 19/50 LOSS: 0.1472 ACC: 0.9517  VAL-LOSS: 0.0905 VAL-ACC: 0.9580 \n"
          ]
        },
        {
          "output_type": "stream",
          "name": "stderr",
          "text": [
            "\r 40%|████      | 20/50 [01:06<02:02,  4.07s/it]"
          ]
        },
        {
          "output_type": "stream",
          "name": "stdout",
          "text": [
            "EPOCH: 20/50 LOSS: 0.2079 ACC: 0.9337  VAL-LOSS: 0.7459 VAL-ACC: 0.8685 \n"
          ]
        },
        {
          "output_type": "stream",
          "name": "stderr",
          "text": [
            "\r 42%|████▏     | 21/50 [01:10<01:57,  4.04s/it]"
          ]
        },
        {
          "output_type": "stream",
          "name": "stdout",
          "text": [
            "EPOCH: 21/50 LOSS: 0.2877 ACC: 0.8964  VAL-LOSS: 0.1429 VAL-ACC: 0.9375 \n"
          ]
        },
        {
          "output_type": "stream",
          "name": "stderr",
          "text": [
            "\r 44%|████▍     | 22/50 [01:13<01:42,  3.66s/it]"
          ]
        },
        {
          "output_type": "stream",
          "name": "stdout",
          "text": [
            "EPOCH: 22/50 LOSS: 0.1569 ACC: 0.9427  VAL-LOSS: 0.1191 VAL-ACC: 0.9620 \n"
          ]
        },
        {
          "output_type": "stream",
          "name": "stderr",
          "text": [
            "\r 46%|████▌     | 23/50 [01:17<01:36,  3.59s/it]"
          ]
        },
        {
          "output_type": "stream",
          "name": "stdout",
          "text": [
            "EPOCH: 23/50 LOSS: 0.1566 ACC: 0.9529  VAL-LOSS: 0.0784 VAL-ACC: 0.9630 \n"
          ]
        },
        {
          "output_type": "stream",
          "name": "stderr",
          "text": [
            "\r 48%|████▊     | 24/50 [01:20<01:34,  3.62s/it]"
          ]
        },
        {
          "output_type": "stream",
          "name": "stdout",
          "text": [
            "EPOCH: 24/50 LOSS: 0.1132 ACC: 0.9547  VAL-LOSS: 0.3469 VAL-ACC: 0.8680 \n"
          ]
        },
        {
          "output_type": "stream",
          "name": "stderr",
          "text": [
            "\r 50%|█████     | 25/50 [01:25<01:35,  3.82s/it]"
          ]
        },
        {
          "output_type": "stream",
          "name": "stdout",
          "text": [
            "EPOCH: 25/50 LOSS: 0.2763 ACC: 0.8893  VAL-LOSS: 0.2230 VAL-ACC: 0.8690 \n"
          ]
        },
        {
          "output_type": "stream",
          "name": "stderr",
          "text": [
            "\r 52%|█████▏    | 26/50 [01:28<01:26,  3.62s/it]"
          ]
        },
        {
          "output_type": "stream",
          "name": "stdout",
          "text": [
            "EPOCH: 26/50 LOSS: 0.2075 ACC: 0.9260  VAL-LOSS: 0.3373 VAL-ACC: 0.8805 \n"
          ]
        },
        {
          "output_type": "stream",
          "name": "stderr",
          "text": [
            "\r 54%|█████▍    | 27/50 [01:31<01:22,  3.57s/it]"
          ]
        },
        {
          "output_type": "stream",
          "name": "stdout",
          "text": [
            "EPOCH: 27/50 LOSS: 0.2285 ACC: 0.9077  VAL-LOSS: 0.1086 VAL-ACC: 0.9315 \n"
          ]
        },
        {
          "output_type": "stream",
          "name": "stderr",
          "text": [
            "\r 56%|█████▌    | 28/50 [01:34<01:13,  3.35s/it]"
          ]
        },
        {
          "output_type": "stream",
          "name": "stdout",
          "text": [
            "EPOCH: 28/50 LOSS: 0.0994 ACC: 0.9568  VAL-LOSS: 0.1262 VAL-ACC: 0.9340 \n"
          ]
        },
        {
          "output_type": "stream",
          "name": "stderr",
          "text": [
            "\r 58%|█████▊    | 29/50 [01:38<01:11,  3.41s/it]"
          ]
        },
        {
          "output_type": "stream",
          "name": "stdout",
          "text": [
            "EPOCH: 29/50 LOSS: 0.1055 ACC: 0.9633  VAL-LOSS: 0.0803 VAL-ACC: 0.9855 \n"
          ]
        },
        {
          "output_type": "stream",
          "name": "stderr",
          "text": [
            "\r 60%|██████    | 30/50 [01:40<01:04,  3.23s/it]"
          ]
        },
        {
          "output_type": "stream",
          "name": "stdout",
          "text": [
            "EPOCH: 30/50 LOSS: 0.0835 ACC: 0.9741  VAL-LOSS: 0.1144 VAL-ACC: 0.9710 \n"
          ]
        },
        {
          "output_type": "stream",
          "name": "stderr",
          "text": [
            "\r 62%|██████▏   | 31/50 [01:44<01:02,  3.31s/it]"
          ]
        },
        {
          "output_type": "stream",
          "name": "stdout",
          "text": [
            "EPOCH: 31/50 LOSS: 0.1358 ACC: 0.9540  VAL-LOSS: 0.1066 VAL-ACC: 0.9585 \n"
          ]
        },
        {
          "output_type": "stream",
          "name": "stderr",
          "text": [
            "\r 64%|██████▍   | 32/50 [01:48<01:01,  3.43s/it]"
          ]
        },
        {
          "output_type": "stream",
          "name": "stdout",
          "text": [
            "EPOCH: 32/50 LOSS: 0.0855 ACC: 0.9604  VAL-LOSS: 0.0500 VAL-ACC: 0.9750 \n"
          ]
        },
        {
          "output_type": "stream",
          "name": "stderr",
          "text": [
            "\r 66%|██████▌   | 33/50 [01:51<00:59,  3.49s/it]"
          ]
        },
        {
          "output_type": "stream",
          "name": "stdout",
          "text": [
            "EPOCH: 33/50 LOSS: 0.0634 ACC: 0.9771  VAL-LOSS: 0.0639 VAL-ACC: 0.9715 \n"
          ]
        },
        {
          "output_type": "stream",
          "name": "stderr",
          "text": [
            "\r 68%|██████▊   | 34/50 [01:54<00:52,  3.29s/it]"
          ]
        },
        {
          "output_type": "stream",
          "name": "stdout",
          "text": [
            "EPOCH: 34/50 LOSS: 0.0942 ACC: 0.9777  VAL-LOSS: 0.0696 VAL-ACC: 0.9745 \n"
          ]
        },
        {
          "output_type": "stream",
          "name": "stderr",
          "text": [
            "\r 70%|███████   | 35/50 [01:58<00:50,  3.38s/it]"
          ]
        },
        {
          "output_type": "stream",
          "name": "stdout",
          "text": [
            "EPOCH: 35/50 LOSS: 0.1254 ACC: 0.9685  VAL-LOSS: 0.2576 VAL-ACC: 0.9490 \n"
          ]
        },
        {
          "output_type": "stream",
          "name": "stderr",
          "text": [
            "\r 72%|███████▏  | 36/50 [02:01<00:45,  3.22s/it]"
          ]
        },
        {
          "output_type": "stream",
          "name": "stdout",
          "text": [
            "EPOCH: 36/50 LOSS: 0.0806 ACC: 0.9684  VAL-LOSS: 0.0893 VAL-ACC: 0.9740 \n"
          ]
        },
        {
          "output_type": "stream",
          "name": "stderr",
          "text": [
            "\r 74%|███████▍  | 37/50 [02:03<00:40,  3.11s/it]"
          ]
        },
        {
          "output_type": "stream",
          "name": "stdout",
          "text": [
            "EPOCH: 37/50 LOSS: 0.0861 ACC: 0.9743  VAL-LOSS: 0.0440 VAL-ACC: 0.9820 \n"
          ]
        },
        {
          "output_type": "stream",
          "name": "stderr",
          "text": [
            "\r 76%|███████▌  | 38/50 [02:06<00:36,  3.04s/it]"
          ]
        },
        {
          "output_type": "stream",
          "name": "stdout",
          "text": [
            "EPOCH: 38/50 LOSS: 0.1151 ACC: 0.9787  VAL-LOSS: 0.0807 VAL-ACC: 0.9680 \n"
          ]
        },
        {
          "output_type": "stream",
          "name": "stderr",
          "text": [
            "\r 78%|███████▊  | 39/50 [02:10<00:34,  3.11s/it]"
          ]
        },
        {
          "output_type": "stream",
          "name": "stdout",
          "text": [
            "EPOCH: 39/50 LOSS: 0.1135 ACC: 0.9651  VAL-LOSS: 0.2500 VAL-ACC: 0.9640 \n"
          ]
        },
        {
          "output_type": "stream",
          "name": "stderr",
          "text": [
            "\r 80%|████████  | 40/50 [02:13<00:31,  3.12s/it]"
          ]
        },
        {
          "output_type": "stream",
          "name": "stdout",
          "text": [
            "EPOCH: 40/50 LOSS: 0.1063 ACC: 0.9760  VAL-LOSS: 0.0716 VAL-ACC: 0.9780 \n"
          ]
        },
        {
          "output_type": "stream",
          "name": "stderr",
          "text": [
            "\r 82%|████████▏ | 41/50 [02:16<00:27,  3.04s/it]"
          ]
        },
        {
          "output_type": "stream",
          "name": "stdout",
          "text": [
            "EPOCH: 41/50 LOSS: 0.0458 ACC: 0.9820  VAL-LOSS: 0.2289 VAL-ACC: 0.9800 \n"
          ]
        },
        {
          "output_type": "stream",
          "name": "stderr",
          "text": [
            "\r 84%|████████▍ | 42/50 [02:18<00:23,  2.98s/it]"
          ]
        },
        {
          "output_type": "stream",
          "name": "stdout",
          "text": [
            "EPOCH: 42/50 LOSS: 0.0698 ACC: 0.9807  VAL-LOSS: 0.0694 VAL-ACC: 0.9735 \n"
          ]
        },
        {
          "output_type": "stream",
          "name": "stderr",
          "text": [
            "\r 86%|████████▌ | 43/50 [02:21<00:20,  2.97s/it]"
          ]
        },
        {
          "output_type": "stream",
          "name": "stdout",
          "text": [
            "EPOCH: 43/50 LOSS: 0.0565 ACC: 0.9800  VAL-LOSS: 0.0608 VAL-ACC: 0.9865 \n"
          ]
        },
        {
          "output_type": "stream",
          "name": "stderr",
          "text": [
            "\r 88%|████████▊ | 44/50 [02:25<00:18,  3.11s/it]"
          ]
        },
        {
          "output_type": "stream",
          "name": "stdout",
          "text": [
            "EPOCH: 44/50 LOSS: 0.1004 ACC: 0.9776  VAL-LOSS: 0.0517 VAL-ACC: 0.9760 \n"
          ]
        },
        {
          "output_type": "stream",
          "name": "stderr",
          "text": [
            "\r 90%|█████████ | 45/50 [02:28<00:15,  3.04s/it]"
          ]
        },
        {
          "output_type": "stream",
          "name": "stdout",
          "text": [
            "EPOCH: 45/50 LOSS: 0.0669 ACC: 0.9791  VAL-LOSS: 0.0441 VAL-ACC: 0.9780 \n"
          ]
        },
        {
          "output_type": "stream",
          "name": "stderr",
          "text": [
            "\r 92%|█████████▏| 46/50 [02:30<00:11,  2.98s/it]"
          ]
        },
        {
          "output_type": "stream",
          "name": "stdout",
          "text": [
            "EPOCH: 46/50 LOSS: 0.1132 ACC: 0.9661  VAL-LOSS: 0.0536 VAL-ACC: 0.9775 \n"
          ]
        },
        {
          "output_type": "stream",
          "name": "stderr",
          "text": [
            "\r 94%|█████████▍| 47/50 [02:33<00:08,  2.95s/it]"
          ]
        },
        {
          "output_type": "stream",
          "name": "stdout",
          "text": [
            "EPOCH: 47/50 LOSS: 0.0799 ACC: 0.9681  VAL-LOSS: 0.0650 VAL-ACC: 0.9695 \n"
          ]
        },
        {
          "output_type": "stream",
          "name": "stderr",
          "text": [
            "\r 96%|█████████▌| 48/50 [02:37<00:06,  3.08s/it]"
          ]
        },
        {
          "output_type": "stream",
          "name": "stdout",
          "text": [
            "EPOCH: 48/50 LOSS: 0.0566 ACC: 0.9784  VAL-LOSS: 0.0565 VAL-ACC: 0.9790 \n"
          ]
        },
        {
          "output_type": "stream",
          "name": "stderr",
          "text": [
            "\r 98%|█████████▊| 49/50 [02:40<00:03,  3.06s/it]"
          ]
        },
        {
          "output_type": "stream",
          "name": "stdout",
          "text": [
            "EPOCH: 49/50 LOSS: 0.0400 ACC: 0.9847  VAL-LOSS: 0.1875 VAL-ACC: 0.9745 \n"
          ]
        },
        {
          "output_type": "stream",
          "name": "stderr",
          "text": [
            "100%|██████████| 50/50 [02:43<00:00,  3.26s/it]"
          ]
        },
        {
          "output_type": "stream",
          "name": "stdout",
          "text": [
            "EPOCH: 50/50 LOSS: 0.0950 ACC: 0.9707  VAL-LOSS: 0.0517 VAL-ACC: 0.9720 \n"
          ]
        },
        {
          "output_type": "stream",
          "name": "stderr",
          "text": [
            "\n"
          ]
        },
        {
          "output_type": "stream",
          "name": "stdout",
          "text": [
            "Accuracy on train data 0.9762666666666667\n",
            "Accuracy on validation data 0.972\n",
            "Accuracy on test data 0.966\n"
          ]
        },
        {
          "output_type": "display_data",
          "data": {
            "text/plain": [
              "<Figure size 1200x300 with 2 Axes>"
            ],
            "image/png": "[encoded data removed]"
          },
          "metadata": {}
        }
      ]
    },
    {
      "cell_type": "code",
      "source": [
        "torch.manual_seed(8)\n",
        "torch.cuda.manual_seed(8)\n",
        "torch.backends.cudnn.deterministic=True\n",
        "\n",
        "# Initialize parameters\n",
        "epochs = 50\n",
        "lr = 0.01\n",
        "bs = 16\n",
        "\n",
        "# Create data loaders\n",
        "train_dl, valid_dl = get_data(train_dataset, val_dataset, bs)\n",
        "train_dl = WrappedDataLoader(train_dl, preprocess)\n",
        "valid_dl = WrappedDataLoader(valid_dl, preprocess)\n",
        "\n",
        "# Initialize model and use gpu if possible\n",
        "model = symmetry_model_3()\n",
        "model.to(dev)\n",
        "\n",
        "opt = optim.Adam(model.parameters(), lr=lr)\n",
        "loss_func = F.cross_entropy\n",
        "\n",
        "# Fit the model\n",
        "outp = fit(epochs, model, loss_func, opt, train_dl, valid_dl)\n",
        "\n",
        "# Plot the output\n",
        "plot_training(outp, epochs)\n",
        "\n",
        "# Evaluate the performance \n",
        "train_dl = DataLoader(train_dataset, 1, shuffle=False)\n",
        "val_dl = DataLoader(val_dataset, 1, shuffle=False)\n",
        "test_dl = DataLoader(test_dataset, 1, shuffle=False)\n",
        "\n",
        "train_dl = WrappedDataLoader(train_dl, preprocess)\n",
        "val_dl = WrappedDataLoader(val_dl, preprocess)\n",
        "test_dl = WrappedDataLoader(test_dl, preprocess)\n",
        "\n",
        "print(\"Accuracy on train data\", evaluate_model(model, train_dl).item())\n",
        "print(\"Accuracy on validation data\", evaluate_model(model, val_dl).item())\n",
        "print(\"Accuracy on test data\", evaluate_model(model, test_dl).item())"
      ],
      "metadata": {
        "colab": {
          "base_uri": "https://localhost:8080/",
          "height": 1000
        },
        "id": "Fr42CVNgrhqq",
        "outputId": "f4ce21a5-d866-4447-cc23-35910d267f7f"
      },
      "id": "Fr42CVNgrhqq",
      "execution_count": 17,
      "outputs": [
        {
          "output_type": "stream",
          "name": "stderr",
          "text": [
            "  2%|▏         | 1/50 [00:03<02:56,  3.60s/it]"
          ]
        },
        {
          "output_type": "stream",
          "name": "stdout",
          "text": [
            "EPOCH: 01/50 LOSS: 0.9594 ACC: 0.6787  VAL-LOSS: 0.1581 VAL-ACC: 0.9465 \n"
          ]
        },
        {
          "output_type": "stream",
          "name": "stderr",
          "text": [
            "\r  4%|▍         | 2/50 [00:06<02:31,  3.15s/it]"
          ]
        },
        {
          "output_type": "stream",
          "name": "stdout",
          "text": [
            "EPOCH: 02/50 LOSS: 0.2560 ACC: 0.9077  VAL-LOSS: 0.0557 VAL-ACC: 0.9880 \n"
          ]
        },
        {
          "output_type": "stream",
          "name": "stderr",
          "text": [
            "\r  6%|▌         | 3/50 [00:09<02:21,  3.01s/it]"
          ]
        },
        {
          "output_type": "stream",
          "name": "stdout",
          "text": [
            "EPOCH: 03/50 LOSS: 0.1845 ACC: 0.9323  VAL-LOSS: 0.0429 VAL-ACC: 0.9870 \n"
          ]
        },
        {
          "output_type": "stream",
          "name": "stderr",
          "text": [
            "\r  8%|▊         | 4/50 [00:12<02:20,  3.05s/it]"
          ]
        },
        {
          "output_type": "stream",
          "name": "stdout",
          "text": [
            "EPOCH: 04/50 LOSS: 0.1713 ACC: 0.9383  VAL-LOSS: 0.0520 VAL-ACC: 0.9835 \n"
          ]
        },
        {
          "output_type": "stream",
          "name": "stderr",
          "text": [
            "\r 10%|█         | 5/50 [00:15<02:21,  3.14s/it]"
          ]
        },
        {
          "output_type": "stream",
          "name": "stdout",
          "text": [
            "EPOCH: 05/50 LOSS: 0.1539 ACC: 0.9441  VAL-LOSS: 0.0253 VAL-ACC: 0.9950 \n"
          ]
        },
        {
          "output_type": "stream",
          "name": "stderr",
          "text": [
            "\r 12%|█▏        | 6/50 [00:18<02:17,  3.13s/it]"
          ]
        },
        {
          "output_type": "stream",
          "name": "stdout",
          "text": [
            "EPOCH: 06/50 LOSS: 0.1214 ACC: 0.9539  VAL-LOSS: 0.0348 VAL-ACC: 0.9900 \n"
          ]
        },
        {
          "output_type": "stream",
          "name": "stderr",
          "text": [
            "\r 14%|█▍        | 7/50 [00:21<02:10,  3.04s/it]"
          ]
        },
        {
          "output_type": "stream",
          "name": "stdout",
          "text": [
            "EPOCH: 07/50 LOSS: 0.1376 ACC: 0.9509  VAL-LOSS: 0.0291 VAL-ACC: 0.9935 \n"
          ]
        },
        {
          "output_type": "stream",
          "name": "stderr",
          "text": [
            "\r 16%|█▌        | 8/50 [00:24<02:04,  2.96s/it]"
          ]
        },
        {
          "output_type": "stream",
          "name": "stdout",
          "text": [
            "EPOCH: 08/50 LOSS: 0.1340 ACC: 0.9521  VAL-LOSS: 0.0207 VAL-ACC: 0.9950 \n"
          ]
        },
        {
          "output_type": "stream",
          "name": "stderr",
          "text": [
            "\r 18%|█▊        | 9/50 [00:27<02:02,  2.98s/it]"
          ]
        },
        {
          "output_type": "stream",
          "name": "stdout",
          "text": [
            "EPOCH: 09/50 LOSS: 0.1215 ACC: 0.9565  VAL-LOSS: 0.0357 VAL-ACC: 0.9895 \n"
          ]
        },
        {
          "output_type": "stream",
          "name": "stderr",
          "text": [
            "\r 20%|██        | 10/50 [00:30<02:05,  3.14s/it]"
          ]
        },
        {
          "output_type": "stream",
          "name": "stdout",
          "text": [
            "EPOCH: 10/50 LOSS: 0.1195 ACC: 0.9563  VAL-LOSS: 0.0226 VAL-ACC: 0.9930 \n"
          ]
        },
        {
          "output_type": "stream",
          "name": "stderr",
          "text": [
            "\r 22%|██▏       | 11/50 [00:33<01:59,  3.06s/it]"
          ]
        },
        {
          "output_type": "stream",
          "name": "stdout",
          "text": [
            "EPOCH: 11/50 LOSS: 0.1274 ACC: 0.9545  VAL-LOSS: 0.0291 VAL-ACC: 0.9895 \n"
          ]
        },
        {
          "output_type": "stream",
          "name": "stderr",
          "text": [
            "\r 24%|██▍       | 12/50 [00:36<01:54,  3.00s/it]"
          ]
        },
        {
          "output_type": "stream",
          "name": "stdout",
          "text": [
            "EPOCH: 12/50 LOSS: 0.1050 ACC: 0.9595  VAL-LOSS: 0.0253 VAL-ACC: 0.9950 \n"
          ]
        },
        {
          "output_type": "stream",
          "name": "stderr",
          "text": [
            "\r 26%|██▌       | 13/50 [00:39<01:49,  2.97s/it]"
          ]
        },
        {
          "output_type": "stream",
          "name": "stdout",
          "text": [
            "EPOCH: 13/50 LOSS: 0.1357 ACC: 0.9545  VAL-LOSS: 0.0199 VAL-ACC: 0.9940 \n"
          ]
        },
        {
          "output_type": "stream",
          "name": "stderr",
          "text": [
            "\r 28%|██▊       | 14/50 [00:43<01:51,  3.10s/it]"
          ]
        },
        {
          "output_type": "stream",
          "name": "stdout",
          "text": [
            "EPOCH: 14/50 LOSS: 0.0876 ACC: 0.9695  VAL-LOSS: 0.0165 VAL-ACC: 0.9965 \n"
          ]
        },
        {
          "output_type": "stream",
          "name": "stderr",
          "text": [
            "\r 30%|███       | 15/50 [00:45<01:47,  3.06s/it]"
          ]
        },
        {
          "output_type": "stream",
          "name": "stdout",
          "text": [
            "EPOCH: 15/50 LOSS: 0.1000 ACC: 0.9633  VAL-LOSS: 0.0119 VAL-ACC: 0.9975 \n"
          ]
        },
        {
          "output_type": "stream",
          "name": "stderr",
          "text": [
            "\r 32%|███▏      | 16/50 [00:48<01:42,  3.01s/it]"
          ]
        },
        {
          "output_type": "stream",
          "name": "stdout",
          "text": [
            "EPOCH: 16/50 LOSS: 0.1029 ACC: 0.9659  VAL-LOSS: 0.0187 VAL-ACC: 0.9965 \n"
          ]
        },
        {
          "output_type": "stream",
          "name": "stderr",
          "text": [
            "\r 34%|███▍      | 17/50 [00:51<01:37,  2.96s/it]"
          ]
        },
        {
          "output_type": "stream",
          "name": "stdout",
          "text": [
            "EPOCH: 17/50 LOSS: 0.0921 ACC: 0.9679  VAL-LOSS: 0.0121 VAL-ACC: 0.9985 \n"
          ]
        },
        {
          "output_type": "stream",
          "name": "stderr",
          "text": [
            "\r 36%|███▌      | 18/50 [00:55<01:43,  3.24s/it]"
          ]
        },
        {
          "output_type": "stream",
          "name": "stdout",
          "text": [
            "EPOCH: 18/50 LOSS: 0.0824 ACC: 0.9715  VAL-LOSS: 0.0157 VAL-ACC: 0.9975 \n"
          ]
        },
        {
          "output_type": "stream",
          "name": "stderr",
          "text": [
            "\r 38%|███▊      | 19/50 [00:58<01:39,  3.22s/it]"
          ]
        },
        {
          "output_type": "stream",
          "name": "stdout",
          "text": [
            "EPOCH: 19/50 LOSS: 0.0944 ACC: 0.9660  VAL-LOSS: 0.0184 VAL-ACC: 0.9970 \n"
          ]
        },
        {
          "output_type": "stream",
          "name": "stderr",
          "text": [
            "\r 40%|████      | 20/50 [01:01<01:33,  3.12s/it]"
          ]
        },
        {
          "output_type": "stream",
          "name": "stdout",
          "text": [
            "EPOCH: 20/50 LOSS: 0.0961 ACC: 0.9684  VAL-LOSS: 0.0160 VAL-ACC: 0.9965 \n"
          ]
        },
        {
          "output_type": "stream",
          "name": "stderr",
          "text": [
            "\r 42%|████▏     | 21/50 [01:04<01:28,  3.04s/it]"
          ]
        },
        {
          "output_type": "stream",
          "name": "stdout",
          "text": [
            "EPOCH: 21/50 LOSS: 0.0987 ACC: 0.9688  VAL-LOSS: 0.0176 VAL-ACC: 0.9965 \n"
          ]
        },
        {
          "output_type": "stream",
          "name": "stderr",
          "text": [
            "\r 44%|████▍     | 22/50 [01:07<01:24,  3.02s/it]"
          ]
        },
        {
          "output_type": "stream",
          "name": "stdout",
          "text": [
            "EPOCH: 22/50 LOSS: 0.0885 ACC: 0.9701  VAL-LOSS: 0.0129 VAL-ACC: 0.9970 \n"
          ]
        },
        {
          "output_type": "stream",
          "name": "stderr",
          "text": [
            "\r 46%|████▌     | 23/50 [01:10<01:25,  3.15s/it]"
          ]
        },
        {
          "output_type": "stream",
          "name": "stdout",
          "text": [
            "EPOCH: 23/50 LOSS: 0.0680 ACC: 0.9767  VAL-LOSS: 0.0130 VAL-ACC: 0.9970 \n"
          ]
        },
        {
          "output_type": "stream",
          "name": "stderr",
          "text": [
            "\r 48%|████▊     | 24/50 [01:13<01:19,  3.07s/it]"
          ]
        },
        {
          "output_type": "stream",
          "name": "stdout",
          "text": [
            "EPOCH: 24/50 LOSS: 0.0771 ACC: 0.9736  VAL-LOSS: 0.0206 VAL-ACC: 0.9920 \n"
          ]
        },
        {
          "output_type": "stream",
          "name": "stderr",
          "text": [
            "\r 50%|█████     | 25/50 [01:16<01:15,  3.01s/it]"
          ]
        },
        {
          "output_type": "stream",
          "name": "stdout",
          "text": [
            "EPOCH: 25/50 LOSS: 0.0747 ACC: 0.9732  VAL-LOSS: 0.0175 VAL-ACC: 0.9930 \n"
          ]
        },
        {
          "output_type": "stream",
          "name": "stderr",
          "text": [
            "\r 52%|█████▏    | 26/50 [01:19<01:10,  2.96s/it]"
          ]
        },
        {
          "output_type": "stream",
          "name": "stdout",
          "text": [
            "EPOCH: 26/50 LOSS: 0.0923 ACC: 0.9683  VAL-LOSS: 0.0157 VAL-ACC: 0.9955 \n"
          ]
        },
        {
          "output_type": "stream",
          "name": "stderr",
          "text": [
            "\r 54%|█████▍    | 27/50 [01:22<01:11,  3.10s/it]"
          ]
        },
        {
          "output_type": "stream",
          "name": "stdout",
          "text": [
            "EPOCH: 27/50 LOSS: 0.0934 ACC: 0.9697  VAL-LOSS: 0.0191 VAL-ACC: 0.9930 \n"
          ]
        },
        {
          "output_type": "stream",
          "name": "stderr",
          "text": [
            "\r 56%|█████▌    | 28/50 [01:25<01:07,  3.07s/it]"
          ]
        },
        {
          "output_type": "stream",
          "name": "stdout",
          "text": [
            "EPOCH: 28/50 LOSS: 0.0799 ACC: 0.9724  VAL-LOSS: 0.0178 VAL-ACC: 0.9950 \n"
          ]
        },
        {
          "output_type": "stream",
          "name": "stderr",
          "text": [
            "\r 58%|█████▊    | 29/50 [01:28<01:03,  3.01s/it]"
          ]
        },
        {
          "output_type": "stream",
          "name": "stdout",
          "text": [
            "EPOCH: 29/50 LOSS: 0.0661 ACC: 0.9763  VAL-LOSS: 0.0110 VAL-ACC: 0.9970 \n"
          ]
        },
        {
          "output_type": "stream",
          "name": "stderr",
          "text": [
            "\r 60%|██████    | 30/50 [01:31<00:59,  2.98s/it]"
          ]
        },
        {
          "output_type": "stream",
          "name": "stdout",
          "text": [
            "EPOCH: 30/50 LOSS: 0.0980 ACC: 0.9688  VAL-LOSS: 0.0116 VAL-ACC: 0.9975 \n"
          ]
        },
        {
          "output_type": "stream",
          "name": "stderr",
          "text": [
            "\r 62%|██████▏   | 31/50 [01:34<00:57,  3.04s/it]"
          ]
        },
        {
          "output_type": "stream",
          "name": "stdout",
          "text": [
            "EPOCH: 31/50 LOSS: 0.0742 ACC: 0.9748  VAL-LOSS: 0.0172 VAL-ACC: 0.9965 \n"
          ]
        },
        {
          "output_type": "stream",
          "name": "stderr",
          "text": [
            "\r 64%|██████▍   | 32/50 [01:38<00:56,  3.13s/it]"
          ]
        },
        {
          "output_type": "stream",
          "name": "stdout",
          "text": [
            "EPOCH: 32/50 LOSS: 0.0934 ACC: 0.9715  VAL-LOSS: 0.0196 VAL-ACC: 0.9950 \n"
          ]
        },
        {
          "output_type": "stream",
          "name": "stderr",
          "text": [
            "\r 66%|██████▌   | 33/50 [01:41<00:51,  3.05s/it]"
          ]
        },
        {
          "output_type": "stream",
          "name": "stdout",
          "text": [
            "EPOCH: 33/50 LOSS: 0.0729 ACC: 0.9712  VAL-LOSS: 0.0157 VAL-ACC: 0.9970 \n"
          ]
        },
        {
          "output_type": "stream",
          "name": "stderr",
          "text": [
            "\r 68%|██████▊   | 34/50 [01:43<00:47,  2.99s/it]"
          ]
        },
        {
          "output_type": "stream",
          "name": "stdout",
          "text": [
            "EPOCH: 34/50 LOSS: 0.0593 ACC: 0.9792  VAL-LOSS: 0.0129 VAL-ACC: 0.9955 \n"
          ]
        },
        {
          "output_type": "stream",
          "name": "stderr",
          "text": [
            "\r 70%|███████   | 35/50 [01:46<00:44,  2.96s/it]"
          ]
        },
        {
          "output_type": "stream",
          "name": "stdout",
          "text": [
            "EPOCH: 35/50 LOSS: 0.0799 ACC: 0.9756  VAL-LOSS: 0.0119 VAL-ACC: 0.9955 \n"
          ]
        },
        {
          "output_type": "stream",
          "name": "stderr",
          "text": [
            "\r 72%|███████▏  | 36/50 [01:50<00:44,  3.16s/it]"
          ]
        },
        {
          "output_type": "stream",
          "name": "stdout",
          "text": [
            "EPOCH: 36/50 LOSS: 0.0673 ACC: 0.9764  VAL-LOSS: 0.0122 VAL-ACC: 0.9945 \n"
          ]
        },
        {
          "output_type": "stream",
          "name": "stderr",
          "text": [
            "\r 74%|███████▍  | 37/50 [01:53<00:40,  3.08s/it]"
          ]
        },
        {
          "output_type": "stream",
          "name": "stdout",
          "text": [
            "EPOCH: 37/50 LOSS: 0.0861 ACC: 0.9727  VAL-LOSS: 0.0725 VAL-ACC: 0.9955 \n"
          ]
        },
        {
          "output_type": "stream",
          "name": "stderr",
          "text": [
            "\r 76%|███████▌  | 38/50 [01:56<00:36,  3.03s/it]"
          ]
        },
        {
          "output_type": "stream",
          "name": "stdout",
          "text": [
            "EPOCH: 38/50 LOSS: 0.0640 ACC: 0.9777  VAL-LOSS: 0.0170 VAL-ACC: 0.9965 \n"
          ]
        },
        {
          "output_type": "stream",
          "name": "stderr",
          "text": [
            "\r 78%|███████▊  | 39/50 [01:59<00:32,  2.98s/it]"
          ]
        },
        {
          "output_type": "stream",
          "name": "stdout",
          "text": [
            "EPOCH: 39/50 LOSS: 0.0837 ACC: 0.9760  VAL-LOSS: 0.1140 VAL-ACC: 0.9970 \n"
          ]
        },
        {
          "output_type": "stream",
          "name": "stderr",
          "text": [
            "\r 80%|████████  | 40/50 [02:02<00:30,  3.08s/it]"
          ]
        },
        {
          "output_type": "stream",
          "name": "stdout",
          "text": [
            "EPOCH: 40/50 LOSS: 0.0718 ACC: 0.9764  VAL-LOSS: 0.0253 VAL-ACC: 0.9940 \n"
          ]
        },
        {
          "output_type": "stream",
          "name": "stderr",
          "text": [
            "\r 82%|████████▏ | 41/50 [02:05<00:27,  3.11s/it]"
          ]
        },
        {
          "output_type": "stream",
          "name": "stdout",
          "text": [
            "EPOCH: 41/50 LOSS: 0.0737 ACC: 0.9757  VAL-LOSS: 0.0125 VAL-ACC: 0.9970 \n"
          ]
        },
        {
          "output_type": "stream",
          "name": "stderr",
          "text": [
            "\r 84%|████████▍ | 42/50 [02:08<00:24,  3.02s/it]"
          ]
        },
        {
          "output_type": "stream",
          "name": "stdout",
          "text": [
            "EPOCH: 42/50 LOSS: 0.0792 ACC: 0.9737  VAL-LOSS: 0.0128 VAL-ACC: 0.9975 \n"
          ]
        },
        {
          "output_type": "stream",
          "name": "stderr",
          "text": [
            "\r 86%|████████▌ | 43/50 [02:11<00:20,  2.96s/it]"
          ]
        },
        {
          "output_type": "stream",
          "name": "stdout",
          "text": [
            "EPOCH: 43/50 LOSS: 0.0767 ACC: 0.9763  VAL-LOSS: 0.0143 VAL-ACC: 0.9955 \n"
          ]
        },
        {
          "output_type": "stream",
          "name": "stderr",
          "text": [
            "\r 88%|████████▊ | 44/50 [02:14<00:17,  2.95s/it]"
          ]
        },
        {
          "output_type": "stream",
          "name": "stdout",
          "text": [
            "EPOCH: 44/50 LOSS: 0.0592 ACC: 0.9784  VAL-LOSS: 0.0106 VAL-ACC: 0.9980 \n"
          ]
        },
        {
          "output_type": "stream",
          "name": "stderr",
          "text": [
            "\r 90%|█████████ | 45/50 [02:17<00:15,  3.10s/it]"
          ]
        },
        {
          "output_type": "stream",
          "name": "stdout",
          "text": [
            "EPOCH: 45/50 LOSS: 0.0616 ACC: 0.9797  VAL-LOSS: 0.0087 VAL-ACC: 0.9985 \n"
          ]
        },
        {
          "output_type": "stream",
          "name": "stderr",
          "text": [
            "\r 92%|█████████▏| 46/50 [02:20<00:12,  3.02s/it]"
          ]
        },
        {
          "output_type": "stream",
          "name": "stdout",
          "text": [
            "EPOCH: 46/50 LOSS: 0.0943 ACC: 0.9717  VAL-LOSS: 0.0158 VAL-ACC: 0.9955 \n"
          ]
        },
        {
          "output_type": "stream",
          "name": "stderr",
          "text": [
            "\r 94%|█████████▍| 47/50 [02:23<00:08,  2.96s/it]"
          ]
        },
        {
          "output_type": "stream",
          "name": "stdout",
          "text": [
            "EPOCH: 47/50 LOSS: 0.0642 ACC: 0.9787  VAL-LOSS: 0.0135 VAL-ACC: 0.9970 \n"
          ]
        },
        {
          "output_type": "stream",
          "name": "stderr",
          "text": [
            "\r 96%|█████████▌| 48/50 [02:26<00:05,  2.92s/it]"
          ]
        },
        {
          "output_type": "stream",
          "name": "stdout",
          "text": [
            "EPOCH: 48/50 LOSS: 0.0702 ACC: 0.9783  VAL-LOSS: 0.0114 VAL-ACC: 0.9975 \n"
          ]
        },
        {
          "output_type": "stream",
          "name": "stderr",
          "text": [
            "\r 98%|█████████▊| 49/50 [02:29<00:03,  3.05s/it]"
          ]
        },
        {
          "output_type": "stream",
          "name": "stdout",
          "text": [
            "EPOCH: 49/50 LOSS: 0.0871 ACC: 0.9732  VAL-LOSS: 0.0101 VAL-ACC: 0.9970 \n"
          ]
        },
        {
          "output_type": "stream",
          "name": "stderr",
          "text": [
            "100%|██████████| 50/50 [02:32<00:00,  3.05s/it]"
          ]
        },
        {
          "output_type": "stream",
          "name": "stdout",
          "text": [
            "EPOCH: 50/50 LOSS: 0.0700 ACC: 0.9776  VAL-LOSS: 0.0116 VAL-ACC: 0.9975 \n"
          ]
        },
        {
          "output_type": "stream",
          "name": "stderr",
          "text": [
            "\n"
          ]
        },
        {
          "output_type": "stream",
          "name": "stdout",
          "text": [
            "Accuracy on train data 0.9964000000000001\n",
            "Accuracy on validation data 0.9975\n",
            "Accuracy on test data 1.0\n"
          ]
        },
        {
          "output_type": "display_data",
          "data": {
            "text/plain": [
              "<Figure size 1200x300 with 2 Axes>"
            ],
            "image/png": "[encoded data removed]"
          },
          "metadata": {}
        }
      ]
    },
    {
      "cell_type": "markdown",
      "id": "1e988bc2-6ba1-49cd-ae26-6feea8ad2776",
      "metadata": {
        "id": "1e988bc2-6ba1-49cd-ae26-6feea8ad2776"
      },
      "source": [
        "# Task 2: Carpet Matching "
      ]
    },
    {
      "cell_type": "code",
      "execution_count": 18,
      "id": "20a2ce3a-4c8c-4f1f-9a29-113063ce7f74",
      "metadata": {
        "id": "20a2ce3a-4c8c-4f1f-9a29-113063ce7f74",
        "colab": {
          "base_uri": "https://localhost:8080/"
        },
        "outputId": "efb32f99-6726-46d2-d5a4-0a015f88289c"
      },
      "outputs": [
        {
          "output_type": "stream",
          "name": "stdout",
          "text": [
            "Carpet train shape: (15000, 1, 96, 60)\n",
            "Label train shape: (15000,)\n",
            "Ground truth test shape: (300,)\n",
            "Query carpets shape: (300, 1, 96, 60)\n",
            "Candidate carpets shape: (300, 4, 1, 96, 60)\n"
          ]
        }
      ],
      "source": [
        "# loading training and testing data for task 2\n",
        "# DO NOT MODIFY\n",
        "task2 = load_numpy_arr_from_url(\"https://github.com/vlamen/tue-deeplearning/blob/main/assignments/assignment_1/task2data.npz?raw=true\")\n",
        "# task2 = np.load('task2data.npz')\n",
        "\n",
        "X = task2['arr_0'].astype(float)\n",
        "y = task2['arr_1'].astype(float)\n",
        "gt = task2['arr_2'].astype(float) # ground truth\n",
        "queries = task2['arr_3'].astype(float)\n",
        "targets = task2['arr_4'].astype(float)\n",
        "\n",
        "print(f\"Carpet train shape: {X.shape}\")\n",
        "print(f\"Label train shape: {y.shape}\")\n",
        "print(f\"Ground truth test shape: {gt.shape}\")\n",
        "print(f\"Query carpets shape: {queries.shape}\")\n",
        "print(f\"Candidate carpets shape: {targets.shape}\")"
      ]
    },
    {
      "cell_type": "code",
      "execution_count": 19,
      "id": "fd0cc1db-e473-412e-b6b8-c95adc5438dd",
      "metadata": {
        "id": "fd0cc1db-e473-412e-b6b8-c95adc5438dd"
      },
      "outputs": [],
      "source": [
        "# function to determine performance of model\n",
        "def query_performance(queries, targets, gt, top=1):\n",
        "    assert top >= 1\n",
        "    cnt = 0\n",
        "    for i in range(gt.shape[0]):\n",
        "\n",
        "        q = torch.from_numpy(queries[i][None]).float().cuda()\n",
        "        t = torch.from_numpy(targets[i]).float().cuda()\n",
        "\n",
        "        with torch.no_grad():\n",
        "            \n",
        "            \n",
        "            ### MODIFY IF NECESSARY ###\n",
        "            emb_q = net.forward_once(q).cpu().numpy()\n",
        "            emb_t = net.forward_once(t).cpu().numpy()\n",
        "\n",
        "            dists = cdist(emb_q, emb_t)\n",
        "            \n",
        "            if top == 1:\n",
        "                pred = np.argmin(dists)\n",
        "\n",
        "                if pred == gt[i]:\n",
        "                    cnt += 1\n",
        "            \n",
        "            else:\n",
        "                pred = np.argsort(dists)\n",
        "                if gt[i] in pred[0,:top].tolist():\n",
        "                    cnt+=1\n",
        "    return (100*cnt/gt.shape[0])"
      ]
    },
    {
      "cell_type": "code",
      "source": [
        "###     YOUR CODE FOR TASK 2    ###\n",
        "from scipy.spatial.distance import cdist\n",
        "import torch.nn.functional as F\n",
        "\n",
        "class SiameseModel(nn.Module):\n",
        "    def __init__(self):\n",
        "        super().__init__()\n",
        "        self.symslice = sc.Slice(rotation=4, reflection=False)\n",
        "        self.symconv1 = sc.SymmetryConv2d(in_filters=1, out_filters=32, kernel_size=4, stride=4,\\\n",
        "                                         bias=True, rotation=4, reflection=False)\n",
        "        self.symconv2 = sc.SymmetryConv2d(in_filters=32, out_filters=64, kernel_size=3, stride=3, \\\n",
        "                                         bias=True, rotation=4, reflection=False)\n",
        "        self.sympool = sc.SymmetryPool(pool=torch.mean)\n",
        "        self.batchnorm1 = nn.BatchNorm2d(64)\n",
        "        self.fc1 = nn.Linear(64*8*5, 1024)\n",
        "        self.batchnorm2 = nn.BatchNorm1d(1024)\n",
        "        self.fc2 = nn.Linear(1024, 2048)\n",
        "        self.dropout = nn.Dropout(0.5)\n",
        "\n",
        "    def forward_once(self, x):\n",
        "        x = self.symslice(x)\n",
        "        x = F.relu(self.symconv1(x))\n",
        "        x = F.relu(self.symconv2(x))\n",
        "        x = self.sympool(x)\n",
        "        x = self.batchnorm1(x)\n",
        "        x = x.view(x.size(0), -1)\n",
        "        x = self.dropout(x)\n",
        "        x = F.relu(self.batchnorm2(self.fc1(x)))\n",
        "        x = self.dropout(x)\n",
        "        x = self.fc2(x)\n",
        "        return x\n",
        "  \n",
        "    def forward(self, x1, x2):\n",
        "      output1 = self.forward_once(x1)\n",
        "      output2 = self.forward_once(x2)\n",
        "      return output1, output2"
      ],
      "metadata": {
        "id": "48mb4vH_zISS"
      },
      "id": "48mb4vH_zISS",
      "execution_count": 20,
      "outputs": []
    },
    {
      "cell_type": "code",
      "source": [
        "import random\n",
        "\n",
        "class SiameseDataset(Dataset):\n",
        "    def __init__(self, X, y):\n",
        "        self.X = X\n",
        "        self.y = y\n",
        "        \n",
        "    def __getitem__(self,index):\n",
        "        index0 = random.randint(0, len(self.X)-1)\n",
        "        dissimilar = random.randint(0,1)\n",
        "\n",
        "        if dissimilar:\n",
        "            dissimilar_indices = np.where(self.y != self.y[index0])[0]\n",
        "            index1 = random.choice(dissimilar_indices)\n",
        "            img0 = self.X[index0]\n",
        "            img1 = self.X[index1]\n",
        "\n",
        "        else:\n",
        "            similar_indices = np.where(self.y == self.y[index0])[0]\n",
        "            index1 = random.choice(similar_indices)\n",
        "            img0 = self.X[index0]\n",
        "            img1 = self.X[index1]\n",
        "        \n",
        "        return img0, img1, dissimilar\n",
        "    \n",
        "    def __len__(self):\n",
        "        return len(self.X)\n",
        "\n",
        "# Define the Contrastive Loss Function\n",
        "class ContrastiveLoss(torch.nn.Module):\n",
        "    \"\"\"\n",
        "    Contrastive loss function.\n",
        "    Based on:\n",
        "    \"\"\"\n",
        "\n",
        "    def __init__(self, margin=1.0):\n",
        "        super(ContrastiveLoss, self).__init__()\n",
        "        self.margin = margin\n",
        "\n",
        "    def forward(self, x0, x1, y):\n",
        "        # euclidian distance\n",
        "        diff = x0 - x1\n",
        "        dist_sq = torch.sum(torch.pow(diff, 2), 1)\n",
        "        dist = torch.sqrt(dist_sq)\n",
        "\n",
        "        mdist = self.margin - dist\n",
        "        dist = torch.clamp(mdist, min=0.0)\n",
        "        loss = y * dist_sq + (1 - y) * torch.pow(dist, 2)\n",
        "        loss = torch.sum(loss) / 2.0 / x0.size()[0]\n",
        "        return loss"
      ],
      "metadata": {
        "id": "ByPwEBPyS1le"
      },
      "id": "ByPwEBPyS1le",
      "execution_count": 21,
      "outputs": []
    },
    {
      "cell_type": "code",
      "source": [
        "def train(train_dataloader):\n",
        "\n",
        "    loss = []\n",
        "    counter = []\n",
        "    iteration_number = 0\n",
        "    \n",
        "    # Iterate over batches\n",
        "    for i, (img0, img1, label) in enumerate(train_dataloader, 0):\n",
        "\n",
        "        # Send the images and labels to CUDA\n",
        "        img0, img1, label = img0.float().cuda(), img1.float().cuda(), label.cuda()\n",
        "\n",
        "        # Zero the gradients\n",
        "        optimizer.zero_grad()\n",
        "\n",
        "        # Pass in the two images into the network and obtain two outputs\n",
        "        output1, output2 = net(img0, img1)\n",
        "\n",
        "        # Pass the outputs of the networks and label into the loss function\n",
        "        loss_contrastive = criterion(output1, output2, label)\n",
        "\n",
        "        # Calculate the backpropagation\n",
        "        loss_contrastive.backward()\n",
        "\n",
        "        # Optimize\n",
        "        optimizer.step()\n",
        "        \n",
        "        loss.append(loss_contrastive.item())\n",
        "    loss = np.array(loss)\n",
        "    return loss.mean()\n",
        "\n",
        "def validate(val_dataloader):\n",
        "    model.eval()\n",
        "    with torch.no_grad():\n",
        "        loss = []\n",
        "        counter = []\n",
        "        iteration_number = 0\n",
        "        \n",
        "        # Iterate over batches\n",
        "        for i, (img0, img1, label) in enumerate(val_dataloader, 0):\n",
        "\n",
        "            # Send the images and labels to CUDA\n",
        "            img0, img1, label = img0.float().cuda(), img1.float().cuda(), label.cuda()\n",
        "\n",
        "            # Pass in the two images into the network and obtain two outputs\n",
        "            output1, output2 = net(img0, img1)\n",
        "\n",
        "            # Pass the outputs of the networks and label into the loss function\n",
        "            loss_contrastive = criterion(output1, output2, label)\n",
        "            \n",
        "            loss.append(loss_contrastive.item())\n",
        "    loss = np.array(loss)\n",
        "    return loss.mean()"
      ],
      "metadata": {
        "id": "LrF2pbb0TJtB"
      },
      "id": "LrF2pbb0TJtB",
      "execution_count": 22,
      "outputs": []
    },
    {
      "cell_type": "code",
      "source": [
        "# function to determine performance of model\n",
        "def query_performance(queries, targets, gt, top=1):\n",
        "    assert top >= 1\n",
        "    cnt = 0\n",
        "    for i in range(gt.shape[0]):\n",
        "\n",
        "        q = torch.from_numpy(queries[i][None]).float().cuda()\n",
        "        t = torch.from_numpy(targets[i]).float().cuda()\n",
        "\n",
        "        with torch.no_grad():\n",
        "            ### MODIFY IF NECESSARY ###\n",
        "            net.eval()\n",
        "            emb_q = net.forward_once(q).cpu().numpy()\n",
        "            emb_t = net.forward_once(t).cpu().numpy()\n",
        "\n",
        "            dists = cdist(emb_q, emb_t)\n",
        "            \n",
        "            if top == 1:\n",
        "                pred = np.argmin(dists)\n",
        "\n",
        "                if pred == gt[i]:\n",
        "                    cnt += 1\n",
        "            \n",
        "            else:\n",
        "                pred = np.argsort(dists)\n",
        "                if gt[i] in pred[0,:top].tolist():\n",
        "                    cnt+=1\n",
        "    return (100*cnt/gt.shape[0])"
      ],
      "metadata": {
        "id": "84sWH_IcZQer"
      },
      "id": "84sWH_IcZQer",
      "execution_count": 23,
      "outputs": []
    },
    {
      "cell_type": "code",
      "source": [
        "torch.manual_seed(8)\n",
        "torch.cuda.manual_seed(8)\n",
        "torch.backends.cudnn.deterministic=True\n",
        "random.seed(8)\n",
        "np.random.seed(8)\n",
        "\n",
        "# Split the dataset into training and validation sets\n",
        "carpets = torch.Tensor(X)\n",
        "labels = torch.Tensor(y)\n",
        "\n",
        "train_size = int(0.8 * len(carpets))\n",
        "train_carpets = carpets[:train_size]\n",
        "train_labels = labels[:train_size]\n",
        "val_carpets = carpets[train_size:]\n",
        "val_labels = labels[train_size:]\n",
        "\n",
        "train_dataset = TensorDataset(train_carpets, train_labels)\n",
        "val_dataset = TensorDataset(val_carpets, val_labels)\n",
        "siam_dataset_train = SiameseDataset(train_carpets, train_labels)\n",
        "siam_dataset_val = SiameseDataset(val_carpets, val_labels)\n",
        "\n",
        "train_loader = DataLoader(train_dataset, batch_size=32, shuffle=True)\n",
        "val_loader = DataLoader(val_dataset, batch_size=32, shuffle=True)\n",
        "siam_train_loader = DataLoader(siam_dataset_train, batch_size=32, shuffle=True)\n",
        "siam_val_loader = DataLoader(siam_dataset_val, batch_size=32, shuffle=True)\n",
        "\n",
        "# Initialize model\n",
        "model2 = SiameseModel()\n",
        "# model2.symslice.load_state_dict(model.symslice.state_dict())\n",
        "# model2.symconv1.load_state_dict(model.symconv1.state_dict())\n",
        "# model2.symconv2.load_state_dict(model.symconv2.state_dict())\n",
        "# model2.sympool.load_state_dict(model.sympool.state_dict())\n",
        "# model2.fc1.load_state_dict(model.fc1.state_dict())\n",
        "\n",
        "net = model2.cuda()\n",
        "criterion = ContrastiveLoss().cuda()\n",
        "optimizer = optim.Adam(net.parameters(), lr = 1e-3, weight_decay =0.0005)\n",
        "\n",
        "train_losses = []\n",
        "eval_losses = []\n",
        "\n",
        "for epoch in range(100):\n",
        "    best_eval_loss = 9999\n",
        "    train_loss = train(siam_train_loader)\n",
        "    eval_loss = validate(siam_val_loader)\n",
        "\n",
        "    print(f\"Training loss: {train_loss}\")\n",
        "    print(\"-\"*20)\n",
        "\n",
        "    if eval_loss<best_eval_loss:\n",
        "      best_eval_loss = eval_loss\n",
        "      torch.save(net.state_dict(), \"lastone.pth\")\n",
        "\n",
        "    train_losses.append(train_loss)\n",
        "    eval_losses.append(eval_loss)"
      ],
      "metadata": {
        "colab": {
          "base_uri": "https://localhost:8080/"
        },
        "id": "V39tnHqKTPSG",
        "outputId": "64c227f7-59d8-431c-c5b3-a4086fd70197"
      },
      "id": "V39tnHqKTPSG",
      "execution_count": 24,
      "outputs": [
        {
          "output_type": "stream",
          "name": "stdout",
          "text": [
            "Training loss: 0.15702055032518175\n",
            "--------------------\n",
            "Training loss: 0.0035686897003385756\n",
            "--------------------\n",
            "Training loss: 0.0005071188866827223\n",
            "--------------------\n",
            "Training loss: 0.0007010897109773424\n",
            "--------------------\n",
            "Training loss: 0.0030047780157725014\n",
            "--------------------\n",
            "Training loss: 0.011830160764482286\n",
            "--------------------\n",
            "Training loss: 0.002759042876561483\n",
            "--------------------\n",
            "Training loss: 0.001330899451467726\n",
            "--------------------\n",
            "Training loss: 0.002404206242243449\n",
            "--------------------\n",
            "Training loss: 0.0014509322027630276\n",
            "--------------------\n",
            "Training loss: 0.0012706737037234835\n",
            "--------------------\n",
            "Training loss: 0.0011100666037665474\n",
            "--------------------\n",
            "Training loss: 0.0008199539640214708\n",
            "--------------------\n",
            "Training loss: 0.0006097860894203186\n",
            "--------------------\n",
            "Training loss: 0.0005348182871076796\n",
            "--------------------\n",
            "Training loss: 0.0004626488856209649\n",
            "--------------------\n",
            "Training loss: 0.00041282296493318346\n",
            "--------------------\n",
            "Training loss: 0.0003850673014852736\n",
            "--------------------\n",
            "Training loss: 0.0003740949267811245\n",
            "--------------------\n",
            "Training loss: 0.000369526375134786\n",
            "--------------------\n",
            "Training loss: 0.00037457152006361216\n",
            "--------------------\n",
            "Training loss: 0.0003661309089130826\n",
            "--------------------\n",
            "Training loss: 0.0003692964062690735\n",
            "--------------------\n",
            "Training loss: 0.000373602426317003\n",
            "--------------------\n",
            "Training loss: 0.0003696130285263062\n",
            "--------------------\n",
            "Training loss: 0.0003702325665156046\n",
            "--------------------\n",
            "Training loss: 0.00036901686435275604\n",
            "--------------------\n",
            "Training loss: 0.00036851163382000394\n",
            "--------------------\n",
            "Training loss: 0.00036861025847329036\n",
            "--------------------\n",
            "Training loss: 0.00036787244929207695\n",
            "--------------------\n",
            "Training loss: 0.0003657912700441148\n",
            "--------------------\n",
            "Training loss: 0.0003657471827401055\n",
            "--------------------\n",
            "Training loss: 0.00036867319573296437\n",
            "--------------------\n",
            "Training loss: 0.00036818034081988866\n",
            "--------------------\n",
            "Training loss: 0.0003635042723019917\n",
            "--------------------\n",
            "Training loss: 0.00036388251399993896\n",
            "--------------------\n",
            "Training loss: 0.0003608455968962775\n",
            "--------------------\n",
            "Training loss: 0.00036022148111131456\n",
            "--------------------\n",
            "Training loss: 0.0003563491931491428\n",
            "--------------------\n",
            "Training loss: 0.00035600539588928224\n",
            "--------------------\n",
            "Training loss: 0.0003566652906205919\n",
            "--------------------\n",
            "Training loss: 0.00035233320130242246\n",
            "--------------------\n",
            "Training loss: 0.0003523988708919949\n",
            "--------------------\n",
            "Training loss: 0.0003506846013069153\n",
            "--------------------\n",
            "Training loss: 0.0003477126944859822\n",
            "--------------------\n",
            "Training loss: 0.0003464103611310323\n",
            "--------------------\n",
            "Training loss: 0.0003494330716662937\n",
            "--------------------\n",
            "Training loss: 0.000346079078886244\n",
            "--------------------\n",
            "Training loss: 0.00034582330910364783\n",
            "--------------------\n",
            "Training loss: 0.0003471088638835483\n",
            "--------------------\n",
            "Training loss: 0.00034602824121051365\n",
            "--------------------\n",
            "Training loss: 0.000343217867480384\n",
            "--------------------\n",
            "Training loss: 0.0003455845552020603\n",
            "--------------------\n",
            "Training loss: 0.0003432858224974738\n",
            "--------------------\n",
            "Training loss: 0.0003457234888606601\n",
            "--------------------\n",
            "Training loss: 0.0003457790611055162\n",
            "--------------------\n",
            "Training loss: 0.00034543239916695487\n",
            "--------------------\n",
            "Training loss: 0.0003458040192921956\n",
            "--------------------\n",
            "Training loss: 0.0003447344463136461\n",
            "--------------------\n",
            "Training loss: 0.0003434540411101447\n",
            "--------------------\n",
            "Training loss: 0.00034413662428326076\n",
            "--------------------\n",
            "Training loss: 0.00034162729284498427\n",
            "--------------------\n",
            "Training loss: 0.00034436684380637273\n",
            "--------------------\n",
            "Training loss: 0.000344024675210317\n",
            "--------------------\n",
            "Training loss: 0.00034464399215910173\n",
            "--------------------\n",
            "Training loss: 0.0003444565668635898\n",
            "--------------------\n",
            "Training loss: 0.00034278101433648\n",
            "--------------------\n",
            "Training loss: 0.0003456009128358629\n",
            "--------------------\n",
            "Training loss: 0.0003448164312574598\n",
            "--------------------\n",
            "Training loss: 0.00034468960841496784\n",
            "--------------------\n",
            "Training loss: 0.0003460497850841946\n",
            "--------------------\n",
            "Training loss: 0.0003462964075936212\n",
            "--------------------\n",
            "Training loss: 0.0003440389590263367\n",
            "--------------------\n",
            "Training loss: 0.0003440149408976237\n",
            "--------------------\n",
            "Training loss: 0.00034584729894002273\n",
            "--------------------\n",
            "Training loss: 0.000345060829533471\n",
            "--------------------\n",
            "Training loss: 0.00034516321871015757\n",
            "--------------------\n",
            "Training loss: 0.00034482633797327676\n",
            "--------------------\n",
            "Training loss: 0.00034577386797799006\n",
            "--------------------\n",
            "Training loss: 0.0003447949703534444\n",
            "--------------------\n",
            "Training loss: 0.00034436664475335013\n",
            "--------------------\n",
            "Training loss: 0.00034335982990264894\n",
            "--------------------\n",
            "Training loss: 0.0003453809044096205\n",
            "--------------------\n",
            "Training loss: 0.00034623148584365845\n",
            "--------------------\n",
            "Training loss: 0.00034483860937754314\n",
            "--------------------\n",
            "Training loss: 0.0003443885409037272\n",
            "--------------------\n",
            "Training loss: 0.00034480075210995145\n",
            "--------------------\n",
            "Training loss: 0.0003436559199227227\n",
            "--------------------\n",
            "Training loss: 0.000342761044661204\n",
            "--------------------\n",
            "Training loss: 0.00034704924164877997\n",
            "--------------------\n",
            "Training loss: 0.0003445586797396342\n",
            "--------------------\n",
            "Training loss: 0.000344972941186693\n",
            "--------------------\n",
            "Training loss: 0.00034365810648600263\n",
            "--------------------\n",
            "Training loss: 0.00034710535807079736\n",
            "--------------------\n",
            "Training loss: 0.00034468216435114545\n",
            "--------------------\n",
            "Training loss: 0.0003454975267516242\n",
            "--------------------\n",
            "Training loss: 0.0003434855795436436\n",
            "--------------------\n",
            "Training loss: 0.0003469088447358873\n",
            "--------------------\n",
            "Training loss: 0.00034475038237041897\n",
            "--------------------\n",
            "Training loss: 0.0003444590016471015\n",
            "--------------------\n"
          ]
        }
      ]
    },
    {
      "cell_type": "code",
      "source": [
        "ep = [i+1 for i in range(len(train_losses))]\n",
        "fig, ax1 = plt.subplots(1,1)\n",
        "fig.suptitle(\"Training evaluation plots\")\n",
        "\n",
        "# Plot loss function\n",
        "ax1.plot(ep, train_losses, label='train')\n",
        "ax1.plot(ep, eval_losses, label='validation')\n",
        "ax1.set_title('Loss function')\n",
        "ax1.set_xlabel('Epochs')\n",
        "ax1.set_ylabel('Loss')\n",
        "ax1.legend();"
      ],
      "metadata": {
        "colab": {
          "base_uri": "https://localhost:8080/",
          "height": 497
        },
        "id": "rFr54SCJalnS",
        "outputId": "ac0f1ba1-004c-4ac2-db98-31694fc1e1a9"
      },
      "id": "rFr54SCJalnS",
      "execution_count": 25,
      "outputs": [
        {
          "output_type": "display_data",
          "data": {
            "text/plain": [
              "<Figure size 640x480 with 1 Axes>"
            ],
            "image/png": "[encoded data removed]"
          },
          "metadata": {}
        }
      ]
    },
    {
      "cell_type": "code",
      "source": [
        "# Load best model\n",
        "net.load_state_dict(torch.load('lastone.pth'))\n",
        "\n",
        "top1_accuracy = query_performance(queries, targets, gt, top=1)\n",
        "print(f\"Accuracy: {top1_accuracy:.2f}%\")\n",
        "top2_accuracy = query_performance(queries, targets, gt, top=2)\n",
        "print(f\"Accuracy: {top2_accuracy:.2f}%\")\n",
        "top3_accuracy = query_performance(queries, targets, gt, top=3)\n",
        "print(f\"Accuracy: {top3_accuracy:.2f}%\")"
      ],
      "metadata": {
        "colab": {
          "base_uri": "https://localhost:8080/"
        },
        "id": "mh565vp0V4G7",
        "outputId": "1e85a38b-c9c3-478c-8f53-75b78ca47b69"
      },
      "id": "mh565vp0V4G7",
      "execution_count": 26,
      "outputs": [
        {
          "output_type": "stream",
          "name": "stdout",
          "text": [
            "Accuracy: 43.33%\n",
            "Accuracy: 64.67%\n",
            "Accuracy: 77.00%\n"
          ]
        }
      ]
    }
  ],
  "metadata": {
    "colab": {
      "provenance": [],
      "gpuType": "T4"
    },
    "kernelspec": {
      "display_name": "Python 3",
      "name": "python3"
    },
    "language_info": {
      "codemirror_mode": {
        "name": "ipython",
        "version": 3
      },
      "file_extension": ".py",
      "mimetype": "text/x-python",
      "name": "python",
      "nbconvert_exporter": "python",
      "pygments_lexer": "ipython3",
      "version": "3.9.13"
    },
    "accelerator": "GPU"
  },
  "nbformat": 4,
  "nbformat_minor": 5
}